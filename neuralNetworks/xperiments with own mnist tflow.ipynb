{
 "cells": [
  {
   "cell_type": "code",
   "execution_count": 1,
   "metadata": {
    "collapsed": false
   },
   "outputs": [
    {
     "name": "stdout",
     "output_type": "stream",
     "text": [
      "i: 0\n",
      "i: 1000\n",
      "i: 2000\n",
      "i: 3000\n",
      "i: 4000\n",
      "i: 5000\n",
      "i: 6000\n",
      "i: 7000\n",
      "i: 8000\n",
      "i: 9000\n"
     ]
    }
   ],
   "source": [
    "from struct import unpack\n",
    "import gzip\n",
    "from numpy import zeros, uint8, float32\n",
    "\n",
    "def get_labeled_data():\n",
    "    \"\"\"Read input-vector (image) and target class (label, 0-9) and return\n",
    "       it as list of tuples.\n",
    "    \"\"\"\n",
    "    # Open the images with gzip in read binary mode\n",
    "    images = gzip.open('t10k-images-idx3-ubyte.gz', 'rb')\n",
    "    labels = gzip.open('t10k-labels-idx1-ubyte.gz', 'rb')\n",
    "\n",
    "    # Read the binary data\n",
    "\n",
    "    # We have to get big endian unsigned int. So we need '>I'\n",
    "\n",
    "    # Get metadata for images\n",
    "    images.read(4)  # skip the magic_number\n",
    "    number_of_images = images.read(4)\n",
    "    number_of_images = unpack('>I', number_of_images)[0]\n",
    "    rows = images.read(4)\n",
    "    rows = unpack('>I', rows)[0]\n",
    "    cols = images.read(4)\n",
    "    cols = unpack('>I', cols)[0]\n",
    "\n",
    "    # Get metadata for labels\n",
    "    labels.read(4)  # skip the magic_number\n",
    "    N = labels.read(4)\n",
    "    N = unpack('>I', N)[0]\n",
    "\n",
    "    if number_of_images != N:\n",
    "        raise Exception('number of labels did not match the number of images')\n",
    "\n",
    "    # Get the data\n",
    "    x = zeros((N, rows, cols), dtype=float32)  # Initialize numpy array\n",
    "    y = zeros((N, 1), dtype=uint8)  # Initialize numpy array\n",
    "    for i in range(N):\n",
    "        if i % 1000 == 0:\n",
    "            print(\"i: %i\" % i)\n",
    "        for row in range(rows):\n",
    "            for col in range(cols):\n",
    "                tmp_pixel = images.read(1)  # Just a single byte\n",
    "                tmp_pixel = unpack('>B', tmp_pixel)[0]\n",
    "                x[i][row][col] = tmp_pixel\n",
    "        tmp_label = labels.read(1)\n",
    "        y[i] = unpack('>B', tmp_label)[0]\n",
    "    return (x, y)\n",
    "x_train, y_train = get_labeled_data(5,5)"
   ]
  },
  {
   "cell_type": "code",
   "execution_count": 2,
   "metadata": {
    "collapsed": false
   },
   "outputs": [],
   "source": [
    "import numpy as np \n",
    "img_np = []\n",
    "for tr in x_train:\n",
    "    tr = np.array(tr)\n",
    "    tr = tr.reshape(784,)\n",
    "    \n",
    "    img_np.append(tr)\n",
    "img_np = np.array(img_np)         "
   ]
  },
  {
   "cell_type": "code",
   "execution_count": 3,
   "metadata": {
    "collapsed": false
   },
   "outputs": [
    {
     "name": "stdout",
     "output_type": "stream",
     "text": [
      "10000\n",
      "(10000, 10)\n",
      "[[0 0 0 ..., 1 0 0]\n",
      " [0 0 1 ..., 0 0 0]\n",
      " [0 1 0 ..., 0 0 0]\n",
      " ..., \n",
      " [0 0 0 ..., 0 0 0]\n",
      " [0 0 0 ..., 0 0 0]\n",
      " [0 0 0 ..., 0 0 0]]\n"
     ]
    },
    {
     "name": "stderr",
     "output_type": "stream",
     "text": [
      "/home/fsftn/anaconda2/lib/python2.7/site-packages/ipykernel/__main__.py:6: VisibleDeprecationWarning: converting an array with ndim > 0 to an index will result in an error in the future\n"
     ]
    }
   ],
   "source": [
    "answers = y_train\n",
    "print len(y_train)\n",
    "ans = []\n",
    "for i in range(0,len(y_train)):\n",
    "    item = [0]*10\n",
    "    item[answers[i]] = 1\n",
    "    ans.append(item)\n",
    "ans  = np.array(ans)\n",
    "print ans.shape\n",
    "print ans"
   ]
  },
  {
   "cell_type": "code",
   "execution_count": 5,
   "metadata": {
    "collapsed": false
   },
   "outputs": [],
   "source": [
    "def TRAIN_SIZE(num):\n",
    "    print ('Total Training Images in Dataset = ' + str(img_np.shape))\n",
    "    print ('--------------------------------------------------')\n",
    "    x_train = img_np[:num,:]\n",
    "    print ('x_train Examples Loaded = ' + str(x_train.shape))\n",
    "    y_train = np.array(ans[:num])\n",
    "    print ('y_train Examples Loaded = ' + str(y_train.shape))\n",
    "    print('')\n",
    "    return x_train, y_train\n",
    "def TEST_SIZE(num):\n",
    "    print ('Total Test Examples in Dataset = ' + str(img_np.shape))\n",
    "    print ('--------------------------------------------------')\n",
    "    x_test = img_np[:num,:]\n",
    "    print ('x_test Examples Loaded = ' + str(x_test.shape))\n",
    "    y_test = ans[:num,:]\n",
    "    print ('y_test Examples Loaded = ' + str(y_test.shape))\n",
    "    return x_test, y_test"
   ]
  },
  {
   "cell_type": "code",
   "execution_count": 6,
   "metadata": {
    "collapsed": false
   },
   "outputs": [
    {
     "name": "stdout",
     "output_type": "stream",
     "text": [
      "(10000, 10)\n",
      "Total Training Images in Dataset = (10000, 784)\n",
      "--------------------------------------------------\n",
      "x_train Examples Loaded = (8500, 784)\n",
      "y_train Examples Loaded = (8500, 10)\n",
      "\n",
      "Total Test Examples in Dataset = (10000, 784)\n",
      "--------------------------------------------------\n",
      "x_test Examples Loaded = (100, 784)\n",
      "y_test Examples Loaded = (100, 10)\n"
     ]
    }
   ],
   "source": [
    "print ans.shape\n",
    "x_train, y_train = TRAIN_SIZE(8500)\n",
    "x_test, y_test = TEST_SIZE(100)"
   ]
  },
  {
   "cell_type": "code",
   "execution_count": 7,
   "metadata": {
    "collapsed": false
   },
   "outputs": [
    {
     "name": "stdout",
     "output_type": "stream",
     "text": [
      "13815.3\n",
      "-----------------------\n",
      "37514.9\n",
      "-----------------------\n",
      "35320.2\n",
      "-----------------------\n",
      "34752.2\n",
      "-----------------------\n",
      "accuracy  0.61\n"
     ]
    }
   ],
   "source": [
    "from sklearn.utils import shuffle\n",
    "losses = []\n",
    "import tensorflow as tf\n",
    "sess = tf.Session()\n",
    "\n",
    "x_train_batch = [0]*1\n",
    "y_train_batch = [0]*1\n",
    "\n",
    "\n",
    "x = tf.placeholder(tf.float32, [None, 784])\n",
    "\n",
    "#W = tf.Variable(tf.truncated_normal([175561,2], stddev= 0.6))\n",
    "W = tf.Variable(tf.zeros([784, 10]))\n",
    " \n",
    "b = tf.Variable(tf.zeros([10]))\n",
    "y = tf.nn.softmax(tf.matmul(x,W) + b) + 0.0000001\n",
    "y_ = tf.placeholder(tf.float32, [None, 10])\n",
    "cross_entropy = tf.reduce_sum(-tf.reduce_sum( y_ *tf.log(y) , reduction_indices =[1]))\n",
    "\n",
    "train_step = tf.train.AdamOptimizer(0.3125).minimize(cross_entropy)\n",
    "init = tf.global_variables_initializer()\n",
    "sess.run(init)\n",
    "\n",
    "for k in range(0,4):\n",
    "    \n",
    "    x_train, y_train = shuffle(x_train,y_train)\n",
    "    \n",
    "    for i in range(0,6000,6000):\n",
    "        #print i \n",
    "        x_train_batch[i/200] = x_train[i:i+6000]\n",
    "        y_train_batch[i/200] = y_train[i:i+6000]\n",
    "\n",
    "    for i in range(0,len(x_train_batch)):\n",
    "        #print i, x_train_batch[i]\n",
    "        x_train_batch[i] = np.array(x_train_batch[i]).reshape(len(x_train_batch[i]),784)\n",
    "        y_train_batch[i] = np.array(y_train_batch[i]).reshape(len(y_train_batch[i]),10)\n",
    "\n",
    "    for j in range(0,len(x_train_batch)):\n",
    "        _,wval,loss = sess.run([train_step,W,cross_entropy], feed_dict={x: x_train_batch[j], y_: y_train_batch[j]})\n",
    "        print (loss)\n",
    "        losses.append(loss)\n",
    "        #print x_train_batch[i]\n",
    "\n",
    "    print '-----------------------'\n",
    "\n",
    "correct_prediction = tf.equal(tf.argmax(y,1), tf.argmax(y_,1))\n",
    "accuracy = tf.reduce_mean(tf.cast(correct_prediction, tf.float32))\n",
    "print 'accuracy ', (sess.run(accuracy, feed_dict={x: x_test, y_: y_test}))"
   ]
  },
  {
   "cell_type": "code",
   "execution_count": 8,
   "metadata": {
    "collapsed": false
   },
   "outputs": [
    {
     "data": {
      "image/png": "[encoded data removed]",
      "text/plain": [
       "<matplotlib.figure.Figure at 0x7f4af21b0b10>"
      ]
     },
     "metadata": {},
     "output_type": "display_data"
    }
   ],
   "source": [
    "import matplotlib.pyplot as plt\n",
    "plt.plot(losses)\n",
    "plt.show()"
   ]
  },
  {
   "cell_type": "code",
   "execution_count": null,
   "metadata": {
    "collapsed": true
   },
   "outputs": [],
   "source": []
  }
 ],
 "metadata": {
  "anaconda-cloud": {},
  "kernelspec": {
   "display_name": "Python [default]",
   "language": "python",
   "name": "python2"
  },
  "language_info": {
   "codemirror_mode": {
    "name": "ipython",
    "version": 2
   },
   "file_extension": ".py",
   "mimetype": "text/x-python",
   "name": "python",
   "nbconvert_exporter": "python",
   "pygments_lexer": "ipython2",
   "version": "2.7.12"
  }
 },
 "nbformat": 4,
 "nbformat_minor": 1
}
