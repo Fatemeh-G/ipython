{
 "cells": [
  {
   "cell_type": "code",
   "execution_count": 1,
   "metadata": {
    "collapsed": false
   },
   "outputs": [
    {
     "name": "stdout",
     "output_type": "stream",
     "text": [
      "Couldn't import dot_parser, loading of dot files will not be possible.\n"
     ]
    },
    {
     "name": "stderr",
     "output_type": "stream",
     "text": [
      "/home/fsftn/anaconda2/lib/python2.7/site-packages/sklearn/cross_validation.py:44: DeprecationWarning: This module was deprecated in version 0.18 in favor of the model_selection module into which all the refactored classes and functions are moved. Also note that the interface of the new CV iterators are different from that of this module. This module will be removed in 0.20.\n",
      "  \"This module will be removed in 0.20.\", DeprecationWarning)\n"
     ]
    }
   ],
   "source": [
    "import pandas as pd\n",
    "import numpy as np\n",
    "import matplotlib.pyplot as plt\n",
    "import matplotlib.pyplot as plt \n",
    "%matplotlib inline\n",
    "from sklearn.cross_validation import KFold \n",
    "import sklearn\n",
    "from sklearn import metrics\n",
    "import sklearn.tree\n",
    "from sklearn import tree \n",
    "from sklearn.linear_model import LogisticRegression\n",
    "from sklearn.tree import DecisionTreeClassifier\n",
    "from IPython.display import Image\n",
    "import pydot"
   ]
  },
  {
   "cell_type": "code",
   "execution_count": 2,
   "metadata": {
    "collapsed": false
   },
   "outputs": [],
   "source": [
    "loan = pd.read_csv('train.csv')"
   ]
  },
  {
   "cell_type": "code",
   "execution_count": 3,
   "metadata": {
    "collapsed": false
   },
   "outputs": [
    {
     "name": "stderr",
     "output_type": "stream",
     "text": [
      "/home/fsftn/anaconda2/lib/python2.7/site-packages/numpy/lib/arraysetops.py:200: FutureWarning: numpy not_equal will not check object identity in the future. The comparison did not return the same result as suggested by the identity (`is`)) and will change.\n",
      "  flag = np.concatenate(([True], aux[1:] != aux[:-1]))\n"
     ]
    },
    {
     "data": {
      "text/plain": [
       "Loan_ID               object\n",
       "Gender                object\n",
       "Married               object\n",
       "Dependents            object\n",
       "Education             object\n",
       "Self_Employed         object\n",
       "ApplicantIncome        int64\n",
       "CoapplicantIncome    float64\n",
       "LoanAmount           float64\n",
       "Loan_Amount_Term     float64\n",
       "Credit_History       float64\n",
       "Property_Area         object\n",
       "Loan_Status           object\n",
       "dtype: object"
      ]
     },
     "execution_count": 3,
     "metadata": {},
     "output_type": "execute_result"
    }
   ],
   "source": [
    "np.unique(loan['Married'])\n",
    "loan['Married'].fillna('Yes', inplace = True)#as most were married\n",
    "np.unique(loan['Married'])\n",
    "loan.dtypes"
   ]
  },
  {
   "cell_type": "code",
   "execution_count": 4,
   "metadata": {
    "collapsed": false
   },
   "outputs": [
    {
     "data": {
      "text/plain": [
       "array([nan, '0', '1', '2', '3+'], dtype=object)"
      ]
     },
     "execution_count": 4,
     "metadata": {},
     "output_type": "execute_result"
    }
   ],
   "source": [
    "np.unique(loan['Dependents'])"
   ]
  },
  {
   "cell_type": "code",
   "execution_count": 5,
   "metadata": {
    "collapsed": false,
    "scrolled": true
   },
   "outputs": [
    {
     "name": "stderr",
     "output_type": "stream",
     "text": [
      "/home/fsftn/anaconda2/lib/python2.7/site-packages/ipykernel/__main__.py:3: SettingWithCopyWarning: \n",
      "A value is trying to be set on a copy of a slice from a DataFrame\n",
      "\n",
      "See the caveats in the documentation: http://pandas.pydata.org/pandas-docs/stable/indexing.html#indexing-view-versus-copy\n",
      "  app.launch_new_instance()\n"
     ]
    },
    {
     "name": "stdout",
     "output_type": "stream",
     "text": [
      "['0' '1' '2' '3' '4']\n",
      "0    345\n",
      "1    102\n",
      "2    101\n",
      "3     51\n",
      "4     15\n",
      "Name: Dependents, dtype: int64\n"
     ]
    }
   ],
   "source": [
    "for index, row in loan.iterrows():\n",
    "    if(loan['Dependents'][index] == '3+'):\n",
    "        loan['Dependents'][index] = '3'\n",
    "    \n",
    "loan['Dependents'].fillna('4', inplace = True)\n",
    "print(np.unique(loan['Dependents']))\n",
    "print(loan['Dependents'].value_counts())"
   ]
  },
  {
   "cell_type": "code",
   "execution_count": 6,
   "metadata": {
    "collapsed": false
   },
   "outputs": [
    {
     "name": "stderr",
     "output_type": "stream",
     "text": [
      "/home/fsftn/anaconda2/lib/python2.7/site-packages/ipykernel/__main__.py:4: SettingWithCopyWarning: \n",
      "A value is trying to be set on a copy of a slice from a DataFrame\n",
      "\n",
      "See the caveats in the documentation: http://pandas.pydata.org/pandas-docs/stable/indexing.html#indexing-view-versus-copy\n",
      "/home/fsftn/anaconda2/lib/python2.7/site-packages/ipykernel/__main__.py:6: SettingWithCopyWarning: \n",
      "A value is trying to be set on a copy of a slice from a DataFrame\n",
      "\n",
      "See the caveats in the documentation: http://pandas.pydata.org/pandas-docs/stable/indexing.html#indexing-view-versus-copy\n"
     ]
    }
   ],
   "source": [
    "#for filling na values of noOfDependents based on marital status\n",
    "for index, row in loan.iterrows():\n",
    "    if(loan['Dependents'][index] == '4' and loan['Married'][index] == 'Yes'):\n",
    "        loan['Dependents'][index] = '2'\n",
    "    if(loan['Dependents'][index] == '4' and loan['Married'][index] == 'No'):\n",
    "        loan['Dependents'][index] = '0'"
   ]
  },
  {
   "cell_type": "code",
   "execution_count": 7,
   "metadata": {
    "collapsed": false
   },
   "outputs": [
    {
     "name": "stdout",
     "output_type": "stream",
     "text": [
      "Y    422\n",
      "N    192\n",
      "Name: Loan_Status, dtype: int64\n"
     ]
    }
   ],
   "source": [
    "#print(np.unique(loan['Dependents']))\n",
    "print(loan['Loan_Status'].value_counts())"
   ]
  },
  {
   "cell_type": "code",
   "execution_count": 8,
   "metadata": {
    "collapsed": false
   },
   "outputs": [],
   "source": [
    "loan['LoanAmount'].fillna(loan['LoanAmount'].mean(),inplace = True)\n",
    "loan['Loan_Amount_Term'].fillna(loan['Loan_Amount_Term'].mean(),inplace = True)\n",
    "loan['ApplicantIncome'].fillna(loan['ApplicantIncome'].mean(),inplace = True)\n",
    "loan['CoapplicantIncome'].fillna(loan['CoapplicantIncome'].mean(),inplace = True)\n",
    "loan['Self_Employed'].fillna(0,inplace = True)\n"
   ]
  },
  {
   "cell_type": "code",
   "execution_count": 9,
   "metadata": {
    "collapsed": false
   },
   "outputs": [],
   "source": [
    "#modifiying to make gender, married, education,selfEmployed and PropertyArea, LoanStatus as numeric values\n",
    "loan.loc[loan[\"Education\"]== \"Graduate\", \"Education\"] =1 \n",
    "loan.loc[loan[\"Education\"]== \"Not Graduate\", \"Education\"] = 0\n",
    "loan.loc[loan[\"Gender\"]== \"Male\", \"Gender\"] =1 \n",
    "loan.loc[loan[\"Gender\"]== \"Female\", \"Gender\"] = 0\n",
    "loan.loc[loan[\"Married\"]== \"Yes\", \"Married\"] =1 \n",
    "loan.loc[loan[\"Married\"]== \"No\", \"Married\"] = 0\n",
    "loan.loc[loan[\"Self_Employed\"]== \"Yes\", \"Self_Employed\"] =1 \n",
    "loan.loc[loan[\"Self_Employed\"]== \"No\", \"Self_Employed\"] = 0\n",
    "\n",
    "loan.loc[loan[\"Property_Area\"]== \"Urban\", \"Property_Area\"] =2 \n",
    "loan.loc[loan[\"Property_Area\"]== \"Rural\", \"Property_Area\"] = 0\n",
    "loan.loc[loan[\"Property_Area\"]== \"Semiurban\", \"Property_Area\"] = 1\n",
    "\n",
    "loan.loc[loan[\"Loan_Status\"]== \"Y\", \"Loan_Status\"] =1 \n",
    "loan.loc[loan[\"Loan_Status\"]== \"N\", \"Loan_Status\"] = 0"
   ]
  },
  {
   "cell_type": "code",
   "execution_count": 10,
   "metadata": {
    "collapsed": false
   },
   "outputs": [
    {
     "data": {
      "text/html": [
       "<div>\n",
       "<table border=\"1\" class=\"dataframe\">\n",
       "  <thead>\n",
       "    <tr style=\"text-align: right;\">\n",
       "      <th></th>\n",
       "      <th>Loan_ID</th>\n",
       "      <th>Gender</th>\n",
       "      <th>Married</th>\n",
       "      <th>Dependents</th>\n",
       "      <th>Education</th>\n",
       "      <th>Self_Employed</th>\n",
       "      <th>ApplicantIncome</th>\n",
       "      <th>CoapplicantIncome</th>\n",
       "      <th>LoanAmount</th>\n",
       "      <th>Loan_Amount_Term</th>\n",
       "      <th>Credit_History</th>\n",
       "      <th>Property_Area</th>\n",
       "      <th>Loan_Status</th>\n",
       "    </tr>\n",
       "  </thead>\n",
       "  <tbody>\n",
       "    <tr>\n",
       "      <th>0</th>\n",
       "      <td>LP001002</td>\n",
       "      <td>1</td>\n",
       "      <td>0</td>\n",
       "      <td>0</td>\n",
       "      <td>1</td>\n",
       "      <td>0</td>\n",
       "      <td>5849</td>\n",
       "      <td>0</td>\n",
       "      <td>146.412162</td>\n",
       "      <td>360</td>\n",
       "      <td>1</td>\n",
       "      <td>2</td>\n",
       "      <td>1</td>\n",
       "    </tr>\n",
       "    <tr>\n",
       "      <th>1</th>\n",
       "      <td>LP001003</td>\n",
       "      <td>1</td>\n",
       "      <td>1</td>\n",
       "      <td>1</td>\n",
       "      <td>1</td>\n",
       "      <td>0</td>\n",
       "      <td>4583</td>\n",
       "      <td>1508</td>\n",
       "      <td>128.000000</td>\n",
       "      <td>360</td>\n",
       "      <td>1</td>\n",
       "      <td>0</td>\n",
       "      <td>0</td>\n",
       "    </tr>\n",
       "    <tr>\n",
       "      <th>2</th>\n",
       "      <td>LP001005</td>\n",
       "      <td>1</td>\n",
       "      <td>1</td>\n",
       "      <td>0</td>\n",
       "      <td>1</td>\n",
       "      <td>1</td>\n",
       "      <td>3000</td>\n",
       "      <td>0</td>\n",
       "      <td>66.000000</td>\n",
       "      <td>360</td>\n",
       "      <td>1</td>\n",
       "      <td>2</td>\n",
       "      <td>1</td>\n",
       "    </tr>\n",
       "    <tr>\n",
       "      <th>3</th>\n",
       "      <td>LP001006</td>\n",
       "      <td>1</td>\n",
       "      <td>1</td>\n",
       "      <td>0</td>\n",
       "      <td>0</td>\n",
       "      <td>0</td>\n",
       "      <td>2583</td>\n",
       "      <td>2358</td>\n",
       "      <td>120.000000</td>\n",
       "      <td>360</td>\n",
       "      <td>1</td>\n",
       "      <td>2</td>\n",
       "      <td>1</td>\n",
       "    </tr>\n",
       "    <tr>\n",
       "      <th>4</th>\n",
       "      <td>LP001008</td>\n",
       "      <td>1</td>\n",
       "      <td>0</td>\n",
       "      <td>0</td>\n",
       "      <td>1</td>\n",
       "      <td>0</td>\n",
       "      <td>6000</td>\n",
       "      <td>0</td>\n",
       "      <td>141.000000</td>\n",
       "      <td>360</td>\n",
       "      <td>1</td>\n",
       "      <td>2</td>\n",
       "      <td>1</td>\n",
       "    </tr>\n",
       "  </tbody>\n",
       "</table>\n",
       "</div>"
      ],
      "text/plain": [
       "    Loan_ID Gender Married Dependents Education Self_Employed  \\\n",
       "0  LP001002      1       0          0         1             0   \n",
       "1  LP001003      1       1          1         1             0   \n",
       "2  LP001005      1       1          0         1             1   \n",
       "3  LP001006      1       1          0         0             0   \n",
       "4  LP001008      1       0          0         1             0   \n",
       "\n",
       "   ApplicantIncome  CoapplicantIncome  LoanAmount  Loan_Amount_Term  \\\n",
       "0             5849                  0  146.412162               360   \n",
       "1             4583               1508  128.000000               360   \n",
       "2             3000                  0   66.000000               360   \n",
       "3             2583               2358  120.000000               360   \n",
       "4             6000                  0  141.000000               360   \n",
       "\n",
       "   Credit_History Property_Area Loan_Status  \n",
       "0               1             2           1  \n",
       "1               1             0           0  \n",
       "2               1             2           1  \n",
       "3               1             2           1  \n",
       "4               1             2           1  "
      ]
     },
     "execution_count": 10,
     "metadata": {},
     "output_type": "execute_result"
    }
   ],
   "source": [
    "loan[:5]"
   ]
  },
  {
   "cell_type": "code",
   "execution_count": 11,
   "metadata": {
    "collapsed": false
   },
   "outputs": [
    {
     "name": "stdout",
     "output_type": "stream",
     "text": [
      "69\n",
      "66\n"
     ]
    }
   ],
   "source": [
    "cntMenP =0\n",
    "cntMenN =0 \n",
    "cntWMenP = 0\n",
    "cntWMenN = 0\n",
    "for index, row in loan.iterrows():\n",
    "    if(loan['Gender'][index] == 1 and loan['Loan_Status'][index] == 1):\n",
    "        cntMenP = cntMenP+1;\n",
    "    if(loan['Gender'][index] == 1 and loan['Loan_Status'][index] == 0):\n",
    "        cntMenN = cntMenN+1;\n",
    "    if(loan['Gender'][index] ==  0 and loan['Loan_Status'][index] == 1):\n",
    "        cntWMenP = cntWMenP+1;\n",
    "    if(loan['Gender'][index] == 0 and loan['Loan_Status'][index] == 0):\n",
    "        cntWMenN = cntWMenN+1;\n",
    "MenPcent = 100*cntMenP/(cntMenP+cntMenN)\n",
    "WMenPcent = 100*cntWMenP/(cntWMenP+cntWMenN)\n",
    "print(MenPcent)\n",
    "print(WMenPcent)"
   ]
  },
  {
   "cell_type": "code",
   "execution_count": 12,
   "metadata": {
    "collapsed": false
   },
   "outputs": [
    {
     "name": "stdout",
     "output_type": "stream",
     "text": [
      "Loan_ID               object\n",
      "Gender               float64\n",
      "Married                int64\n",
      "Dependents             int64\n",
      "Education              int64\n",
      "Self_Employed          int64\n",
      "ApplicantIncome        int64\n",
      "CoapplicantIncome    float64\n",
      "LoanAmount           float64\n",
      "Loan_Amount_Term     float64\n",
      "Credit_History       float64\n",
      "Property_Area          int64\n",
      "Loan_Status            int64\n",
      "dtype: object\n"
     ]
    }
   ],
   "source": [
    "loan['Loan_Status'] = pd.to_numeric(loan['Loan_Status'])\n",
    "loan['Gender'] = pd.to_numeric(loan['Gender'])\n",
    "loan['Married'] = pd.to_numeric(loan['Married'])\n",
    "loan['Dependents'] = pd.to_numeric(loan['Dependents'])\n",
    "loan['Education'] = pd.to_numeric(loan['Education'])\n",
    "loan['Self_Employed'] = pd.to_numeric(loan['Self_Employed'])\n",
    "loan['Credit_History'] = pd.to_numeric(loan['Credit_History'])\n",
    "loan['Property_Area'] = pd.to_numeric(loan['Property_Area'])\n",
    "print(loan.dtypes)"
   ]
  },
  {
   "cell_type": "code",
   "execution_count": 13,
   "metadata": {
    "collapsed": false
   },
   "outputs": [],
   "source": [
    "def classification_model(model, data, predictors, outcome):\n",
    "    #Fit the model:\n",
    "    mod = model.fit(data[predictors],data[outcome])\n",
    "  \n",
    "    #Make predictions on training set:\n",
    "    predictions = model.predict(data[predictors])\n",
    "    print(predictions.size)\n",
    "    print(data[predictors].size)\n",
    "    \n",
    "    #Print accuracy\n",
    "    accuracy = metrics.accuracy_score(predictions,data[outcome])\n",
    "    print \"Accuracy : %s\" % \"{0:.3%}\".format(accuracy)\n",
    "    \n",
    "    \n",
    "    #Perform k-fold cross-validation with 5 folds\n",
    "    kf = KFold(data.shape[0], n_folds=5)\n",
    "    error = []\n",
    "    for train, test in kf:\n",
    "        # Filter training data\n",
    "        train_predictors = (data[predictors].iloc[train,:])\n",
    "    \n",
    "        # The target we're using to train the algorithm.\n",
    "        train_target = data[outcome].iloc[train]\n",
    "    \n",
    "        # Training the algorithm using the predictors and target.\n",
    "        model.fit(train_predictors, train_target)\n",
    "    \n",
    "        #Record error from each cross-validation run\n",
    "        error.append(model.score(data[predictors].iloc[test,:], data[outcome].iloc[test]))\n",
    "    #print predictions\n",
    "   \n",
    "    print \"Cross-Validation Score : %s\" % \"{0:.3%}\".format(np.mean(error))\n",
    "\n",
    "    #Fit the model again so that it can be refered outside the function:\n",
    "    model.fit(data[predictors],data[outcome]) \n",
    "    "
   ]
  },
  {
   "cell_type": "code",
   "execution_count": 14,
   "metadata": {
    "collapsed": false
   },
   "outputs": [],
   "source": [
    "outcome_var = 'Loan_Status'\n",
    "predictor_var = ['Married','Dependents','Education','Self_Employed','ApplicantIncome','CoapplicantIncome','LoanAmount','Credit_History','Property_Area']"
   ]
  },
  {
   "cell_type": "code",
   "execution_count": 15,
   "metadata": {
    "collapsed": false,
    "scrolled": true
   },
   "outputs": [],
   "source": [
    "#predictor_var = ['CoapplicantIncome','Education']\n",
    "predictor_var = ['Married','Dependents','Education','Self_Employed','ApplicantIncome','CoapplicantIncome','LoanAmount','Credit_History','Property_Area']\n",
    "predictor_var = ['Married','Dependents','Education','Self_Employed']\n",
    "predictor_var = ['Married','Dependents','Self_Employed','Property_Area']\n",
    "predictor_var = ['Married','Dependents','Self_Employed','Education']"
   ]
  },
  {
   "cell_type": "code",
   "execution_count": 16,
   "metadata": {
    "collapsed": false
   },
   "outputs": [
    {
     "name": "stdout",
     "output_type": "stream",
     "text": [
      "614\n",
      "1228\n",
      "Accuracy : 68.730%\n",
      "Cross-Validation Score : 68.729%\n"
     ]
    }
   ],
   "source": [
    "outcome_var = 'Loan_Status'\n",
    "model = LogisticRegression()\n",
    "predictor_var = ['CoapplicantIncome', 'ApplicantIncome','Married','LoanAmount','Loan_Amount_Term']\n",
    "predictor_var = ['Married','Loan_Amount_Term']\n",
    "\n",
    "classification_model(model, loan,predictor_var,outcome_var)\n",
    "#titanic['Survived'].shape"
   ]
  },
  {
   "cell_type": "code",
   "execution_count": 17,
   "metadata": {
    "collapsed": false
   },
   "outputs": [
    {
     "data": {
      "text/plain": [
       "LogisticRegression(C=1.0, class_weight=None, dual=False, fit_intercept=True,\n",
       "          intercept_scaling=1, max_iter=100, multi_class='ovr', n_jobs=1,\n",
       "          penalty='l2', random_state=None, solver='liblinear', tol=0.0001,\n",
       "          verbose=0, warm_start=False)"
      ]
     },
     "execution_count": 17,
     "metadata": {},
     "output_type": "execute_result"
    }
   ],
   "source": [
    "outcome_var = 'Loan_Status'\n",
    "clf = LogisticRegression()\n",
    "predictor_var = ['Married','Loan_Amount_Term']\n",
    "clf.fit(loan[predictor_var],loan[outcome_var])\n",
    "#clf.coef_\n",
    "#titanic['Survived'].shape"
   ]
  },
  {
   "cell_type": "code",
   "execution_count": 18,
   "metadata": {
    "collapsed": false
   },
   "outputs": [
    {
     "name": "stdout",
     "output_type": "stream",
     "text": [
      "1    475\n",
      "0     89\n",
      "Name: Credit_History, dtype: int64\n"
     ]
    },
    {
     "data": {
      "text/plain": [
       "array([ 0.,  1.])"
      ]
     },
     "execution_count": 18,
     "metadata": {},
     "output_type": "execute_result"
    }
   ],
   "source": [
    "print(loan['Credit_History'].value_counts())\n",
    "loan['Credit_History'].fillna(0.0, inplace = True)#as most were married\n",
    "np.unique(loan['Credit_History'])"
   ]
  },
  {
   "cell_type": "code",
   "execution_count": 19,
   "metadata": {
    "collapsed": false
   },
   "outputs": [
    {
     "name": "stdout",
     "output_type": "stream",
     "text": [
      "614\n",
      "1228\n",
      "Accuracy : 77.036%\n",
      "Cross-Validation Score : 77.041%\n"
     ]
    }
   ],
   "source": [
    "outcome_var = 'Loan_Status'\n",
    "model = LogisticRegression()\n",
    "predictor_var = ['Credit_History','LoanAmount']\n",
    "#predictor_var = ['Married','Loan_Amount_Term']\n",
    "classification_model(model, loan,predictor_var,outcome_var)\n"
   ]
  },
  {
   "cell_type": "code",
   "execution_count": 20,
   "metadata": {
    "collapsed": false
   },
   "outputs": [
    {
     "data": {
      "text/plain": [
       "<matplotlib.axes._subplots.AxesSubplot at 0x7f812a946f90>"
      ]
     },
     "execution_count": 20,
     "metadata": {},
     "output_type": "execute_result"
    },
    {
     "data": {
      "image/png": "[encoded data removed]",
      "text/plain": [
       "<matplotlib.figure.Figure at 0x7f815c52d5d0>"
      ]
     },
     "metadata": {},
     "output_type": "display_data"
    }
   ],
   "source": [
    "loan.boxplot(column='LoanAmount', by = 'Loan_Status') #boxplot for continious variable against some categorical var"
   ]
  },
  {
   "cell_type": "code",
   "execution_count": 21,
   "metadata": {
    "collapsed": false
   },
   "outputs": [
    {
     "data": {
      "text/plain": [
       "<matplotlib.axes._subplots.AxesSubplot at 0x7f81282327d0>"
      ]
     },
     "execution_count": 21,
     "metadata": {},
     "output_type": "execute_result"
    },
    {
     "data": {
      "image/png": "[encoded data removed]",
      "text/plain": [
       "<matplotlib.figure.Figure at 0x7f815f8f14d0>"
      ]
     },
     "metadata": {},
     "output_type": "display_data"
    }
   ],
   "source": [
    "temp3 = pd.crosstab(loan['Property_Area'], loan['Loan_Status'])\n",
    "temp3.plot(kind='bar', stacked=True, color=['red','blue'], grid=True)\n"
   ]
  },
  {
   "cell_type": "code",
   "execution_count": 22,
   "metadata": {
    "collapsed": false
   },
   "outputs": [
    {
     "data": {
      "text/plain": [
       "<matplotlib.axes._subplots.AxesSubplot at 0x7f8127bbacd0>"
      ]
     },
     "execution_count": 22,
     "metadata": {},
     "output_type": "execute_result"
    },
    {
     "data": {
      "image/png": "[encoded data removed]",
      "text/plain": [
       "<matplotlib.figure.Figure at 0x7f812831b5d0>"
      ]
     },
     "metadata": {},
     "output_type": "display_data"
    },
    {
     "data": {
      "image/png": "[encoded data removed]",
      "text/plain": [
       "<matplotlib.figure.Figure at 0x7f8127bcbd90>"
      ]
     },
     "metadata": {},
     "output_type": "display_data"
    }
   ],
   "source": [
    "temp3 = pd.crosstab(loan['Gender'], loan['Loan_Status'])\n",
    "temp3.plot(kind='bar', stacked=True, color=['red','blue'], grid=True)\n",
    "\n",
    "\n",
    "temp4 = pd.crosstab([loan['Gender'], loan['Married']],loan['Loan_Status'], rownames=['Gender', 'Married'], colnames=['Loan_Status'])\n",
    "temp4.plot(kind='bar', stacked=True, color=['red','blue'], grid=True)\n"
   ]
  },
  {
   "cell_type": "code",
   "execution_count": 23,
   "metadata": {
    "collapsed": false
   },
   "outputs": [
    {
     "name": "stdout",
     "output_type": "stream",
     "text": [
      "614\n",
      "1228\n",
      "Accuracy : 77.036%\n",
      "Cross-Validation Score : 77.041%\n"
     ]
    }
   ],
   "source": [
    "outcome_var = 'Loan_Status'\n",
    "model = LogisticRegression()\n",
    "predictor_var = ['Credit_History','LoanAmount']\n",
    "#predictor_var = ['Married','Loan_Amount_Term']\n",
    "classification_model(model, loan,predictor_var,outcome_var)\n"
   ]
  },
  {
   "cell_type": "code",
   "execution_count": 24,
   "metadata": {
    "collapsed": false
   },
   "outputs": [
    {
     "name": "stderr",
     "output_type": "stream",
     "text": [
      "/home/fsftn/anaconda2/lib/python2.7/site-packages/ipykernel/__main__.py:4: SettingWithCopyWarning: \n",
      "A value is trying to be set on a copy of a slice from a DataFrame\n",
      "\n",
      "See the caveats in the documentation: http://pandas.pydata.org/pandas-docs/stable/indexing.html#indexing-view-versus-copy\n"
     ]
    },
    {
     "data": {
      "text/html": [
       "<div>\n",
       "<table border=\"1\" class=\"dataframe\">\n",
       "  <thead>\n",
       "    <tr style=\"text-align: right;\">\n",
       "      <th></th>\n",
       "      <th>Loan_ID</th>\n",
       "      <th>Gender</th>\n",
       "      <th>Married</th>\n",
       "      <th>Dependents</th>\n",
       "      <th>Education</th>\n",
       "      <th>Self_Employed</th>\n",
       "      <th>ApplicantIncome</th>\n",
       "      <th>CoapplicantIncome</th>\n",
       "      <th>LoanAmount</th>\n",
       "      <th>Loan_Amount_Term</th>\n",
       "      <th>Credit_History</th>\n",
       "      <th>Property_Area</th>\n",
       "    </tr>\n",
       "  </thead>\n",
       "  <tbody>\n",
       "    <tr>\n",
       "      <th>0</th>\n",
       "      <td>LP001015</td>\n",
       "      <td>1</td>\n",
       "      <td>1</td>\n",
       "      <td>0</td>\n",
       "      <td>1</td>\n",
       "      <td>0</td>\n",
       "      <td>5720</td>\n",
       "      <td>0</td>\n",
       "      <td>110</td>\n",
       "      <td>360</td>\n",
       "      <td>1</td>\n",
       "      <td>2</td>\n",
       "    </tr>\n",
       "    <tr>\n",
       "      <th>1</th>\n",
       "      <td>LP001022</td>\n",
       "      <td>1</td>\n",
       "      <td>1</td>\n",
       "      <td>1</td>\n",
       "      <td>1</td>\n",
       "      <td>0</td>\n",
       "      <td>3076</td>\n",
       "      <td>1500</td>\n",
       "      <td>126</td>\n",
       "      <td>360</td>\n",
       "      <td>1</td>\n",
       "      <td>2</td>\n",
       "    </tr>\n",
       "    <tr>\n",
       "      <th>2</th>\n",
       "      <td>LP001031</td>\n",
       "      <td>1</td>\n",
       "      <td>1</td>\n",
       "      <td>2</td>\n",
       "      <td>1</td>\n",
       "      <td>0</td>\n",
       "      <td>5000</td>\n",
       "      <td>1800</td>\n",
       "      <td>208</td>\n",
       "      <td>360</td>\n",
       "      <td>1</td>\n",
       "      <td>2</td>\n",
       "    </tr>\n",
       "  </tbody>\n",
       "</table>\n",
       "</div>"
      ],
      "text/plain": [
       "    Loan_ID  Gender  Married  Dependents  Education  Self_Employed  \\\n",
       "0  LP001015       1        1           0          1              0   \n",
       "1  LP001022       1        1           1          1              0   \n",
       "2  LP001031       1        1           2          1              0   \n",
       "\n",
       "   ApplicantIncome  CoapplicantIncome  LoanAmount  Loan_Amount_Term  \\\n",
       "0             5720                  0         110               360   \n",
       "1             3076               1500         126               360   \n",
       "2             5000               1800         208               360   \n",
       "\n",
       "   Credit_History  Property_Area  \n",
       "0               1              2  \n",
       "1               1              2  \n",
       "2               1              2  "
      ]
     },
     "execution_count": 24,
     "metadata": {},
     "output_type": "execute_result"
    }
   ],
   "source": [
    "loan_test = pd.read_csv(\"test.csv\")\n",
    "for index, row in loan_test.iterrows():\n",
    "    if(loan_test['Dependents'][index] == '3+'):\n",
    "        loan_test['Dependents'][index] = '3'\n",
    "\n",
    "\n",
    "        \n",
    "        \n",
    "loan_test['Married'].fillna('Yes', inplace = True)#as most were married\n",
    "loan_test['LoanAmount'].fillna(loan_test['LoanAmount'].mean(),inplace = True)\n",
    "loan_test['Loan_Amount_Term'].fillna(loan_test['Loan_Amount_Term'].mean(),inplace = True)\n",
    "loan_test['ApplicantIncome'].fillna(loan_test['ApplicantIncome'].mean(),inplace = True)\n",
    "loan_test['CoapplicantIncome'].fillna(loan_test['CoapplicantIncome'].mean(),inplace = True)\n",
    "loan_test['Self_Employed'].fillna(0,inplace = True)\n",
    "loan_test['Credit_History'].fillna(1,inplace = True)\n",
    "\n",
    "           \n",
    "        \n",
    "        \n",
    "#modifiying to make gender, married, education,selfEmployed and PropertyArea, LoanStatus as numeric values\n",
    "loan_test.loc[loan_test[\"Education\"]== \"Graduate\", \"Education\"] =1 \n",
    "loan_test.loc[loan_test[\"Education\"]== \"Not Graduate\", \"Education\"] = 0\n",
    "loan_test.loc[loan_test[\"Gender\"]== \"Male\", \"Gender\"] =1 \n",
    "loan_test.loc[loan_test[\"Gender\"]== \"Female\", \"Gender\"] = 0\n",
    "loan_test.loc[loan_test[\"Married\"]== \"Yes\", \"Married\"] =1 \n",
    "loan_test.loc[loan_test[\"Married\"]== \"No\", \"Married\"] = 0\n",
    "loan_test.loc[loan_test[\"Self_Employed\"]== \"Yes\", \"Self_Employed\"] =1 \n",
    "loan_test.loc[loan_test[\"Self_Employed\"]== \"No\", \"Self_Employed\"] = 0\n",
    "\n",
    "loan_test.loc[loan_test[\"Property_Area\"]== \"Urban\", \"Property_Area\"] =2 \n",
    "loan_test.loc[loan_test[\"Property_Area\"]== \"Rural\", \"Property_Area\"] = 0\n",
    "loan_test.loc[loan_test[\"Property_Area\"]== \"Semiurban\", \"Property_Area\"] = 1\n",
    "loan_test['Gender'] = pd.to_numeric(loan_test['Gender'])\n",
    "loan_test['Married'] = pd.to_numeric(loan_test['Married'])\n",
    "loan_test['Dependents'] = pd.to_numeric(loan_test['Dependents'])\n",
    "loan_test['Education'] = pd.to_numeric(loan_test['Education'])\n",
    "loan_test['Self_Employed'] = pd.to_numeric(loan_test['Self_Employed'])\n",
    "loan_test['Credit_History'] = pd.to_numeric(loan_test['Credit_History'])\n",
    "loan_test['Property_Area'] = pd.to_numeric(loan_test['Property_Area'])\n",
    "\n",
    "loan_test[:3]"
   ]
  },
  {
   "cell_type": "code",
   "execution_count": 25,
   "metadata": {
    "collapsed": false
   },
   "outputs": [
    {
     "name": "stdout",
     "output_type": "stream",
     "text": [
      "[ 0.  1.]\n",
      "1    308\n",
      "0     59\n",
      "Name: Credit_History, dtype: int64\n"
     ]
    }
   ],
   "source": [
    "print(np.unique(loan_test['Credit_History']))\n",
    "print(loan_test['Credit_History'].value_counts())\n",
    "#loan_test.describe"
   ]
  },
  {
   "cell_type": "code",
   "execution_count": 26,
   "metadata": {
    "collapsed": false
   },
   "outputs": [
    {
     "name": "stdout",
     "output_type": "stream",
     "text": [
      "614\n",
      "1842\n",
      "Accuracy : 77.036%\n",
      "Cross-Validation Score : 77.041%\n"
     ]
    }
   ],
   "source": [
    "outcome_var = 'Loan_Status'\n",
    "model = LogisticRegression()\n",
    "predictor_var = ['Credit_History','LoanAmount','Married']\n",
    "#predictor_var = ['Married','Loan_Amount_Term']\n",
    "classification_model(model, loan,predictor_var,outcome_var)\n",
    "\n",
    "\n",
    "clf = LogisticRegression()\n",
    "clf.fit(loan[predictor_var], loan[outcome_var])\n",
    "predictions = clf.predict(loan_test[predictor_var])\n",
    "\n",
    "\n",
    "predans = []\n",
    "for idx, a in enumerate(predictions):\n",
    "    if a == 1:\n",
    "        predans.append('Y')\n",
    "    else:\n",
    "        predans.append('N')\n",
    "\n",
    "\n",
    "\n",
    "submission = pd.DataFrame({\n",
    "       \"Loan_ID\" : loan_test['Loan_ID'],\n",
    "        \"Loan_Status\": predans\n",
    "          })\n",
    "#print submission\n",
    "#print predictions\n",
    "submission.to_csv(\"datahackBMark.csv\", index=False)"
   ]
  },
  {
   "cell_type": "code",
   "execution_count": 27,
   "metadata": {
    "collapsed": false
   },
   "outputs": [
    {
     "name": "stdout",
     "output_type": "stream",
     "text": [
      "614\n",
      "1228\n",
      "Accuracy : 77.036%\n",
      "Cross-Validation Score : 77.041%\n"
     ]
    }
   ],
   "source": [
    "outcome_var = 'Loan_Status'\n",
    "model = LogisticRegression()\n",
    "predictor_var = ['Credit_History','LoanAmount']\n",
    "#predictor_var = ['Married','Loan_Amount_Term']\n",
    "classification_model(model, loan,predictor_var,outcome_var)\n",
    "\n",
    "\n",
    "clf = LogisticRegression()\n",
    "clf.fit(loan[predictor_var], loan[outcome_var])\n",
    "predictionsM1 = clf.predict(loan[predictor_var])"
   ]
  },
  {
   "cell_type": "code",
   "execution_count": 28,
   "metadata": {
    "collapsed": false
   },
   "outputs": [
    {
     "name": "stdout",
     "output_type": "stream",
     "text": [
      "614\n",
      "4912\n",
      "Accuracy : 77.036%\n",
      "Cross-Validation Score : 77.041%\n"
     ]
    }
   ],
   "source": [
    "outcome_var = 'Loan_Status'\n",
    "model = DecisionTreeClassifier(max_depth= 20, min_samples_split=50, min_samples_leaf=20)\n",
    "\n",
    "predictor_var = ['Credit_History','LoanAmount','ApplicantIncome','CoapplicantIncome','LoanAmount','Married','Education','Loan_Amount_Term']\n",
    "#predictor_var = ['Married','Loan_Amount_Term']\n",
    "classification_model(model, loan,predictor_var,outcome_var)\n",
    "\n",
    "\n",
    "\n",
    "clf = DecisionTreeClassifier(max_depth= 20, min_samples_split=50, min_samples_leaf=20)\n",
    "clf.fit(loan[predictor_var], loan[outcome_var])\n",
    "predictionsM2 = clf.predict(loan[predictor_var])"
   ]
  },
  {
   "cell_type": "code",
   "execution_count": 29,
   "metadata": {
    "collapsed": false
   },
   "outputs": [
    {
     "name": "stdout",
     "output_type": "stream",
     "text": [
      "614\n",
      "4912\n",
      "Accuracy : 77.687%\n",
      "Cross-Validation Score : 75.081%\n"
     ]
    }
   ],
   "source": [
    "outcome_var = 'Loan_Status'\n",
    "from sklearn.ensemble import RandomForestClassifier\n",
    "model  = RandomForestClassifier(n_estimators=100,max_depth=10, min_samples_split=20, min_samples_leaf=15)\n",
    "\n",
    "predictor_var = ['Married','Property_Area','Loan_Amount_Term','Credit_History','LoanAmount','ApplicantIncome','CoapplicantIncome','LoanAmount','Property_Area']\n",
    "#predictor_var = ['Married','Loan_Amount_Term']\n",
    "predictor_var = ['Credit_History','LoanAmount','ApplicantIncome','CoapplicantIncome','LoanAmount','Married','Education','Loan_Amount_Term']\n",
    "\n",
    "classification_model(model, loan,predictor_var,outcome_var)\n",
    "\n",
    "\n",
    "clf = RandomForestClassifier(n_estimators=200,max_depth=10, min_samples_split=8, min_samples_leaf=15)\n",
    "clf.fit(loan[predictor_var], loan[outcome_var])\n",
    "predictionsM3 = clf.predict(loan[predictor_var])"
   ]
  },
  {
   "cell_type": "code",
   "execution_count": 30,
   "metadata": {
    "collapsed": false
   },
   "outputs": [
    {
     "name": "stdout",
     "output_type": "stream",
     "text": [
      "614\n",
      "4912\n",
      "Accuracy : 80.130%\n",
      "Cross-Validation Score : 76.062%\n"
     ]
    }
   ],
   "source": [
    "outcome_var = 'Loan_Status'\n",
    "\n",
    "from sklearn.ensemble import   GradientBoostingClassifier\n",
    "model = GradientBoostingClassifier(n_estimators=30, min_samples_split= 40, min_samples_leaf= 20, max_depth= 4)\n",
    "predictor_var = ['Credit_History','LoanAmount','ApplicantIncome','CoapplicantIncome','Loan_Amount_Term']\n",
    "predictor_var = ['Credit_History','Married','LoanAmount','ApplicantIncome','CoapplicantIncome','Loan_Amount_Term','Property_Area','Self_Employed']\n",
    "\n",
    "#predictor_var = ['Married','Loan_Amount_Term']\n",
    "classification_model(model, loan,predictor_var,outcome_var)\n",
    "\n",
    "\n",
    "clf = GradientBoostingClassifier(n_estimators=30, min_samples_split= 120, min_samples_leaf= 20, max_depth= 3)\n",
    "clf.fit(loan[predictor_var], loan[outcome_var])\n",
    "predictionsM4 = clf.predict(loan[predictor_var])"
   ]
  },
  {
   "cell_type": "code",
   "execution_count": 31,
   "metadata": {
    "collapsed": false
   },
   "outputs": [
    {
     "name": "stdout",
     "output_type": "stream",
     "text": [
      "614\n",
      "3070\n",
      "Accuracy : 77.036%\n",
      "Cross-Validation Score : 76.877%\n"
     ]
    }
   ],
   "source": [
    "outcome_var = 'Loan_Status'\n",
    "model = LogisticRegression()\n",
    "predictor_var = ['Credit_History','LoanAmount','ApplicantIncome','CoapplicantIncome','LoanAmount']\n",
    "#predictor_var = ['Married','Loan_Amount_Term']\n",
    "classification_model(model, loan,predictor_var,outcome_var)\n",
    "\n",
    "clf = LogisticRegression()\n",
    "clf.fit(loan[predictor_var], loan[outcome_var])\n",
    "predictionsM1 = clf.predict(loan[predictor_var])"
   ]
  },
  {
   "cell_type": "code",
   "execution_count": 32,
   "metadata": {
    "collapsed": false
   },
   "outputs": [
    {
     "name": "stdout",
     "output_type": "stream",
     "text": [
      "614\n",
      "614\n",
      "614\n",
      "614\n"
     ]
    }
   ],
   "source": [
    "print(predictionsM1.size)\n",
    "print(predictionsM2.size)\n",
    "print(predictionsM3.size)\n",
    "print(predictionsM4.size)\n",
    "ensemblePredict = np.zeros(predictionsM4.size)\n",
    "\n",
    "for x in range(0,(predictionsM1.size)):\n",
    "        neg = 0  \n",
    "        pos = 0 \n",
    "        if(predictionsM1[x] == 0 ):\n",
    "            neg = neg +1 \n",
    "        else:\n",
    "            pos = pos + 1\n",
    "        if(predictionsM2[x] == 0 ):\n",
    "            neg = neg +1 \n",
    "        else:\n",
    "            pos = pos + 1\n",
    "        if(predictionsM3[x] == 0 ):\n",
    "            neg = neg +1 \n",
    "        else:\n",
    "            pos = pos + 1\n",
    "        if(predictionsM4[x] == 0 ):\n",
    "            neg = neg +1 \n",
    "        else:\n",
    "            pos = pos + 1\n",
    "            \n",
    "        if(neg > pos):\n",
    "            ensemblePredict[x] = 0 \n",
    "        elif(pos > neg):\n",
    "            ensemblePredict[x] = 1 \n",
    "        else:\n",
    "            ensemblePredict[x] = predictionsM1[x]\n",
    "            "
   ]
  },
  {
   "cell_type": "code",
   "execution_count": 37,
   "metadata": {
    "collapsed": false
   },
   "outputs": [
    {
     "data": {
      "image/png": "[encoded data removed]",
      "text/plain": [
       "<IPython.core.display.Image object>"
      ]
     },
     "metadata": {},
     "output_type": "display_data"
    }
   ],
   "source": [
    "outcome_var = 'Loan_Status'\n",
    "model = DecisionTreeClassifier(max_depth= 18, min_samples_split=350, min_samples_leaf=40)\n",
    "\n",
    "predictor_var = ['Credit_History']\n",
    "\n",
    "clf = DecisionTreeClassifier(criterion='entropy',max_depth=8, min_samples_split=4, min_samples_leaf=1 )\n",
    "clf.fit(loan[predictor_var], loan[outcome_var])\n",
    "\n",
    "dot_file = tree.export_graphviz(clf.tree_, out_file='tree_d1.dot', feature_names=predictor_var)  #export the tree to .dot file\n",
    "from subprocess import check_call\n",
    "check_call(['dot','-Tpng','tree_d1.dot','-o','OutputFiletttt.png'])\n",
    "from IPython.core.display import Image, display\n",
    "display(Image('OutputFile.png'))"
   ]
  },
  {
   "cell_type": "code",
   "execution_count": null,
   "metadata": {
    "collapsed": true
   },
   "outputs": [],
   "source": []
  }
 ],
 "metadata": {
  "anaconda-cloud": {},
  "kernelspec": {
   "display_name": "Python [default]",
   "language": "python",
   "name": "python2"
  },
  "language_info": {
   "codemirror_mode": {
    "name": "ipython",
    "version": 2
   },
   "file_extension": ".py",
   "mimetype": "text/x-python",
   "name": "python",
   "nbconvert_exporter": "python",
   "pygments_lexer": "ipython2",
   "version": "2.7.12"
  }
 },
 "nbformat": 4,
 "nbformat_minor": 0
}
