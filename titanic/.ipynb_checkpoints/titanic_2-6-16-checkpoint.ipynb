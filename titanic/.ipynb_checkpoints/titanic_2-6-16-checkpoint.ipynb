{
 "cells": [
  {
   "cell_type": "code",
   "execution_count": 1,
   "metadata": {
    "collapsed": true
   },
   "outputs": [],
   "source": [
    "import pandas as pd\n",
    "import numpy as np\n",
    "import matplotlib as plt\n",
    "from sklearn.linear_model import LogisticRegression\n",
    "from sklearn.cross_validation import KFold   #For K-fold cross validation\n",
    "from sklearn.ensemble import RandomForestClassifier\n",
    "from sklearn.tree import DecisionTreeClassifier, export_graphviz\n",
    "from sklearn import metrics\n",
    "import pydot\n",
    "from IPython.display import Image"
   ]
  },
  {
   "cell_type": "code",
   "execution_count": 2,
   "metadata": {
    "collapsed": false
   },
   "outputs": [
    {
     "data": {
      "text/plain": [
       "PassengerId      int64\n",
       "Survived         int64\n",
       "Pclass           int64\n",
       "Name            object\n",
       "Sex             object\n",
       "Age            float64\n",
       "SibSp            int64\n",
       "Parch            int64\n",
       "Ticket          object\n",
       "Fare           float64\n",
       "Cabin           object\n",
       "Embarked        object\n",
       "dtype: object"
      ]
     },
     "execution_count": 2,
     "metadata": {},
     "output_type": "execute_result"
    }
   ],
   "source": [
    "titanic=pd.read_csv(\"train.csv\")\n",
    "titanic[:5]\n",
    "titanic.dtypes"
   ]
  },
  {
   "cell_type": "code",
   "execution_count": 3,
   "metadata": {
    "collapsed": false
   },
   "outputs": [],
   "source": [
    "titanic[\"Age\"]= titanic[\"Age\"].fillna(titanic[\"Age\"].median())"
   ]
  },
  {
   "cell_type": "code",
   "execution_count": 4,
   "metadata": {
    "collapsed": false
   },
   "outputs": [],
   "source": [
    "titanic.loc[titanic[\"Sex\"]==\"male\" , \"Sex\"] = 0"
   ]
  },
  {
   "cell_type": "code",
   "execution_count": 5,
   "metadata": {
    "collapsed": false
   },
   "outputs": [],
   "source": [
    "titanic.loc[titanic[\"Sex\"]== \"female\",\"Sex\"] =1\n",
    "titanic[\"Embarked\"]= titanic[\"Embarked\"].fillna(\"S\")\n",
    "titanic.loc[titanic[\"Embarked\"]== \"S\",\"Embarked\"] =0\n",
    "titanic.loc[titanic[\"Embarked\"]== \"C\",\"Embarked\"] =1\n",
    "titanic.loc[titanic[\"Embarked\"]== \"Q\",\"Embarked\"] =2"
   ]
  },
  {
   "cell_type": "code",
   "execution_count": 6,
   "metadata": {
    "collapsed": false
   },
   "outputs": [],
   "source": [
    "def classification_model(model, data, predictors, outcome):\n",
    "    #Fit the model:\n",
    "    mod = model.fit(data[predictors],data[outcome])\n",
    "  \n",
    "    #Make predictions on training set:\n",
    "    predictions = model.predict(data[predictors])\n",
    "  \n",
    "    #Print accuracy\n",
    "    accuracy = metrics.accuracy_score(predictions,data[outcome])\n",
    "    print \"Accuracy : %s\" % \"{0:.3%}\".format(accuracy)\n",
    "    \n",
    "    \n",
    "    \n",
    "    precision = metrics.precision_recall_fscore_support(data[outcome], predictions, average = 'binary', warn_for=('precision', 'recall', 'f-score') )\n",
    "    print(precision)\n",
    "    \n",
    "    \n",
    "    \n",
    "    #Perform k-fold cross-validation with 5 folds\n",
    "    kf = KFold(data.shape[0], n_folds=5)\n",
    "    error = []\n",
    "    for train, test in kf:\n",
    "        # Filter training data\n",
    "        train_predictors = (data[predictors].iloc[train,:])\n",
    "    \n",
    "        # The target we're using to train the algorithm.\n",
    "        train_target = data[outcome].iloc[train]\n",
    "    \n",
    "        # Training the algorithm using the predictors and target.\n",
    "        model.fit(train_predictors, train_target)\n",
    "    \n",
    "        #Record error from each cross-validation run\n",
    "        error.append(model.score(data[predictors].iloc[test,:], data[outcome].iloc[test]))\n",
    "    #print predictions\n",
    "   \n",
    "    print \"Cross-Validation Score : %s\" % \"{0:.3%}\".format(np.mean(error))\n",
    "\n",
    "    #Fit the model again so that it can be refered outside the function:\n",
    "    model.fit(data[predictors],data[outcome]) \n",
    "    \n",
    "    #now making submission based on test file updated 6/6/16\n",
    "    submission_dummy = pd.DataFrame({\n",
    "        \"PassengerId\": titanic[\"PassengerId\"],\n",
    "        \"Survived\": predictions\n",
    "            })\n",
    "    submission_dummy.to_csv(\"kaggle_dummy.csv\", index=False)\n",
    "    #print submission\n",
    "    #submission.to_csv(\"kaggle.csv\", index=False)"
   ]
  },
  {
   "cell_type": "code",
   "execution_count": 10,
   "metadata": {
    "collapsed": false
   },
   "outputs": [
    {
     "name": "stdout",
     "output_type": "stream",
     "text": [
      "Accuracy : 61.616%\n",
      "(0.0, 0.0, 0.0, None)\n",
      "Cross-Validation Score : 61.610%\n"
     ]
    },
    {
     "data": {
      "text/plain": [
       "(891,)"
      ]
     },
     "execution_count": 10,
     "metadata": {},
     "output_type": "execute_result"
    }
   ],
   "source": [
    "outcome_var = 'Survived'\n",
    "model = LogisticRegression()\n",
    "predictor_var = ['Age']\n",
    "classification_model(model, titanic,predictor_var,outcome_var)\n",
    "titanic['Survived'].shape"
   ]
  },
  {
   "cell_type": "code",
   "execution_count": 9,
   "metadata": {
    "collapsed": false
   },
   "outputs": [
    {
     "name": "stdout",
     "output_type": "stream",
     "text": [
      "Accuracy : 78.339%\n",
      "(0.73065015479876161, 0.6900584795321637, 0.7097744360902255, None)\n",
      "Cross-Validation Score : 78.224%\n"
     ]
    }
   ],
   "source": [
    "outcome_var = 'Survived'\n",
    "model = LogisticRegression()\n",
    "predictor_var = ['Sex','Fare','Age']\n",
    "classification_model(model, titanic,predictor_var,outcome_var)"
   ]
  },
  {
   "cell_type": "code",
   "execution_count": 10,
   "metadata": {
    "collapsed": false
   },
   "outputs": [
    {
     "name": "stdout",
     "output_type": "stream",
     "text": [
      "Accuracy : 78.339%\n",
      "(0.73065015479876161, 0.6900584795321637, 0.7097744360902255, None)\n",
      "Cross-Validation Score : 78.224%\n"
     ]
    }
   ],
   "source": [
    "outcome_var = 'Survived'\n",
    "model = LogisticRegression()\n",
    "predictor_var = ['Sex',  'Fare', 'Age']\n",
    "classification_model(model, titanic,predictor_var,outcome_var)"
   ]
  },
  {
   "cell_type": "code",
   "execution_count": 11,
   "metadata": {
    "collapsed": false
   },
   "outputs": [
    {
     "data": {
      "text/plain": [
       "array([[ 2.31530086,  0.01156839, -0.01149689]])"
      ]
     },
     "execution_count": 11,
     "metadata": {},
     "output_type": "execute_result"
    }
   ],
   "source": [
    "model.coef_"
   ]
  },
  {
   "cell_type": "code",
   "execution_count": 12,
   "metadata": {
    "collapsed": false
   },
   "outputs": [
    {
     "name": "stdout",
     "output_type": "stream",
     "text": [
      "Accuracy : 97.868%\n",
      "(0.99088145896656532, 0.95321637426900585, 0.97168405365126675, None)\n",
      "Cross-Validation Score : 78.346%\n"
     ]
    },
    {
     "data": {
      "text/plain": [
       "array([ 0.31194178,  0.28830589,  0.2375211 ,  0.11101817,  0.05121306])"
      ]
     },
     "execution_count": 12,
     "metadata": {},
     "output_type": "execute_result"
    }
   ],
   "source": [
    "#decision trees with default val\n",
    "model = DecisionTreeClassifier()\n",
    "predictor_var= ['Sex', 'Fare', 'Age', 'Pclass','SibSp']\n",
    "classification_model(model, titanic, predictor_var, outcome_var)\n",
    "model.feature_importances_"
   ]
  },
  {
   "cell_type": "code",
   "execution_count": 13,
   "metadata": {
    "collapsed": false
   },
   "outputs": [
    {
     "name": "stdout",
     "output_type": "stream",
     "text": [
      "Accuracy : 85.522%\n",
      "(0.87632508833922262, 0.72514619883040932, 0.79359999999999997, None)\n",
      "Cross-Validation Score : 83.166%\n"
     ]
    },
    {
     "ename": "NameError",
     "evalue": "name 'data' is not defined",
     "output_type": "error",
     "traceback": [
      "\u001b[1;31m---------------------------------------------------------------------------\u001b[0m",
      "\u001b[1;31mNameError\u001b[0m                                 Traceback (most recent call last)",
      "\u001b[1;32m<ipython-input-13-99a030ec4db8>\u001b[0m in \u001b[0;36m<module>\u001b[1;34m()\u001b[0m\n\u001b[0;32m      7\u001b[0m \u001b[0mclf\u001b[0m \u001b[1;33m=\u001b[0m \u001b[0mDecisionTreeClassifier\u001b[0m\u001b[1;33m(\u001b[0m\u001b[0mmax_depth\u001b[0m\u001b[1;33m=\u001b[0m \u001b[1;36m6\u001b[0m\u001b[1;33m,\u001b[0m \u001b[0mmin_samples_split\u001b[0m\u001b[1;33m=\u001b[0m\u001b[1;36m10\u001b[0m\u001b[1;33m,\u001b[0m \u001b[0mmin_samples_leaf\u001b[0m\u001b[1;33m=\u001b[0m\u001b[1;36m4\u001b[0m\u001b[1;33m)\u001b[0m\u001b[1;33m\u001b[0m\u001b[0m\n\u001b[0;32m      8\u001b[0m \u001b[0mclf\u001b[0m\u001b[1;33m.\u001b[0m\u001b[0mfit\u001b[0m\u001b[1;33m(\u001b[0m\u001b[0mtitanic\u001b[0m\u001b[1;33m[\u001b[0m\u001b[0mpredictor_var\u001b[0m\u001b[1;33m]\u001b[0m\u001b[1;33m,\u001b[0m \u001b[0mtitanic\u001b[0m\u001b[1;33m[\u001b[0m\u001b[0moutcome_var\u001b[0m\u001b[1;33m]\u001b[0m\u001b[1;33m)\u001b[0m\u001b[1;33m\u001b[0m\u001b[0m\n\u001b[1;32m----> 9\u001b[1;33m \u001b[0mpredictions\u001b[0m \u001b[1;33m=\u001b[0m \u001b[0mclf\u001b[0m\u001b[1;33m.\u001b[0m\u001b[0mpredict\u001b[0m\u001b[1;33m(\u001b[0m\u001b[0mdata\u001b[0m\u001b[1;33m[\u001b[0m\u001b[0mpredictors\u001b[0m\u001b[1;33m]\u001b[0m\u001b[1;33m)\u001b[0m\u001b[1;33m\u001b[0m\u001b[0m\n\u001b[0m\u001b[0;32m     10\u001b[0m \u001b[1;33m\u001b[0m\u001b[0m\n\u001b[0;32m     11\u001b[0m \u001b[1;32mwith\u001b[0m \u001b[0mopen\u001b[0m\u001b[1;33m(\u001b[0m\u001b[1;34m'tree_2'\u001b[0m\u001b[1;33m+\u001b[0m\u001b[1;34m'.dot'\u001b[0m\u001b[1;33m,\u001b[0m\u001b[1;34m'w'\u001b[0m\u001b[1;33m)\u001b[0m \u001b[1;32mas\u001b[0m \u001b[0mdotfile\u001b[0m\u001b[1;33m:\u001b[0m\u001b[1;33m\u001b[0m\u001b[0m\n",
      "\u001b[1;31mNameError\u001b[0m: name 'data' is not defined"
     ]
    }
   ],
   "source": [
    "#decision trees with tuning\n",
    "model = DecisionTreeClassifier(max_depth= 6, min_samples_split=10, min_samples_leaf=4)\n",
    "predictor_var= ['Sex', 'Fare', 'Age', 'Pclass','SibSp','Embarked']\n",
    "classification_model(model, titanic, predictor_var, outcome_var)\n",
    "import sklearn\n",
    "import sklearn.tree\n",
    "clf = DecisionTreeClassifier(max_depth= 6, min_samples_split=10, min_samples_leaf=4)\n",
    "clf.fit(titanic[predictor_var], titanic[outcome_var])\n",
    "predictions = clf.predict(titanic[predictor_var])\n",
    "\n",
    "with open('tree_2'+'.dot','w') as dotfile:\n",
    "    sklearn.tree.export_graphviz(clf,dotfile,filled=True, rounded=True)\n",
    "(graph,) = pydot.graph_from_dot_file('tree_2.dot')\n",
    "graph.write_png('ans.png')\n",
    "\n",
    "Image(filename='ans.png')"
   ]
  },
  {
   "cell_type": "code",
   "execution_count": null,
   "metadata": {
    "collapsed": false,
    "scrolled": true
   },
   "outputs": [],
   "source": [
    "model = RandomForestClassifier(n_estimators=100,max_depth=10, min_samples_split=4, min_samples_leaf=3)\n",
    "predictor_var= ['Sex', 'Fare', 'Age', 'Pclass','SibSp','Embarked']\n",
    "classification_model(model, titanic, predictor_var, outcome_var)"
   ]
  },
  {
   "cell_type": "code",
   "execution_count": null,
   "metadata": {
    "collapsed": false
   },
   "outputs": [],
   "source": [
    "from sklearn.ensemble import   GradientBoostingClassifier\n",
    "model = GradientBoostingClassifier(n_estimators=25, min_samples_split= 4, min_samples_leaf= 2, max_depth= 3)\n",
    "predictor_var = ['Sex', 'Fare','Fare','Pclass','SibSp']\n",
    "classification_model(model, titanic, predictor_var, outcome_var)"
   ]
  },
  {
   "cell_type": "code",
   "execution_count": null,
   "metadata": {
    "collapsed": false
   },
   "outputs": [],
   "source": [
    "titanic_test = pd.read_csv(\"test.csv\")\n",
    "titanic_test[\"Age\"] = titanic_test[\"Age\"].fillna(titanic[\"Age\"].median())\n",
    "titanic_test[\"Fare\"] = titanic_test[\"Fare\"].fillna(titanic_test[\"Fare\"].median())\n",
    "titanic_test.loc[titanic_test[\"Sex\"] == \"male\", \"Sex\"] = 0 \n",
    "titanic_test.loc[titanic_test[\"Sex\"] == \"female\", \"Sex\"] = 1\n",
    "titanic_test[\"Embarked\"] = titanic_test[\"Embarked\"].fillna(\"S\")\n",
    "\n",
    "titanic_test.loc[titanic_test[\"Embarked\"] == \"S\", \"Embarked\"] = 0\n",
    "titanic_test.loc[titanic_test[\"Embarked\"] == \"C\", \"Embarked\"] = 1\n",
    "titanic_test.loc[titanic_test[\"Embarked\"] == \"Q\", \"Embarked\"] = 2\n",
    "model = DecisionTreeClassifier(max_depth= 6, min_samples_split=10, min_samples_leaf=4)\n",
    "predictor_var= ['Sex', 'Fare', 'Age', 'Pclass','SibSp','Embarked']\n",
    "outcome_var = 'Survived'\n",
    "classification_model(model, titanic, predictor_var, outcome_var)\n",
    "\n",
    "                     \n",
    "predictions = model.predict(titanic_test[predictor_var])\n",
    "submission = pd.DataFrame({\n",
    "        \"PassengerId\": titanic_test[\"PassengerId\"],\n",
    "        \"Survived\": predictions\n",
    "          })\n",
    "#print submission\n",
    "#print predictions\n",
    "submission.to_csv(\"kaggle_final_titanic.csv\", index=False)"
   ]
  },
  {
   "cell_type": "code",
   "execution_count": null,
   "metadata": {
    "collapsed": false
   },
   "outputs": [],
   "source": [
    "#decision trees with tuning\n",
    "model = DecisionTreeClassifier(max_depth= 6, min_samples_split=10, min_samples_leaf=4)\n",
    "predictor_var= ['Sex', 'Fare', 'Age', 'Pclass','SibSp','Embarked']\n",
    "classification_model(model, titanic, predictor_var, outcome_var)\n",
    "import sklearn\n",
    "import sklearn.tree\n",
    "clf = DecisionTreeClassifier(max_depth= 6, min_samples_split=10, min_samples_leaf=4)\n",
    "clf.fit(titanic[predictor_var], titanic[outcome_var])\n",
    "predictions = clf.predict(titanic[predictor_var])\n",
    "\n",
    "\n",
    "\n",
    "d = {'predicted': predictions, 'actual': titanic['Survived'], 'name': titanic['Name']}\n",
    "df = pd.DataFrame(data=d)"
   ]
  },
  {
   "cell_type": "code",
   "execution_count": null,
   "metadata": {
    "collapsed": false,
    "scrolled": false
   },
   "outputs": [],
   "source": [
    "#if df['predicted'][2] != df['actual'][2]:\n",
    "#    print(df['name'])\n",
    "for i in range(0, len(df)):\n",
    "\n",
    "    if df['actual'][i] != df['predicted'][i]:\n",
    "        print(df['name'][i])\n",
    "        "
   ]
  },
  {
   "cell_type": "code",
   "execution_count": 19,
   "metadata": {
    "collapsed": false
   },
   "outputs": [
    {
     "data": {
      "text/plain": [
       "PassengerId      int64\n",
       "Survived         int64\n",
       "Pclass           int64\n",
       "Name            object\n",
       "Sex             object\n",
       "Age            float64\n",
       "SibSp            int64\n",
       "Parch            int64\n",
       "Ticket          object\n",
       "Fare           float64\n",
       "Cabin           object\n",
       "Embarked        object\n",
       "dtype: object"
      ]
     },
     "execution_count": 19,
     "metadata": {},
     "output_type": "execute_result"
    }
   ],
   "source": [
    "titanic.dtypes"
   ]
  }
 ],
 "metadata": {
  "kernelspec": {
   "display_name": "Python 2",
   "language": "python",
   "name": "python2"
  },
  "language_info": {
   "codemirror_mode": {
    "name": "ipython",
    "version": 2
   },
   "file_extension": ".py",
   "mimetype": "text/x-python",
   "name": "python",
   "nbconvert_exporter": "python",
   "pygments_lexer": "ipython2",
   "version": "2.7.6"
  }
 },
 "nbformat": 4,
 "nbformat_minor": 0
}
