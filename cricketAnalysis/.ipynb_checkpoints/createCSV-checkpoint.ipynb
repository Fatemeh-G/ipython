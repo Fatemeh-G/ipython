{
 "cells": [
  {
   "cell_type": "code",
   "execution_count": 12,
   "metadata": {
    "collapsed": true
   },
   "outputs": [],
   "source": [
    "from bs4 import BeautifulSoup \n",
    "import urllib2\n",
    "import numpy as np\n",
    "import pandas as pd"
   ]
  },
  {
   "cell_type": "code",
   "execution_count": 15,
   "metadata": {
    "collapsed": false
   },
   "outputs": [],
   "source": [
    "def getPlayerBattingDetails(pno, matchFormat, location):\n",
    "    url  = \"http://stats.espncricinfo.com/ci/engine/player/\"\n",
    "    url  = url + str(pno) + \".html?\"\n",
    "    if( matchFormat == 1):\n",
    "        url = url + \"class=2;\"\n",
    "    elif( matchFormat == 2):\n",
    "        url = url + \"class=1;\"\n",
    "    elif( matchFormat == 3):\n",
    "        url = url + \"class=3;\"\n",
    "       \n",
    "    if(location == 1):\n",
    "        url = url + \"home_or_away=1;\"\n",
    "    if(location == 2):\n",
    "        url = url + \"home_or_away=2;\"\n",
    "    \n",
    "    url = url + \"template=results;type=batting;view=match\"\n",
    "    \n",
    "    print(url)\n",
    "    \n",
    "    page=urllib2.urlopen(url)\n",
    "    soup = BeautifulSoup(page.read(),'html.parser')\n",
    "    print(soup.prettify())\n",
    "    \n",
    "    \n",
    "    table = soup.find(\"caption\", text=\"Match by match list\").find_parent(\"table\")\n",
    "    allRows = table.findAll('tr')\n",
    "    print(len(allRows))\n",
    "    allRows = allRows[1:]\n",
    "    \n",
    "    runs = []\n",
    "    bf = []\n",
    "    sr = []\n",
    "    fours = []\n",
    "    sixes  = []\n",
    "    opposition = []\n",
    "    venue = []\n",
    "    date = []\n",
    "    for row in allRows: \n",
    "        col = row.findAll('td')\n",
    "    \n",
    "        colstring0 = str(col[0].text)\n",
    "    \n",
    "        if(colstring0 != 'DNB' and colstring0 != 'TDNB'):\n",
    "        \n",
    "            runs.append(str(col[1].text))\n",
    "            bf.append(str(col[2].text))\n",
    "            sr.append(str(col[3].text))\n",
    "            fours.append(str(col[4].text))\n",
    "            sixes.append(str(col[5].text))\n",
    "            opposition.append(str(col[7].text))\n",
    "            venue.append(str(col[8].text))\n",
    "            date.append(str(col[9].text))\n",
    "            \n",
    "    data = {'runs': runs, 'balls': bf, 'srate' : sr, 'fours'  : fours ,'sixes' : sixes, 'oppo' : opposition, 'venue' : venue, 'date' : date}\n",
    "    df = pd.DataFrame(data=data)\n",
    "    file_name = str(pno)\n",
    "    file_name =  file_name + \"batting.csv\"\n",
    "    df.to_csv(file_name)\n",
    "    \n",
    "    \n",
    "    return(url)"
   ]
  },
  {
   "cell_type": "code",
   "execution_count": null,
   "metadata": {
    "collapsed": false,
    "scrolled": true
   },
   "outputs": [
    {
     "name": "stdout",
     "output_type": "stream",
     "text": [
      "http://stats.espncricinfo.com/ci/engine/player/35263.html?class=2;template=results;type=batting;view=match\n"
     ]
    }
   ],
   "source": [
    "link = (getPlayerBattingDetails(35263,1,0))  "
   ]
  },
  {
   "cell_type": "code",
   "execution_count": null,
   "metadata": {
    "collapsed": true
   },
   "outputs": [],
   "source": [
    "def getPlayerBowlingDetails(pno, matchFormat, location):\n",
    "    url  = \"http://stats.espncricinfo.com/ci/engine/player/\"\n",
    "    url  = url + str(pno) + \".html?\"\n",
    "    if( matchFormat == 1):\n",
    "        url = url + \"class=2;\"\n",
    "    elif( matchFormat == 2):\n",
    "        url = url + \"class=1;\"\n",
    "    elif( matchFormat == 3):\n",
    "        url = url + \"class=3;\"\n",
    "       \n",
    "    if(location == 1):\n",
    "        url = url + \"home_or_away=1;\"\n",
    "    if(location == 2):\n",
    "        url = url + \"home_or_away=2;\"\n",
    "    \n",
    "    url = url + \"template=results;type=bowling;view=match\"\n",
    "    \n",
    "    print(url)\n",
    "    \n",
    "    page=urllib2.urlopen(url)\n",
    "    soup = BeautifulSoup(page.read(),'html.parser')\n",
    "    #print(soup.prettify())\n",
    "    \n",
    "    table = soup.find(\"caption\", text=\"Innings by innings list\").find_parent(\"table\")\n",
    "    row =  table.findAll('tr')\n",
    "    col = row[2].findAll('td')\n",
    "    \n",
    "    allRows = table.findAll('tr')\n",
    "    print(len(allRows))\n",
    "    allRows = allRows[1:]\n",
    "    \n",
    "    \n",
    "    overs = []\n",
    "    mdns = []\n",
    "    runs = []\n",
    "    wickets = []\n",
    "    econ  = []\n",
    "    opposition = []\n",
    "    venue = []\n",
    "    date = []\n",
    "    for row in allRows: \n",
    "        col = row.findAll('td')\n",
    "    \n",
    "        colstring0 = str(col[0].text)\n",
    "    \n",
    "        if(colstring0 != 'DNB'):\n",
    "        \n",
    "            overs.append(str(col[0].text))\n",
    "            mdns.append(str(col[1].text))\n",
    "            runs.append(str(col[2].text))\n",
    "            wickets.append(str(col[3].text))\n",
    "            econ.append(str(col[4].text))\n",
    "            opposition.append(str(col[8].text))\n",
    "            venue.append(str(col[9].text))\n",
    "            date.append(str(col[10].text))\n",
    "    data = {'overs': overs, 'mdns': mdns, 'runs' : runs, 'wickets'  : wickets ,'econ' : econ, 'oppo' : opposition, 'venue' : venue, 'date' : date}\n",
    "    df = pd.DataFrame(data=data)\n",
    "    file_name = str(pno)\n",
    "    file_name =  file_name + \"bowling.csv\"\n",
    "    df.to_csv(file_name)\n",
    "    \n",
    "    \n",
    "    return(url)"
   ]
  },
  {
   "cell_type": "code",
   "execution_count": null,
   "metadata": {
    "collapsed": false
   },
   "outputs": [],
   "source": [
    "link = (getPlayerBowlingDetails(35263,1,0))  "
   ]
  }
 ],
 "metadata": {
  "kernelspec": {
   "display_name": "Python 2",
   "language": "python",
   "name": "python2"
  },
  "language_info": {
   "codemirror_mode": {
    "name": "ipython",
    "version": 2
   },
   "file_extension": ".py",
   "mimetype": "text/x-python",
   "name": "python",
   "nbconvert_exporter": "python",
   "pygments_lexer": "ipython2",
   "version": "2.7.6"
  }
 },
 "nbformat": 4,
 "nbformat_minor": 0
}
