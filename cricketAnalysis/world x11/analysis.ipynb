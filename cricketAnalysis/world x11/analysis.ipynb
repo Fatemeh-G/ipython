{
 "cells": [
  {
   "cell_type": "code",
   "execution_count": 14,
   "metadata": {
    "collapsed": true
   },
   "outputs": [],
   "source": [
    "import pandas as pd\n",
    "import numpy as np\n",
    "import matplotlib.pyplot as plt\n",
    "%matplotlib inline\n",
    "plt.rcParams['figure.figsize'] = (10,6)"
   ]
  },
  {
   "cell_type": "code",
   "execution_count": 3,
   "metadata": {
    "collapsed": false
   },
   "outputs": [],
   "source": [
    "df2015_1 = pd.read_csv(\"38699batting.csv\")\n",
    "df2015_2 = pd.read_csv(\"43906batting.csv\")\n",
    "df2015_3 = pd.read_csv(\"44936batting.csv\")\n",
    "df2015_4 = pd.read_csv(\"48472batting.csv\")\n",
    "df2015_5 = pd.read_csv(\"50710batting.csv\")\n",
    "df2015_6 = pd.read_csv(\"267192batting.csv\")\n",
    "df2015_7 = pd.read_csv(\"303669batting.csv\")\n",
    "\n",
    "df2014_1 = pd.read_csv(\"41434batting.csv\")\n",
    "df2014_2 = pd.read_csv(\"379143batting.csv\")\n",
    "df2014_3 = pd.read_csv(\"253802batting.csv\")\n",
    "df2014_4 = pd.read_csv(\"4451batting.csv\")\n",
    "df2014_5 = pd.read_csv(\"44936batting.csv\")\n",
    "df2014_6 = pd.read_csv(\"28081batting.csv\")\n",
    "df2014_7 = pd.read_csv(\"51439batting.csv\")\n",
    "df2014_8 = pd.read_csv(\"34102batting.csv\")\n",
    "\n",
    "\n",
    "\n",
    "df2013_1 = pd.read_csv(\"48472batting.csv\")\n",
    "df2013_2 = pd.read_csv(\"28235batting.csv\")\n",
    "df2013_3 = pd.read_csv(\"43906batting.csv\")\n",
    "df2013_4 = pd.read_csv(\"50710batting.csv\")\n",
    "df2013_5 = pd.read_csv(\"44936batting.csv\")\n",
    "df2013_6 = pd.read_csv(\"28081batting.csv\")\n",
    "df2013_7 = pd.read_csv(\"234675batting.csv\")\n",
    "\n",
    "df2012_1 = pd.read_csv(\"28763batting.csv\")\n",
    "df2012_2 = pd.read_csv(\"11728batting.csv\")\n",
    "df2012_3 = pd.read_csv(\"50710batting.csv\")\n",
    "df2012_4 = pd.read_csv(\"253802batting.csv\")\n",
    "df2012_5 = pd.read_csv(\"4578batting.csv\")\n",
    "df2012_6 = pd.read_csv(\"28081batting.csv\")\n",
    "df2012_7 = pd.read_csv(\"8180batting.csv\")\n",
    "df2012_8 = pd.read_csv(\"42639batting.csv\")\n",
    "\n",
    "\n",
    "\n",
    "df2011_1 = pd.read_csv(\"35263batting.csv\")\n",
    "df2011_2 = pd.read_csv(\"50710batting.csv\")\n",
    "df2011_3 = pd.read_csv(\"44936batting.csv\")\n",
    "df2011_4 = pd.read_csv(\"8180batting.csv\")\n",
    "df2011_5 = pd.read_csv(\"36084batting.csv\")\n",
    "df2011_6 = pd.read_csv(\"28081batting.csv\")\n",
    "\n",
    "\n"
   ]
  },
  {
   "cell_type": "code",
   "execution_count": 4,
   "metadata": {
    "collapsed": false
   },
   "outputs": [],
   "source": [
    "dfs = [[df2015_1, df2015_2, df2015_3, df2015_4, df2015_5, df2015_6, df2015_7], [df2014_8,df2014_7,df2014_6,df2014_5,df2014_4,df2014_3,df2014_2,df2014_1], [df2013_1, df2013_1, df2013_2, df2013_3, df2013_4, df2013_5, df2013_6, df2013_7], [df2012_1 ,df2012_2 ,df2012_3 ,df2012_4 ,df2012_5 ,df2012_6 ,df2012_7 ,df2012_8 ], [df2011_1, df2011_2, df2011_3, df2011_4, df2011_5, df2011_6]]"
   ]
  },
  {
   "cell_type": "code",
   "execution_count": 13,
   "metadata": {
    "collapsed": false
   },
   "outputs": [
    {
     "name": "stdout",
     "output_type": "stream",
     "text": [
      "[39.794904832629697, 36.258658990702919, 37.223505048715182, 35.339172677450598, 36.29614058082317]\n"
     ]
    }
   ],
   "source": [
    "yrmean = []\n",
    "for yrdf in dfs:\n",
    "    means  = 0\n",
    "    for df in yrdf:\n",
    "        means = means  +  df['runs'].mean()\n",
    "    yrmean.append(means/len(yrdf))\n",
    "print(yrmean)"
   ]
  },
  {
   "cell_type": "code",
   "execution_count": 15,
   "metadata": {
    "collapsed": false
   },
   "outputs": [
    {
     "data": {
      "image/png": "[encoded data removed]",
      "text/plain": [
       "<matplotlib.figure.Figure at 0x7fda4cd19990>"
      ]
     },
     "metadata": {},
     "output_type": "display_data"
    }
   ],
   "source": [
    "plt.plot(yrmean)\n",
    "plt.show()"
   ]
  },
  {
   "cell_type": "code",
   "execution_count": 16,
   "metadata": {
    "collapsed": false
   },
   "outputs": [],
   "source": [
    "minInnings = []\n",
    "for yrdf in dfs:\n",
    "    mini = 9999\n",
    "    for df in yrdf:\n",
    "        if(mini > len(df)):\n",
    "            mini = len(df)\n",
    "    minInnings.append(mini)"
   ]
  },
  {
   "cell_type": "code",
   "execution_count": 17,
   "metadata": {
    "collapsed": false
   },
   "outputs": [
    {
     "data": {
      "text/plain": [
       "[73, 69, 73, 92, 169]"
      ]
     },
     "execution_count": 17,
     "metadata": {},
     "output_type": "execute_result"
    }
   ],
   "source": [
    "minInnings"
   ]
  },
  {
   "cell_type": "code",
   "execution_count": 24,
   "metadata": {
    "collapsed": false
   },
   "outputs": [
    {
     "data": {
      "text/plain": [
       "0       3 Apr 2003\n",
       "1       4 Apr 2003\n",
       "2       8 Apr 2003\n",
       "3      10 Apr 2003\n",
       "4      10 May 2003\n",
       "5      11 May 2003\n",
       "6      18 May 2003\n",
       "7      20 May 2003\n",
       "8      23 May 2003\n",
       "9      17 Jun 2003\n",
       "10     20 Jun 2003\n",
       "11     22 Jun 2003\n",
       "12      9 Sep 2003\n",
       "13     12 Sep 2003\n",
       "14     15 Sep 2003\n",
       "15     18 Sep 2003\n",
       "16     21 Sep 2003\n",
       "17      3 Oct 2003\n",
       "18      5 Oct 2003\n",
       "19      7 Oct 2003\n",
       "20     10 Oct 2003\n",
       "21     12 Oct 2003\n",
       "22     16 Jan 2005\n",
       "23     19 Jan 2005\n",
       "24     23 Jan 2005\n",
       "25     28 Jan 2005\n",
       "26      4 Feb 2005\n",
       "27      6 Feb 2005\n",
       "28      2 Apr 2005\n",
       "29      5 Apr 2005\n",
       "          ...     \n",
       "147    26 Aug 2014\n",
       "148    30 Aug 2014\n",
       "149     8 Dec 2014\n",
       "150    12 Dec 2014\n",
       "151    14 Dec 2014\n",
       "152    17 Dec 2014\n",
       "153    31 Jan 2015\n",
       "154     3 Feb 2015\n",
       "155    17 Apr 2015\n",
       "156    19 Apr 2015\n",
       "157    22 Apr 2015\n",
       "158    26 May 2015\n",
       "159    29 May 2015\n",
       "160    31 May 2015\n",
       "161    11 Jul 2015\n",
       "162    15 Jul 2015\n",
       "163    19 Jul 2015\n",
       "164    22 Jul 2015\n",
       "165    26 Jul 2015\n",
       "166     1 Oct 2015\n",
       "167     3 Oct 2015\n",
       "168     5 Oct 2015\n",
       "169    11 Nov 2015\n",
       "170    13 Nov 2015\n",
       "171    17 Nov 2015\n",
       "172    20 Nov 2015\n",
       "173    25 Jan 2016\n",
       "174    31 Jan 2016\n",
       "175    18 Aug 2016\n",
       "176    24 Aug 2016\n",
       "Name: date, dtype: object"
      ]
     },
     "execution_count": 24,
     "metadata": {},
     "output_type": "execute_result"
    }
   ],
   "source": [
    "df2014_1['date']"
   ]
  }
 ],
 "metadata": {
  "kernelspec": {
   "display_name": "Python 2",
   "language": "python",
   "name": "python2"
  },
  "language_info": {
   "codemirror_mode": {
    "name": "ipython",
    "version": 2
   },
   "file_extension": ".py",
   "mimetype": "text/x-python",
   "name": "python",
   "nbconvert_exporter": "python",
   "pygments_lexer": "ipython2",
   "version": "2.7.6"
  }
 },
 "nbformat": 4,
 "nbformat_minor": 0
}
