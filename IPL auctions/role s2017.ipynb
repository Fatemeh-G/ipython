{
 "cells": [
  {
   "cell_type": "code",
   "execution_count": 18,
   "metadata": {
    "collapsed": true
   },
   "outputs": [],
   "source": [
    "import pandas as pd\n",
    "df = pd.read_csv('s2017.csv')"
   ]
  },
  {
   "cell_type": "code",
   "execution_count": 19,
   "metadata": {
    "collapsed": false
   },
   "outputs": [
    {
     "data": {
      "text/html": [
       "<div>\n",
       "<table border=\"1\" class=\"dataframe\">\n",
       "  <thead>\n",
       "    <tr style=\"text-align: right;\">\n",
       "      <th></th>\n",
       "      <th>List    Sr. No.</th>\n",
       "      <th>fname</th>\n",
       "      <th>sname</th>\n",
       "      <th>Specialism</th>\n",
       "      <th>Reserve Price Rs Lakh</th>\n",
       "    </tr>\n",
       "  </thead>\n",
       "  <tbody>\n",
       "    <tr>\n",
       "      <th>0</th>\n",
       "      <td>1</td>\n",
       "      <td>Faiz</td>\n",
       "      <td>Fazal</td>\n",
       "      <td>Batsman</td>\n",
       "      <td>30</td>\n",
       "    </tr>\n",
       "    <tr>\n",
       "      <th>1</th>\n",
       "      <td>2</td>\n",
       "      <td>Martin</td>\n",
       "      <td>Guptill</td>\n",
       "      <td>Batsman</td>\n",
       "      <td>50</td>\n",
       "    </tr>\n",
       "    <tr>\n",
       "      <th>2</th>\n",
       "      <td>3</td>\n",
       "      <td>Alex</td>\n",
       "      <td>Hales</td>\n",
       "      <td>Batsman</td>\n",
       "      <td>100</td>\n",
       "    </tr>\n",
       "    <tr>\n",
       "      <th>3</th>\n",
       "      <td>4</td>\n",
       "      <td>Eoin</td>\n",
       "      <td>Morgan</td>\n",
       "      <td>Batsman</td>\n",
       "      <td>200</td>\n",
       "    </tr>\n",
       "    <tr>\n",
       "      <th>4</th>\n",
       "      <td>5</td>\n",
       "      <td>Jason</td>\n",
       "      <td>Roy</td>\n",
       "      <td>Batsman</td>\n",
       "      <td>100</td>\n",
       "    </tr>\n",
       "  </tbody>\n",
       "</table>\n",
       "</div>"
      ],
      "text/plain": [
       "   List    Sr. No.   fname    sname Specialism  Reserve Price Rs Lakh\n",
       "0                1    Faiz    Fazal    Batsman                     30\n",
       "1                2  Martin  Guptill    Batsman                     50\n",
       "2                3    Alex    Hales    Batsman                    100\n",
       "3                4    Eoin   Morgan    Batsman                    200\n",
       "4                5   Jason      Roy    Batsman                    100"
      ]
     },
     "execution_count": 19,
     "metadata": {},
     "output_type": "execute_result"
    }
   ],
   "source": [
    "df[:5]"
   ]
  },
  {
   "cell_type": "code",
   "execution_count": 20,
   "metadata": {
    "collapsed": false
   },
   "outputs": [
    {
     "data": {
      "text/plain": [
       "All-rounder    146\n",
       "Bowler         114\n",
       "Batsman         61\n",
       "Wk/Batsman      30\n",
       "Name: Specialism, dtype: int64"
      ]
     },
     "execution_count": 20,
     "metadata": {},
     "output_type": "execute_result"
    }
   ],
   "source": [
    "df['Specialism'].value_counts()"
   ]
  },
  {
   "cell_type": "code",
   "execution_count": 23,
   "metadata": {
    "collapsed": false,
    "scrolled": false
   },
   "outputs": [
    {
     "name": "stdout",
     "output_type": "stream",
     "text": [
      "351\n",
      "351\n"
     ]
    }
   ],
   "source": [
    "role = []\n",
    "pname= []\n",
    "wrds = ['Batsman','All-rounder','Wk/Batsman']\n",
    "for inde, row in df.iterrows():\n",
    "    #print row['Specialism']\n",
    "    if str(row['Specialism']) != 'nan':\n",
    "        if any( x in str(row['Specialism']) for x in wrds):\n",
    "            pname.append(row['fname'] + '+' + row['sname'])\n",
    "            role.append(1)\n",
    "        else:\n",
    "            pname.append(row['fname'] + '+' + row['sname'])\n",
    "            role.append(0)\n",
    "print  len(role)\n",
    "print  len(pname)\n"
   ]
  },
  {
   "cell_type": "code",
   "execution_count": 25,
   "metadata": {
    "collapsed": false
   },
   "outputs": [
    {
     "name": "stdout",
     "output_type": "stream",
     "text": [
      "351\n",
      "351\n"
     ]
    }
   ],
   "source": [
    "roles2017 = pd.DataFrame()\n",
    "print len(pname)\n",
    "print len(role)\n",
    "\n",
    "roles2017['pname'] = pname\n",
    "roles2017['role'] = role\n",
    "roles2017.to_csv('roles_2017.csv')"
   ]
  },
  {
   "cell_type": "code",
   "execution_count": null,
   "metadata": {
    "collapsed": true
   },
   "outputs": [],
   "source": []
  }
 ],
 "metadata": {
  "anaconda-cloud": {},
  "kernelspec": {
   "display_name": "Python [default]",
   "language": "python",
   "name": "python2"
  },
  "language_info": {
   "codemirror_mode": {
    "name": "ipython",
    "version": 2
   },
   "file_extension": ".py",
   "mimetype": "text/x-python",
   "name": "python",
   "nbconvert_exporter": "python",
   "pygments_lexer": "ipython2",
   "version": "2.7.12"
  }
 },
 "nbformat": 4,
 "nbformat_minor": 1
}
