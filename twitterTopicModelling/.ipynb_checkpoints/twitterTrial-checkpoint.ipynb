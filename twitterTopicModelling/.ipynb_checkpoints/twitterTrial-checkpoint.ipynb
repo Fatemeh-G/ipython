{
 "cells": [
  {
   "cell_type": "code",
   "execution_count": 4,
   "metadata": {
    "collapsed": false
   },
   "outputs": [],
   "source": [
    "import tweepy\n",
    "from pymongo import MongoClient\n",
    "import json\n",
    "import pandas \n",
    "import unicodedata\n",
    "from subprocess import check_output\n",
    "#from wordcloud import WordCloud, STOPWORDS\n",
    "import matplotlib.pyplot as plt\n",
    "import numpy as np\n",
    "from PIL import Image"
   ]
  },
  {
   "cell_type": "code",
   "execution_count": 5,
   "metadata": {
    "collapsed": false
   },
   "outputs": [
    {
     "data": {
      "text/plain": [
       "443"
      ]
     },
     "execution_count": 5,
     "metadata": {},
     "output_type": "execute_result"
    }
   ],
   "source": [
    "client = MongoClient('localhost', 27017)\n",
    "db = client.newtweetsDB\n",
    "db.cooltweets.count()"
   ]
  },
  {
   "cell_type": "code",
   "execution_count": 6,
   "metadata": {
    "collapsed": false
   },
   "outputs": [],
   "source": [
    "cursor = db.cooltweets.find() #Where tweets is my collection\n",
    "tweet_fields = ['text','id']\n",
    "docs = pandas.DataFrame(list(cursor), columns = tweet_fields)"
   ]
  },
  {
   "cell_type": "code",
   "execution_count": 7,
   "metadata": {
    "collapsed": false
   },
   "outputs": [],
   "source": [
    "doc_complete  = docs['text'].tolist()\n"
   ]
  },
  {
   "cell_type": "code",
   "execution_count": 32,
   "metadata": {
    "collapsed": false
   },
   "outputs": [],
   "source": [
    "import gensim\n",
    "from gensim import corpora\n",
    "from nltk.corpus import stopwords \n",
    "from nltk.stem.wordnet import WordNetLemmatizer\n",
    "import string\n",
    "\n",
    "stop = set(stopwords.words('english'))\n",
    "exclude = set(string.punctuation) \n",
    "lemma = WordNetLemmatizer()\n",
    "\n",
    "def clean(doc):\n",
    "    stop_free = \" \".join([i for i in doc.lower().split() if i not in stop])\n",
    "    punc_free = ''.join(ch for ch in stop_free if ch not in exclude)\n",
    "    normalized = \" \".join(lemma.lemmatize(word) for word in punc_free.split())\n",
    "    return normalized\n",
    "\n",
    "doc_clean = [clean(doc).split() for doc in doc_complete]    "
   ]
  },
  {
   "cell_type": "code",
   "execution_count": 33,
   "metadata": {
    "collapsed": false,
    "scrolled": true
   },
   "outputs": [],
   "source": [
    "import re\n",
    "emoji_pattern = re.compile(\"[\"\n",
    "        u\"\\U0001F600-\\U0001F64F\"  # emoticons\n",
    "        u\"\\U0001F300-\\U0001F5FF\"  # symbols & pictographs\n",
    "        u\"\\U0001F680-\\U0001F6FF\"  # transport & map symbols\n",
    "        u\"\\U0001F1E0-\\U0001F1FF\"  # flags (iOS)\n",
    "                           \"]+\", flags=re.UNICODE)\n",
    "doc_cleanNew = []\n",
    "for doc in doc_clean:\n",
    "    newdoc =  []\n",
    "    for word in doc:\n",
    "        #print(word)\n",
    "        word  =  emoji_pattern.sub(r'', word)\n",
    "        word =    word.encode('ascii',errors='ignore')\n",
    "        if (word != ''):\n",
    "            newdoc.append(word)\n",
    "        #print(word)\n",
    "    #print(doc)\n",
    "    #print(newdoc)\n",
    "    doc_cleanNew.append(newdoc)\n",
    "        \n",
    "#print(doc_cleanNew)\n",
    "        \n"
   ]
  },
  {
   "cell_type": "code",
   "execution_count": 34,
   "metadata": {
    "collapsed": true
   },
   "outputs": [],
   "source": [
    "corpora.Dictionary(doc_cleanNew)\n",
    "from nltk.corpus import stopwords \n",
    "from nltk.stem.wordnet import WordNetLemmatizer\n",
    "import string\n",
    "dictionary = corpora.Dictionary(doc_cleanNew)"
   ]
  },
  {
   "cell_type": "code",
   "execution_count": 35,
   "metadata": {
    "collapsed": false
   },
   "outputs": [],
   "source": [
    "doc_term_matrix = [dictionary.doc2bow(doc) for doc in doc_cleanNew]"
   ]
  },
  {
   "cell_type": "code",
   "execution_count": 36,
   "metadata": {
    "collapsed": false
   },
   "outputs": [
    {
     "name": "stdout",
     "output_type": "stream",
     "text": [
      "[(0, u'0.006*one + 0.005*rohan + 0.005*ji + 0.004*amp + 0.004*b + 0.004*support'), (1, u'0.019*gurmeetramrahim + 0.016*effectoflionheart + 0.007*westworldfinaleonswp + 0.007*swpremiere + 0.006*it + 0.005*haryana'), (2, u'0.005*ki + 0.004*ji + 0.004*like + 0.004*r + 0.004*via + 0.004*kha'), (3, u'0.014*here + 0.013*sipsip + 0.013*httpstcom7u54y9l6y + 0.013*song + 0.013*raviraj + 0.013*mistaabaaz')]\n"
     ]
    }
   ],
   "source": [
    "Lda = gensim.models.ldamodel.LdaModel\n",
    "ldamodel = Lda(doc_term_matrix, num_topics=4 , id2word = dictionary, passes=100)\n",
    "print(ldamodel.print_topics(num_topics= 4, num_words= 6))"
   ]
  },
  {
   "cell_type": "code",
   "execution_count": 37,
   "metadata": {
    "collapsed": false
   },
   "outputs": [],
   "source": [
    "stri = ' '\n",
    "for wrd in doc_cleanNew:\n",
    "    \n",
    "    for indword in wrd:\n",
    "        if (indword != 'rt'):\n",
    "            stri = stri + indword + ' '"
   ]
  },
  {
   "cell_type": "code",
   "execution_count": 38,
   "metadata": {
    "collapsed": false
   },
   "outputs": [
    {
     "data": {
      "text/plain": [
       "' ive always enjoyed traveling experience different culture different httpstcoukikvrd6xf cc whowilltweeet httpstco325bvuwjxe mgurudath hain aise bos sabko mile gt 145 lakh cr estd nincompoop govt gifted 2 lac cr funding fake currency holder httpstcoflt0l29bjl swpremiere a8 c theresa charlotte westworldfinaleonswp biggboss yes rohan go support rohan rbganesh1 httpstcom7u54y9l6y please share song charan raviraj mistaabaaz sipsip here aaryababbar222 delhi gov working overnight change face govt school one govt school delhi httpstcoikt49wqclc narendramodi httpstcoanbc8is93j gurmeetramrahim efectoflionheart goodnight pita ji happy manveer plying good absence chutia mannu bb10 emotweet httpstcotj5ujiyeon meghanavirat madbwoyy yo wassup simple logic bigger currency noteshigher risk hoardingampcorruptionampviceversa smaller onesif so lie wisdomjsb iamsrk anupamachopra love cnni legible stay ever dc httpstcom7u54y9l6y please share song charan raviraj mistaabaaz sipsip here isoniamann anupampkher dont u carry govardhan parvat kaani ungli dont worry joydeep bjp4india getting shop oops museum httpstcoe3iffc9eko j jaylalita ji ki aatma ko shanti deeshwar bharat ki ek great leader amma woman empowerment india jai hind httpstco2ghtnojdjm please guy vote lopa9999 biggboss biggboss10 lopa httpstcoibw6jnypp9 tension httpstcovqchlfmh6o harrystyles youre 2nd no retweeted tweet dont know feeling 22 congratulation harrystyles cathywatsonbot hi cathy 53 madhankarky ur nice lyricist marineplaza an 7 a twitter socialandsavvywithhmp narendramodiin amitshah bjp cant declare donor name detail alyyshahh here made joke httpstcom7u54y9l6y please share song charan raviraj mistaabaaz sipsip here actvikramsingh thank thank thank you live south fool really think trash good sup httpstcoc9rme2i7wh biggboss saale haramzaade om ko nikalo nahin hum log hi house mein ghus kar nikaal denge even big bos bastard saving om httpstcom7u54y9l6y please share song charan raviraj mistaabaaz sipsip here bb10 imshripad have dinner early watch bb cup tea exclusive 3bhk flat forsale tata serein pokharanroad2 thane w apartment residential property httpstcoiaq0giwo6z pakistani following fundamental islam rest raw working httpstcobwzfvgfije stop one hour gurmeetramrahim lionheartimpact celebration lyk festival everywhere fr nonstopcrazeforlionheart fantastic rammandir4hindus textualoffender hawahawayi hahaha thats awesome unboxing hitachi cc14std chop saw 14 inch gangtok sikkim httpstcoq4jnutrukn wise people avoid sitting alone ones motherdaughter sister since carnal desire always strong lead temptation immancomposer ur nice composer httpstcozwhttylbgh socialwork nh24 ghaziabad noida trafficpolice indirapuram httpstcoyvuos73pmx shefalisingh22 jaybhim sharyk76 invincisachin mmeembhai shantprakash writetoghazni keep advice madarsha english yourselfwe concerned baluchistansindhgilgitbaltistanpokwe need trump swpremiere a8 c theresa charlotte westworldfinaleonswp prakashraj u nailed it one excellent article week must read enthusiastic techie digitalmarketing analytics httpstcooex2kjdmdd trueaum isnt high tym artofliving organization stand leadership srisri branch httpstcopznp57g1nf internationalgitamahotsav2016 httpstcoivebrrs5ar aamerwaqasch rehamkhan1 92pc cs candidate fail english httpstcoxc1rbglsia warcraft iii curtain india today httpstcosvtpf4vnim httpstco6ih4kzaxek raees first look poster trailer tomorrow iamsrk srkuniverse httpstcore4ghhghjg thekopargaonkar hi need blogger blogger meet delhi please contact thehighheeltalkgmailcom detail biggboss banij baap beti dono ek jesepee buddy support rohan friend httpstconucd26yehi ram mandir hum bhut jald ayodhya hi banaege sine par goli khakar fir se bhagva fehraege rammandir4hindus httpstcoe55yiozxrq httpstcototijw6vnm gurmeetramrahim effectoflionheart 477 show punjab also great congratulation punjab fan too ckknaturals sir interview question sent posted photo tirupathi city httpstconbdf2iuqhn raisinaseries subramanian swamy instrumental httpstcotaifwki3ki narendramodi bring shame bhakts happy why dont know care fool bhakts retweet httpstcoqmawwia3zy auradil kion nahi it age hand arcade game alisafinas iamsrk waiting republic day come raees apnatimeshuru badly effected jiocare network plz improve asap otherwise loose battle existing operators httpstcocsdyguqyg3 mohanlal ur nice actor chalizzzz ik never relationship fulfilled per social norm except relationship dog unfortunately kpkupdates thanks faryaaall omg heaven humbled thank httpstcolum1vsh5jp reliancejio offer wifi router r 2k cant afford even use money f httpstcomju7hcm4l2 yall httpstcol2b8hnhxyn unbeatable enthusiasm state everyday healthy competition going on gurmeetramrahim ji effectoflionheart mehboobamufti true 100 farooqs azaadi pledge prof nc behind jampk unrest mufti httpstcodifwu8pyrk via inshorts stdrgurmeetramrahim lionheartimpact outstanding every manner httpstcoxetpky7qs2 alyyshahh army meghanavirat madbwoyy enti special dog kid dhaka bangladesh httpstcokpgwlrnl2d kya spny h0ngy u ghareeb k ji ki sansein b ghubaary bikti hein nightpoetry dukhipoetry sadpoetry urdupoetry selfie instapost post love life lunchdate ootd suede date snap snapchat shorthair httpstcolpn7fzrlb1 4bhk forsale raj torres ghodbunderroad thane west apartment flat residential property httpstco1rreozebo2 rasheedshakoor aur rani toh pappa ne munnabhaimbbs jasmeetkr hi need blogger blogger meet delhi please contact thehighheeltalkgmailcom detail httpstcohreqzbbyxa ni bukan lipstick dari sephora httpstcoav1gfv0uyq 3bhk forsale ace aviana kasarvadavali thane w apartment flat residential property httpstcozglbogugt5 shehlarashid swpremiere a8 c theresa charlotte westworldfinaleonswp franklin christoph 45 xlv coco pearl nib like said earlier bliss httpstco37t1ow0koq gurmeetramrahim wow pita g awsoom craze everywhere world amazing paa amp congratulation haryana 1 postion bilkul bro pakkaa httpstcodriksk2exa sureshpprabhu 12238 b3sitno 59 gurmeetramrahim effectoflionheart waowww haryana superb zeenews giriraj singh jaise lunatic ko apni nasbandi kara leni chahiye bigboss10 swami show beingsalmankhan swami must out marineplaza answer 7 b instagram biggboss10 swami om priyanka jaggya perfect pair rotten potato thrown house uberindia thanks prompt response saw it fixed httweets harishrawatcmuk first look cm chair slipping you dream abt 2019 laterstop ranting nonsense 2bhk flat forsale lodha splendora gb road thane w apartment ghodbunderroad residential property httpstco7kijppj6be vysht graphic j jaylalita ji ki aatma ko eshwar shanti de 05 december 2016 1135 pm chennai tamilnadu apolo hospital httpstcocc3rrtamfr chilichicken lovelyevening instaclick instaupload instasave instagram hotel bengal httpstcozjs8yk9pwu rvaidya2000 ji u left biggest all mgr living arcot st may till mid 60 drshraddha16 officeofrg shame shame mr papu think u miss appointment u r psychiatrist last sunday felling chill awwwww httpstcoxgpjk4phzf the future fintech mampa ripple white amp case llp jdsupra httpstcopuo65bmdqv fintech finserv technology technews 1st sikh pm presided systematic loot corruption hope 1st sikh cji prof real sikh make judic httpstcol8o7dyoalu stdrgurmeetramrahim lionheartimpact congratulation almighty httpstcoxwnogyt3wz undpsrilanka food thought httpstco6azbsebtek romina07441152 dew21lana niuracastrillon valentbobrowa20 jameel5760 northstar12 5dream555 sonja60529941 httpstcofuoclbpt8z suryayuvi77 pinna enna bro chumma comedy pannikittu jonasthala komalindian rekhta gtgt westworldfinaleonswp swpremiere httpstcodklx8qtmba shivkumar67 finminindia pmoindia narendramodi aajtak appreciate brave action ppl want 2know neta face action trader demonetization go cashless cashierproblems paytm paytmkaro paypal fitnesolution greater httpstcoawulyer9dv yo chai ho k httpstcobajaich1bs tbt madhuban uttar pradesh india httpstcoebsqfp7hbv rock chariot hampi worldheritage architecture history hampi unesco world heritage site httpstcoe3dqpf1wxi look time tweet obviously drunktwitting idiot httpstcokcniuxdgt4 raw working dont worry it httpstcojalf94bvyh rajputkashi rollicking shot good night dear friend httpstcovxie6wu8g0 maitrenimishra hi need blogger blogger meet delhi please contact thehighheeltalkgmailcom detail makkra4 httpstcoybpuhqrzws marineplaza an 8 b youtube socialandsavvywithhmp goodnight httpstcotw5h8rb0bc reason chiru gaptun popularity failed go distance httpstcoznfcwqhqz3 point angry anymore going repeat thing again dato vida belanja kit aih httpstcoorjjxuwukb timesofindia biggboss toitv biased entertainment able discrete trps onscenity filthy proud moment insafians burdenofproofonsharifs httpstcowycq5ber8c gurmeetramrahim effectoflionheart superab haryana poonamsinha20 realize reality better india realize asap otherwise mandeep singhs like episode come future 6 httpstcoxubxm3lqdi enter win oneplus 3t 1 httpstcolvzhdtjaf0 srksdialoguebaz hahah thankio patient hope good apnatimeshuru rip jailalita formar cm tamil nadu avoid marrying woman whose name similar constellation tree river low caste mountain bird snake slave click 6 agra road dhule httpstcobnyylwqeel hurray thanks oneplusin oneplus httpstco5q1dxjnbke srk stellar formhes cool n calm n composedhe crush opponent wid ferocious energyimmens hunger action sequence raeestrailer hayeeee baba ji ne kya kar diyaaa gurmeetramrahim effectoflionheart punjab better luck next time haryana win httpstcov6vteijldx inform evry 1 support rohan okieakash jennyghosh94 rohanlover karanthind89 rohanmehraa rohanmehrafc ritika1230 stdr gurmeetramrahim ji effectoflionheart httpstcoikanholjd9 httpstcov7xoi9td5f karachi httpstcon4crh7wwg8 westworldfinaleonswp a7 a felix amp sylvester swpremiere peeyanka sooo despo want fine using taxi get lost wid ur pee buddy pagal budha support rohan iamsrk bhai poster toh zabardasht hai trailer ke intezar mein aaj raat neend nahi aayegi stdrgurmeetramrahim lionheartimpact guru ji app great ho g httpstcopiwpiyge38 colorstv dear beingsalmankhan u serious abt hosting lousy bigboss10 telecasting peeing kitchen game worry httpstcobvr4e5izxv yganesh0208 bollymention httpstcom7u54y9l6y please share song charan raviraj mistaabaaz sipsip here harshaactor raj goodnight re httpstcowlf5pip2wv villathyvillan illa mood tomorrow only kalairomeo kindly subscribe youtube channel request friend subscribe same channel candy kid vlogs httpstcogyky4psofc it take wise man learn mistake even wiser man learn others zen proverb buddhist quote httpstcoayhoyvmpmy httpstcodha1vqwlvr gurmeetramrahim effectoflionheart 628 show single day mind blowing firure were hiring click apply sr technical lead software engineering httpstcouaydz4upjk job engineer it bangalore job palolem beach evening randomclick palolembeach palolem beach goa december 2016 httpstcoqilcyijaxh apnatimeshuru rammandir4hindus demonetizemovietitles farooqwithhurriyat manish sharma new r 100 r 130 cabinet dhaka dynamite 2016126 2303 ist trndnl httpstcolz0lsnkin9 marineplaza an 9 b rahul gandhi socialandsavvywithhmp vote harshitagaur saddahaq tvpersonality2016 bizasia rajbaddhan sabrasradio harshitagaur12 sergei kanashin senior vp md oriflame india head asia south share highlight december 2016 httpstcoxsiuqfd9d0 1st semi bpl sherebangla national cricket stadium httpstcowaljjqerxj httpstcom7u54y9l6y please share song charan raviraj mistaabaaz sipsip here iamamrindergill fintech world new style payment business jakarta post httpstcoxbl3rvzwk1 fintech finserv technology technews senrehmanmalik httpstconnamqmnobm man money never excite independent woman jst hate priyanka yaar could mother soo rude ye apni husband ke saath kaise rehti hogi yaar cheap aurat biggboss idiot indiatoday many without control httpstcoz3nrn8t0yn happy bday one secret person manishmalhotra who work make human beautiful handsome keep nd enjoy chettrybenisha think family made best decision chose move here gurmeetramrahim httpstcobbmhenussz royalenfielder get new one tom pity hoping old one lasted life 2 se 7 wale school 1 amp 8 se 15 techer wale school 2 se ziada techer 1 hi din cleave nai kr sktehm 2 se 10 leave monthly alot kr skta anything possible httpstconqewo7tpw9 vprakesh take care bro akshushades melitajaphet girllovehelpts okay bye yall sia2 youre really savage xd narendramodiin pmoindia adhia03 hdfcbank giving money last 4 day thing wrong investigation must swpremiere a9 b bernard host created dr ford westworldfinaleonswp fatiharajput1 bilkul httpstcoseojgvbfpp bairavaavijay itzmaduraiveera peterrulezb httpstcox4bgdtfzse black chandigarh city httpstcoxsdlucegwv inventory harmonica passion httpstcoihmw0w8w8a gone occasion trend used bode well klaythompson nba basketball httpstcohpzi9oxgzp httpstcom7u54y9l6y please share song charan raviraj mistaabaaz sipsip here biggboss half half hair tattoo something know exists via hawahawayi httpstcowhwgz8z7v3 sahildh02 yes took yesterday evening light elephantgate bujerafort boutiquehotel udaipur bujera fort httpstcob3izkyxqel pm modis quote httpstcor1wkdwnlxy via nmapp httpstcohqdakek3ya elsamariedsilva it painful read alyyshahh nope get rts like merit kitty party preserve delhi punjabi culture spreading small town saw deogarh httpstcog8roffdhbn thanks almighty g pious blessing gurmeetramrahim effectoflionheart antivirus haha yh pm modis quote httpstcor1wkdwnlxy via nmapp httpstcoyi2zqr1nwq murtazageonews shazbkhanzdageo merarab kitnamehrban ha allah nazar e baad sy bachy kauserseema alamgirizvi qaalamqamar rahilshan kansari786631 mediapasha7 officeofrs5 india inc coming trance kaise kaise namoone bhare pade hai bjp mein gold real estate yeh sab bhi bank mein deposit ho raha hai httpstcosmrvm5b9wr mai bank ki deewani hun demonetizemovietitles fogg chalega kalse ja10527228jain ssilverssurfer anati091252 desihot ddevilav08 kazchintu eroticruchika chhappanchhoori aishwaryabhabhi nice timesnow frustrated power farook changed stand amp announced support hurriyatcongres tiwari support farook standdiplorable httpstcownejbaxfn4 halchal halchal bilawal bilawal punjabpukarybilawal pm modis quote httpstcor1wkdwnlxy via nmapp httpstcorob03ace1p gurmeetramrahim effectoflionheart 2nd rank 477 show longer conversation thread quicker assumption future walmart amp closer home biyanis need innovate relentless innovation perish t httpstcofpxxdb3xh4 ridiculous use power priyankajagga da task amp swamiom jus impossible beingsalmankhan dis nt human biggboss colorstv gravim71 narendramodi rssorg bjp4india tiwarynand mike921112 pm nazirlord greaterkashmir never knew jihadi scum called student beforeits new addition webster dictionary what oh true httpstcouejy0m87mb hangout sibling slowly slowly 2 year httpstcojebounp1h5 gspathy stick delhi south wud even ward election arvindkejriwal listen man ki baatof smt pandey hindu mahasabha demonetisation demonetisationdisaster httpstco71afk3dfyo china becomes global fintech leader httpstcolnymhdtlkg httpstcoubdhhxt6zk fintech finserv technology technews opposition opposing demonetization mamata banerjee threatening army jawan farooqwithhurriyat hell arnab goswami baibursaladin mashwaniak ccing bbhuttozardari follow ur commitment 2 eradicate corruption starting sindh marineplaza an 10 b social savvy socialandsavvywithhmp christmas shopping fienc libertywalk shatimarussia agirlofherwords asia92 httpstco3wbph33qgi good night fbffollo httpstcohmwqmgiqog usually im vry calm personbut want smack dat om ji damn facerohan4747 football game respect legend httpstcobwd87w2xpo ripjayalalitha amma missed httpstcoamvrnjhmck httpstcoaixb4h26fb westworldfinaleonswp a2 a lawrence swpremiere kindly subscribe youtube channel request friend subscribe same channel candy kid vlogs httpstcogyky4psofc gt lt httpstco3svsgmldjw httpstcooxqfmap8el made video beautiful amp wondrous creation god rukminimaitra amp idevadhikari howz httpstco8axb5faifv sharda1691975 thanx ji feel tear always like humanity human separated general public serve different way jai la biggboss get big kick back house well done delhi httpstcod9e9hakmje dont make mistake date them httpstcooxsuraze4h gurmeetramrahim effectoflionheart 1105 show haryana punjab bjp man 6 others arrested bengal r 33 lakh new r 2000 note httpstcopciqgpr2u9 joker 811 namo destroyed life long saving poor unbanked people 512 woohoo 87 banned note already bank httpstcog5gz13wsf5 swpremiere a9 b bernard host created dr ford westworldfinaleonswp httpstcozwdpfrvawj reetesh777 rahulpk1993 harami keju teri gd kyon fatt rhi h thanks reetesh maheshwari cu posted photo tirupathi city httpstcov6qxkgpvs7 httpstcoybdcizwpt9 find girl look way geordie look lawrence httpstcol6negh58ey indiaprogress ahahaha bbcworld winter special made punjab sarson da saag follow at httpstco5ci7bw68n9 gurmeetramrahim effectoflionheart gud luck punjab try hard next time preetijangid2 bjp4rajasthan umasribharti medical report totally clear even bapu ji jail since3 year it kind sad boy putting time effort talk get know without ulterior motif surprising help man httpstcoh19exur14j kida fer punjabiyo ishantsunaria sheetalinsan10 zor ka jhatka haye dheere se lga heenainsan23 gurmeetramrahim effectoflionheart gurmeetramrahim effectoflionheart thank guru ji blessing valentbobrowa20 habelabbadicom maryt79718239 katharineaurora kvvvkvvk estrella51ahora niveamc httpstcokf12vrj6os httpstcom7u54y9l6y hear amazing punjabi song charan raviraj mistaabaaz sipsip here princenarula88 stdrgurmeetramrahim lionheartimpact httpstcoq56sc59hgt two million still pakistani soil many great men dont misbehave common afghan please httpstcobvr4e5izxv httpstcoic4v3peogq fellow non tamil tl amp fb scrambling understand make sense phenomenon jayalalithaa silpygupta nice d actually used emphasize point like demonetizemovietitles rammandir4hindus banayege ab apnatimeshuru ho chuka hai bayern munich v atltico madrid live stream watch herehttpstcocen6mzpsh0 biggboss dumbo jason sirf dolle dekhne layak hai iske harqatein swami part 2 jesi kr raha hai support rohan perfectashish get back tomorrow evening currency circulation 155 lac crore come httpstcobhr7m4pp1s timesnow taken stand now 1st thing shud shift 2 pakistan saala ji thali mei khaya usi mei ched karta hai kutta kashmir territorial real estate it brave oppressed people focus gurmeetramrahim effectoflionheart wow gr8 haryana pitajis blessings westworldfinaleonswp a3 b arnold weber swpremiere nytimesworld nytimes taming shrew mean rihanna thegrammys god riri got 8 nomination gonna work work work work again rihannanavy thegrammys home right please help chuata bazaar taj palace right please help surat india right immediately one day wake wont anymore time thing youve always wanted httpstcopf91edxw4u people get change chettrybenisha nikhilmehrotra niteshtiwari22 woot woot httpstcoqmkmvyehhm short innocent love story httpstconwv0lxhwxe anilnairhere willing go long haul maybe chance vacuum developing there isnt httpstcokmfh3m1i5q apnatimeshuru httpstcoqohnhmckba cant wait watch beloved iamsrk raeesthefilm httpstcoej1qhue5vf apnatimeshuru raeestrailertomorrow httpstcom7u54y9l6y hear amazing punjabi song charan raviraj mistaabaaz sipsip here gauaharkhan sowmiyashok haha you 33 bjp 7 arvindkejriwal mamataofficial msisodia sanjayazadsln httpstco6rxjrgjgb7 gurmeetramrahim effectoflionheart forgive guru ji past bad deed bless good one nephew ariyan panthpathdhaka httpstcoq0ifpoigld nephew ariyan panthpathdhaka httpstcog6qc9bz3p8 totally agree httpstconouc7eeiex popiakbar httpstcom7u54y9l6y hear amazing punjabi song charan raviraj mistaabaaz sipsip here suyyashrai bipsluvurself amp karansinghgrover break limit hot sexy attend manishmalhotra s 50th birt httpstcosznzyp0qfq arorakewl sureshpprabhu youtube daleenhassan euronews dont rtjs type support rohan nd tag location 2 india good night 2 dear friend bring easy upgrade offer oneplus3 oneplus3t oneplusin oneplusin plz bring make su httpstcompetdjvkmz approved goi include nc asthana ig crpfindia adg crpf kamal nayan choubey ig bsfindia adg bs httpstco0faoxqnlft wah commendable httpstconlbw8iyic3 ok bos httpstcobshfkdtoov ainshaallah ab apun ka bhi time shuru httpstcok4rcfyf4it swpremiere jonathan nolan westworldfinaleonswp know credit score is read 5 c credit credit score determined httpstco0ghzytqmk8 biggboss10 bb10 ppl know demonetisation httpstcom7u54y9l6y hear amazing punjabi song charan raviraj mistaabaaz sipsip here kishwerm wow amazing 477 show punjab effectoflionheart gurmeetramrahim biggboss rohan4747 wah u knw abt trend support rohan im used boy always lowkey sleazebags it becoming obvious need associate w different guy narendramodi officeofrg vidyarthee drcpjoshi swatisaxena1231 ghulamnazad tiwarisac suhasd1988 showed too people twitter stupid namefieldmt ladikya bhav kha rahi he ladke dhoka kha rahe he police risvat kha rahi heneta maal kha rahe hekisaan zaheer kha rahe he soljer goli k westworldfinaleonswp a4 c maeve swpremiere haryana rocking ur grace almighty lord dr gurmeetramrahim g effectoflionheart best champion chak de boxervijender punch talk 17th httpstcogbqeoawrdq country old note demonetizemovietitles gurmeetramrahim effectoflionheart guru ji bless spiritual happiness smart space utilisation switching facility stadium club amp rare photo bcci archive country cricket club ranchi gurmeetramrahim effectoflionheart httpstcosqiis2vk8f killer food channel chef make iconic dish film amp tv httpstcovqyv6e1hwt mumbai airport mumbai internation airport httpstcoa5xu94qruk ammaforever jayalalithaa httpstcoyoxarfzfdd sport bd httpstcoggytclfau0 killer food channel chef make iconic dish film amp tv httpstcokai7rfv5pv aajtak anushkasharma look raees literally owns srk n romance lot pakeezgi raees look like career defining role srkraeestrailer httpstcom7u54y9l6y hear amazing punjabi song charan raviraj mistaabaaz sipsip here yuvikachoudhary posted photo samakhusi httpstcogfjj6c3qgi unurag mrstark ravishndtv thats regular viewer like dumped biased man banij evrywer stop ppl fightingwhere r clld mard bb10 house banij biggboss goodmorningpost bangalore bangolore india httpstcoqrczxpp8bh dr bheem rao ambedkar ji ki puny tithi pe aaj 06 december 2016 ko pura bharat unko naman karta hai great leader httpstco2ucou6ign0 military diet killing already day 1 done let hope next 2 day pas like breeze ranil apologizes burning jaffna library daily mirror sri lanka latest breaking news headline httpstcoepk72zqqan lka if mkhitaryan martial fellaini wouldnt see matchday squad month bitter truth liampaulcanning killer attitude httpstcoshqyqrgpxf meghanavirat madbwoyy inka thinale corn flake maggie thinali httpstcom7u54y9l6y hear amazing punjabi song charan raviraj mistaabaaz sipsip here asliyoyo im instagram yuvrajvrma956 install app follow photo video httpstcouug6aa9twf thank chandrusweb stay secured transaction wow coldplay nominated best music video amp up coldplay sureshpprabhu join live chat infrastructure ibm system httpstcoaixb4h26fb crafted beautifully loved reading chinmayi httpstcodrvvs7k4tx siddiquiwaris hi bro posted photo bangolore india httpstcoro336tr5ej guy absolutely brilliant creative httpstcooe4o9bxuoz aib demonetisation via madmonkeykungfu stdrgurmeetramrahim lionheartimpact httpstcoeincf237ac dasilavipin sroychowdhury01 threeinchfooll khanhisamuddin couldnt pas vishwa bharati thats alibi gurmeetramrahim effectoflionheart always thankful pious blessing odr leader cn become evn half jayalalithaa w fr common man vacuum must filled one rip the fintech revolution httpstcooanbuypbfm fintech finserv technology technews httpstcom7u54y9l6y hear amazing punjabi song charan raviraj mistaabaaz sipsip here itsbadshah westworldfinaleonswp a5 c elsie swpremiere shashitharoor thequint rip quiz much satisfied demonetisation a 100 b c b d c shubhamsinghb15 sahi hai good night friend httpstcom7u54y9l6y hear amazing punjabi song charan raviraj mistaabaaz sipsip here simichahal95 swatyhere aamirxyz go watch it it free available youtube theofficialsbi way activate generate pin swpremiere a10 c travel back past westworldfinaleonswp ripamma literally came mother god many poor people political leader paying tr amma real tribute given amma complete amma incomplete work ammaforever rip fb gurmeetramrahim effectoflionheart keep always guiding right path always momina answering question cricket new video httpstcopczq45imha sajtv grand salute tn police real hero httpstco1jnyst0imb school head asembly k foran bad resister ko presentabsent ya cleave se fill kren imu ki absent complain ki sorat deo 7 din action le adidaswomen yes pretty amazing httpstco0elymzjhwo always inspiring meet guru latest avatar painter bt amaze u with httpstco43qigltqj6 im right place mumbai maharashtra w yatin1980 httpstcozqoclwaf9z httpstcom7u54y9l6y hear amazing punjabi song charan raviraj mistaabaaz sipsip here redchilliesent westworldfinaleonswp a6 a wyatt swpremiere youtube channel name candy kid vlogs youtuber subscribe followme vlogger pleasesubscribe gurmeetramrahim effectoflionheart wonderful movie day02 stc cloud computing ict 61216 mrvipin implemented mininet amp discussed abt cloud stacksrggi httpstco51rfqwicbf pujaj2008 rajnikantmisra failed achieve people trust onetiponehand jaa one tip jaa tweet le aise tweet httpstcozzooyrmkj4 rajkumarindia1 aap ki id ka naam acha laga god bless httpstcotrkztq30tp beingchatterjee khediwal sharda1691975 nice picture amma watch india tv namaste ji httpstcoqqok0o4efa enjoying fantasy tritonal air remix nadiaali vocal trance channel diradio trancefamily trance httpstcoggncktugjc 3bhk builder floor ramagondanahalliwhitefield apartment flat forrent bangalore residential property httpstcohwg83m6p2d httpstcojydetvicgp bestfriend kaptan 1salry party 5again friendsforever connaught place cpdelhi httpstconnriejis8u httpstcom7u54y9l6y hear amazing punjabi song charan raviraj mistaabaaz sipsip here chetanbhagat tarak10000 apart jumping party cardboard taste like green tea httpstcodw9m74xspk ram422 finminindia humble request entire nation dont spare corrupt neta amp babuthey enjoy unique immunity karachians jakiasultana18 shaimashkh harshabaid34 rehabsohail miss dayswanna crazy ifaridoon srkuniverse httpstcovfo0i9xgpi kpsharmaoli fake u embassy operated ghana decade httpstcojmqqdrqcpc ghanaelections ghanadecides americafirst trumppresident httpstco24q70vduv5 sureshpprabhu tt 9415056644 srk bad guy scary damn goodhe best iamsrk raeesthefilm apnatimeshuru even psychic villathyvillan brush ur teeth first first three kula varan kalairomeo jagmandirisland udaipur hrhhotels jagmandir island palace udaipur httpstcoiaq69sbr1w httpstcom7u54y9l6y hear amazing punjabi song charan raviraj mistaabaaz sipsip here simplybhangra hashtag kervneu took 8th place top20 india trend sunday 5 httpstcohrrirxx1h0 trndnl lion heart ruling silver screen remove evil also spread happiness effectoflionheart gurmeetramrahim demonetizemovietitles serenity cochin india beach fort kochi beach httpstcox5cuovzdio chettrybenisha '"
      ]
     },
     "execution_count": 38,
     "metadata": {},
     "output_type": "execute_result"
    }
   ],
   "source": [
    "stri"
   ]
  },
  {
   "cell_type": "code",
   "execution_count": 39,
   "metadata": {
    "collapsed": true
   },
   "outputs": [],
   "source": [
    "wordcloud = WordCloud( stopwords=STOPWORDS,   background_color='white',   \n",
    "                      width=1200,   height=1000     ).generate(stri)\n",
    "\n",
    "plt.imshow(wordcloud)\n",
    "plt.axis('off')\n",
    "plt.show()"
   ]
  },
  {
   "cell_type": "code",
   "execution_count": null,
   "metadata": {
    "collapsed": true
   },
   "outputs": [],
   "source": []
  }
 ],
 "metadata": {
  "anaconda-cloud": {},
  "kernelspec": {
   "display_name": "Python [default]",
   "language": "python",
   "name": "python2"
  },
  "language_info": {
   "codemirror_mode": {
    "name": "ipython",
    "version": 2
   },
   "file_extension": ".py",
   "mimetype": "text/x-python",
   "name": "python",
   "nbconvert_exporter": "python",
   "pygments_lexer": "ipython2",
   "version": "2.7.12"
  }
 },
 "nbformat": 4,
 "nbformat_minor": 0
}
