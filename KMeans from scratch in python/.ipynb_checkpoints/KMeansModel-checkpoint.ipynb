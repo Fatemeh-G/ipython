{
 "cells": [
  {
   "cell_type": "code",
   "execution_count": 1,
   "metadata": {
    "collapsed": true
   },
   "outputs": [],
   "source": [
    "import pandas as pd\n",
    "import numpy as np\n",
    "import matplotlib.pyplot as plt\n",
    "import random\n",
    "from sklearn import preprocessing"
   ]
  },
  {
   "cell_type": "code",
   "execution_count": 2,
   "metadata": {
    "collapsed": false
   },
   "outputs": [
    {
     "data": {
      "text/plain": [
       "0    82\n",
       "1    48\n",
       "Name: Survived, dtype: int64"
      ]
     },
     "execution_count": 2,
     "metadata": {},
     "output_type": "execute_result"
    }
   ],
   "source": [
    "data = pd.read_csv('train.csv')\n",
    "data = data[:130]\n",
    "max_clusters = 2\n",
    "data['Survived'].value_counts()"
   ]
  },
  {
   "cell_type": "code",
   "execution_count": 3,
   "metadata": {
    "collapsed": false
   },
   "outputs": [],
   "source": [
    "data = data.drop(['Name','Ticket','Survived','Cabin'] ,1)"
   ]
  },
  {
   "cell_type": "code",
   "execution_count": 4,
   "metadata": {
    "collapsed": false
   },
   "outputs": [],
   "source": [
    "data['Pclass'].fillna(3, inplace = True) \n",
    "data['SibSp'].fillna(0, inplace = True)\n",
    "data['Age'].fillna(np.mean(data['Age']),  inplace = True)  \n",
    "data['Fare'].fillna(np.mean(data['Fare']), inplace = True)"
   ]
  },
  {
   "cell_type": "code",
   "execution_count": 5,
   "metadata": {
    "collapsed": false,
    "scrolled": false
   },
   "outputs": [
    {
     "name": "stderr",
     "output_type": "stream",
     "text": [
      "/home/fsftn/anaconda2/lib/python2.7/site-packages/sklearn/utils/validation.py:420: DataConversionWarning: Data with input dtype int64 was converted to float64 by the scale function.\n",
      "  warnings.warn(msg, DataConversionWarning)\n",
      "/home/fsftn/anaconda2/lib/python2.7/site-packages/sklearn/utils/validation.py:420: DataConversionWarning: Data with input dtype int64 was converted to float64 by the scale function.\n",
      "  warnings.warn(msg, DataConversionWarning)\n",
      "/home/fsftn/anaconda2/lib/python2.7/site-packages/sklearn/utils/validation.py:420: DataConversionWarning: Data with input dtype int64 was converted to float64 by the scale function.\n",
      "  warnings.warn(msg, DataConversionWarning)\n",
      "/home/fsftn/anaconda2/lib/python2.7/site-packages/sklearn/utils/validation.py:420: DataConversionWarning: Data with input dtype int64 was converted to float64 by the scale function.\n",
      "  warnings.warn(msg, DataConversionWarning)\n",
      "/home/fsftn/anaconda2/lib/python2.7/site-packages/sklearn/utils/validation.py:420: DataConversionWarning: Data with input dtype int64 was converted to float64 by the scale function.\n",
      "  warnings.warn(msg, DataConversionWarning)\n"
     ]
    },
    {
     "data": {
      "text/plain": [
       "-0.765092    82\n",
       " 1.307032    48\n",
       "Name: Sex, dtype: int64"
      ]
     },
     "execution_count": 5,
     "metadata": {},
     "output_type": "execute_result"
    }
   ],
   "source": [
    "cols = ['Sex', 'Embarked']\n",
    "code = {}\n",
    "def convert_it(val):\n",
    "    return(code[val])\n",
    "    \n",
    "     \n",
    "\n",
    "for col in cols:\n",
    "    x = 0\n",
    "    if (data[col].dtype == 'int64'  or  data[col].dtype == 'float64' ):\n",
    "        pass\n",
    "    else:\n",
    "         \n",
    "        vals = data[col].values.tolist()\n",
    "        vals = set(vals)\n",
    "        #print(vals)\n",
    "        for val in vals:\n",
    "            code[val] = x\n",
    "            x = x + 1\n",
    "        data[col] = map(convert_it, data[col] )\n",
    "        \n",
    "            \n",
    "            \n",
    "\n",
    "data.dropna(inplace = True)\n",
    "\n",
    "data['Age'] = preprocessing.scale(data['Age'])\n",
    "data['Fare'] = preprocessing.scale(data['Fare'])\n",
    "data['Pclass'] = preprocessing.scale(data['Pclass'])\n",
    "data['Sex'] = preprocessing.scale(data['Sex'])\n",
    "data['SibSp'] = preprocessing.scale(data['SibSp'])\n",
    "data['Parch'] = preprocessing.scale(data['Parch'])\n",
    "data['Embarked'] = preprocessing.scale(data['Embarked'])\n",
    "\n",
    "data['Sex'].value_counts()"
   ]
  },
  {
   "cell_type": "code",
   "execution_count": 6,
   "metadata": {
    "collapsed": false,
    "scrolled": false
   },
   "outputs": [
    {
     "name": "stdout",
     "output_type": "stream",
     "text": [
      "47\n",
      "11\n"
     ]
    },
    {
     "data": {
      "image/png": "[encoded data removed]",
      "text/plain": [
       "<matplotlib.figure.Figure at 0x7f06481e6490>"
      ]
     },
     "metadata": {},
     "output_type": "display_data"
    },
    {
     "name": "stdout",
     "output_type": "stream",
     "text": [
      "cluster locaton are\n",
      "(-2.6746486638300424e-16, -0.50925813836262801)\n",
      "(2.2730581424606724, -0.061698849757863772)\n"
     ]
    }
   ],
   "source": [
    "centroid_list = []\n",
    "cols = ['Pclass','Age','Sex','Fare','SibSp','Parch','Embarked']\n",
    "#cols = ['Age','Fare']\n",
    "for i in range(max_clusters):\n",
    "    \n",
    "    OneDict = {}\n",
    "    randomIndex  =  random.randrange(0, data.shape[0]) \n",
    "    print(randomIndex)\n",
    "    \n",
    "    for col in cols:\n",
    "        \n",
    "        OneDict[col] = data.iloc[randomIndex][col]\n",
    "        \n",
    "    centroid_list.append(OneDict)\n",
    "#plt.scatter(2,3)\n",
    "\n",
    " \n",
    "\n",
    "'''\n",
    "centroid_list[0]['Age'] = 38\n",
    "centroid_list[0]['Fare'] = 71 \n",
    "centroid_list[1]['Age'] = 2\n",
    "centroid_list[1]['Fare'] = 21 \n",
    "'''\n",
    "\n",
    "p1_1 = centroid_list[0]['Age']\n",
    "p1_2 = centroid_list[0]['Fare']\n",
    "\n",
    "p2_1 = centroid_list[1]['Age']\n",
    "p2_2 = centroid_list[1]['Fare']\n",
    "\n",
    "#print p1,p2\n",
    "plt.scatter(p1_1,p1_2,color = 'red')\n",
    "plt.scatter(p2_1,p2_2,color = 'green')\n",
    "\n",
    "plt.show()\n",
    "\n",
    "print('cluster locaton are')\n",
    "print(p1_1, p1_2)\n",
    "print(p2_1, p2_2)\n"
   ]
  },
  {
   "cell_type": "code",
   "execution_count": 32,
   "metadata": {
    "collapsed": false,
    "scrolled": false
   },
   "outputs": [
    {
     "name": "stdout",
     "output_type": "stream",
     "text": [
      "cluster locaton are\n",
      "(-1.5091653558090901, -0.31243533364451104)\n",
      "(-0.8803464575553025, 0.44719901703457193)\n",
      "iteration----->  0\n"
     ]
    },
    {
     "data": {
      "image/png": "[encoded data removed]",
      "text/plain": [
       "<matplotlib.figure.Figure at 0x7f4b0a6b4d90>"
      ]
     },
     "metadata": {},
     "output_type": "display_data"
    },
    {
     "name": "stdout",
     "output_type": "stream",
     "text": [
      "for centroid pt 0\n",
      "count =  6\n",
      "for centroid pt 1\n",
      "count =  14\n",
      "iteration----->  1\n"
     ]
    },
    {
     "data": {
      "image/png": "[encoded data removed]",
      "text/plain": [
       "<matplotlib.figure.Figure at 0x7f4b0a64ff90>"
      ]
     },
     "metadata": {},
     "output_type": "display_data"
    },
    {
     "name": "stdout",
     "output_type": "stream",
     "text": [
      "for centroid pt 0\n",
      "count =  11\n",
      "for centroid pt 1\n",
      "count =  9\n",
      "iteration----->  2\n"
     ]
    },
    {
     "data": {
      "image/png": "[encoded data removed]",
      "text/plain": [
       "<matplotlib.figure.Figure at 0x7f4b0a5cdf50>"
      ]
     },
     "metadata": {},
     "output_type": "display_data"
    },
    {
     "name": "stdout",
     "output_type": "stream",
     "text": [
      "for centroid pt 0\n",
      "count =  14\n",
      "for centroid pt 1\n",
      "count =  6\n",
      "iteration----->  3\n"
     ]
    },
    {
     "data": {
      "image/png": "[encoded data removed]",
      "text/plain": [
       "<matplotlib.figure.Figure at 0x7f4b0a5dc8d0>"
      ]
     },
     "metadata": {},
     "output_type": "display_data"
    },
    {
     "name": "stdout",
     "output_type": "stream",
     "text": [
      "for centroid pt 0\n",
      "count =  14\n",
      "for centroid pt 1\n",
      "count =  6\n",
      "iteration----->  4\n"
     ]
    },
    {
     "data": {
      "image/png": "[encoded data removed]",
      "text/plain": [
       "<matplotlib.figure.Figure at 0x7f4b09fd1710>"
      ]
     },
     "metadata": {},
     "output_type": "display_data"
    },
    {
     "name": "stdout",
     "output_type": "stream",
     "text": [
      "for centroid pt 0\n",
      "count =  14\n",
      "for centroid pt 1\n",
      "count =  6\n",
      "iteration----->  5\n"
     ]
    },
    {
     "data": {
      "image/png": "[encoded data removed]",
      "text/plain": [
       "<matplotlib.figure.Figure at 0x7f4b0a476450>"
      ]
     },
     "metadata": {},
     "output_type": "display_data"
    },
    {
     "name": "stdout",
     "output_type": "stream",
     "text": [
      "for centroid pt 0\n",
      "count =  14\n",
      "for centroid pt 1\n",
      "count =  6\n",
      "iteration----->  6\n"
     ]
    },
    {
     "data": {
      "image/png": "[encoded data removed]",
      "text/plain": [
       "<matplotlib.figure.Figure at 0x7f4b0a4d0f90>"
      ]
     },
     "metadata": {},
     "output_type": "display_data"
    },
    {
     "name": "stdout",
     "output_type": "stream",
     "text": [
      "for centroid pt 0\n",
      "count =  14\n",
      "for centroid pt 1\n",
      "count =  6\n"
     ]
    }
   ],
   "source": [
    "cluster_train = [2]*data.shape[0]\n",
    "max_iter =  7\n",
    "iters =  0\n",
    "\n",
    "\n",
    "print('cluster locaton are')\n",
    "print(p1_1, p1_2)\n",
    "print(p2_1, p2_2)\n",
    "\n",
    "while iters < max_iter:\n",
    "    \n",
    "    print 'iteration-----> ',iters\n",
    "    for i in range(data.shape[0]):\n",
    "        #print('i is ', i)\n",
    "        # step 1 begins:\n",
    "        cluster_index =  0\n",
    "        mini = 9999\n",
    "        for centroid in centroid_list:\n",
    "            \n",
    "            dist = np.linalg.norm(centroid.values() - data[cols].iloc[i])\n",
    "            #print 'dist for centroid', cluster_index, 'is' , dist\n",
    "            if dist < mini:\n",
    "                #print('changed')\n",
    "                mini = dist \n",
    "                cluster_train[i] = cluster_index\n",
    "            cluster_index += 1\n",
    "    #now plot\n",
    "    colours  = [\"r.\", \"g.\"]\n",
    "    for i in range(data.shape[0]):\n",
    "        plt.plot(data['Age'].iloc[i], data['Fare'].iloc[i],  colours[cluster_train[i]], markersize = 10)\n",
    "    \n",
    "    \n",
    "    p1_1 = centroid_list[0]['Age']\n",
    "    p1_2 = centroid_list[0]['Fare']\n",
    "    p2_1 = centroid_list[1]['Age']\n",
    "    p2_2 = centroid_list[1]['Fare']\n",
    "    plt.scatter(p1_1,p1_2, color = 'red',marker  = 'x',s = 130)\n",
    "    plt.scatter(p2_1,p2_2, color = 'green',marker = 'x',s =130)\n",
    "    plt.show()\n",
    "    #step 2 \n",
    "        \n",
    "    for ind in range(len(centroid_list)):\n",
    "        print 'for centroid pt',ind\n",
    "        SumCentroidPt = {}\n",
    "        count  = 0\n",
    "        for col in cols  :\n",
    "                SumCentroidPt[col] =  0 \n",
    "        for i in range(data.shape[0]):\n",
    "            if(cluster_train[i] == ind):\n",
    "                count = count + 1 \n",
    "                for col in cols:\n",
    "                    SumCentroidPt[col] = SumCentroidPt[col] + data.iloc[i][col]\n",
    "            \n",
    "        print 'count = ',count\n",
    "                \n",
    "                \n",
    "        for col in cols:\n",
    "            SumCentroidPt[col] =  SumCentroidPt[col]/count \n",
    "        centroid_list[ind] = SumCentroidPt\n",
    "                \n",
    "    iters += 1\n"
   ]
  },
  {
   "cell_type": "code",
   "execution_count": 19,
   "metadata": {
    "collapsed": true
   },
   "outputs": [],
   "source": [
    "#now for fitting new data just repeat step 1 "
   ]
  },
  {
   "cell_type": "code",
   "execution_count": 7,
   "metadata": {
    "collapsed": false
   },
   "outputs": [
    {
     "data": {
      "text/plain": [
       "[{'Age': -2.6746486638300424e-16,\n",
       "  'Embarked': -2.6363966473769693,\n",
       "  'Fare': -0.50925813836262801,\n",
       "  'Parch': -0.43685202833051906,\n",
       "  'Pclass': 0.69683220488755571,\n",
       "  'Sex': 1.3070322617798433,\n",
       "  'SibSp': -0.60558742082870209},\n",
       " {'Age': 2.2730581424606724,\n",
       "  'Embarked': -0.020125165247152368,\n",
       "  'Fare': -0.061698849757863772,\n",
       "  'Parch': -0.43685202833051906,\n",
       "  'Pclass': -1.8195063127619517,\n",
       "  'Sex': 1.3070322617798433,\n",
       "  'SibSp': -0.60558742082870209}]"
      ]
     },
     "execution_count": 7,
     "metadata": {},
     "output_type": "execute_result"
    }
   ],
   "source": [
    "centroid_list"
   ]
  },
  {
   "cell_type": "code",
   "execution_count": 8,
   "metadata": {
    "collapsed": false
   },
   "outputs": [
    {
     "name": "stdout",
     "output_type": "stream",
     "text": [
      "cluster locaton are\n",
      "(-2.6746486638300424e-16, -0.50925813836262801)\n",
      "(2.2730581424606724, -0.061698849757863772)\n",
      "iteration----->  0\n",
      "for centroid pt 0\n",
      "count =  79\n",
      "for centroid pt 1\n",
      "count =  51\n",
      "iteration----->  1\n",
      "for centroid pt 0\n",
      "count =  77\n",
      "for centroid pt 1\n",
      "count =  53\n",
      "iteration----->  2\n",
      "for centroid pt 0\n",
      "count =  96\n",
      "for centroid pt 1\n",
      "count =  34\n",
      "iteration----->  3\n",
      "for centroid pt 0\n",
      "count =  108\n",
      "for centroid pt 1\n",
      "count =  22\n",
      "iteration----->  4\n",
      "for centroid pt 0\n",
      "count =  102\n",
      "for centroid pt 1\n",
      "count =  28\n",
      "iteration----->  5\n",
      "for centroid pt 0\n",
      "count =  89\n",
      "for centroid pt 1\n",
      "count =  41\n",
      "iteration----->  6\n",
      "for centroid pt 0\n",
      "count =  96\n",
      "for centroid pt 1\n",
      "count =  34\n"
     ]
    }
   ],
   "source": [
    "cluster_train = [2]*data.shape[0]\n",
    "max_iter =  7\n",
    "iters =  0\n",
    "\n",
    "\n",
    "print('cluster locaton are')\n",
    "print(p1_1, p1_2)\n",
    "print(p2_1, p2_2)\n",
    "\n",
    "while iters < max_iter:\n",
    "    \n",
    "    print 'iteration-----> ',iters\n",
    "    for i in range(data.shape[0]):\n",
    "        #print('i is ', i)\n",
    "        # step 1 begins:\n",
    "        cluster_index =  0\n",
    "        mini = 9999\n",
    "        for centroid in centroid_list:\n",
    "            \n",
    "            dist = np.linalg.norm(centroid.values() - data[cols].iloc[i])\n",
    "            #print 'dist for centroid', cluster_index, 'is' , dist\n",
    "            if dist < mini:\n",
    "                #print('changed')\n",
    "                mini = dist \n",
    "                cluster_train[i] = cluster_index\n",
    "            cluster_index += 1\n",
    "     \n",
    "    #step 2 \n",
    "        \n",
    "    for ind in range(len(centroid_list)):\n",
    "        print 'for centroid pt',ind\n",
    "        SumCentroidPt = {}\n",
    "        count  = 0\n",
    "        for col in cols  :\n",
    "                SumCentroidPt[col] =  0 \n",
    "        for i in range(data.shape[0]):\n",
    "            if(cluster_train[i] == ind):\n",
    "                count = count + 1 \n",
    "                for col in cols:\n",
    "                    SumCentroidPt[col] = SumCentroidPt[col] + data.iloc[i][col]\n",
    "            \n",
    "        print 'count = ',count\n",
    "                \n",
    "                \n",
    "        for col in cols:\n",
    "            SumCentroidPt[col] =  SumCentroidPt[col]/count \n",
    "        centroid_list[ind] = SumCentroidPt\n",
    "                \n",
    "    iters += 1\n"
   ]
  },
  {
   "cell_type": "code",
   "execution_count": null,
   "metadata": {
    "collapsed": true
   },
   "outputs": [],
   "source": []
  }
 ],
 "metadata": {
  "anaconda-cloud": {},
  "kernelspec": {
   "display_name": "Python [default]",
   "language": "python",
   "name": "python2"
  },
  "language_info": {
   "codemirror_mode": {
    "name": "ipython",
    "version": 2
   },
   "file_extension": ".py",
   "mimetype": "text/x-python",
   "name": "python",
   "nbconvert_exporter": "python",
   "pygments_lexer": "ipython2",
   "version": "2.7.12"
  }
 },
 "nbformat": 4,
 "nbformat_minor": 1
}
