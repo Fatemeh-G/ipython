{
 "cells": [
  {
   "cell_type": "code",
   "execution_count": 30,
   "metadata": {
    "collapsed": true
   },
   "outputs": [],
   "source": [
    "import pandas as pd\n",
    "import numpy as np\n",
    "import matplotlib.pyplot as plt\n",
    "import random\n",
    "from sklearn import preprocessing"
   ]
  },
  {
   "cell_type": "code",
   "execution_count": 31,
   "metadata": {
    "collapsed": false
   },
   "outputs": [
    {
     "data": {
      "text/plain": [
       "0    8\n",
       "1    7\n",
       "Name: Survived, dtype: int64"
      ]
     },
     "execution_count": 31,
     "metadata": {},
     "output_type": "execute_result"
    }
   ],
   "source": [
    "data = pd.read_csv('train.csv')\n",
    "data = data[:15]\n",
    "max_clusters = 2\n",
    "data['Survived'].value_counts()"
   ]
  },
  {
   "cell_type": "code",
   "execution_count": 32,
   "metadata": {
    "collapsed": false
   },
   "outputs": [],
   "source": [
    "data = data.drop(['Name','Ticket','Survived','Cabin'] ,1)"
   ]
  },
  {
   "cell_type": "code",
   "execution_count": 33,
   "metadata": {
    "collapsed": false
   },
   "outputs": [],
   "source": [
    "data['Pclass'].fillna(3, inplace = True) \n",
    "data['SibSp'].fillna(0, inplace = True)\n",
    "data['Age'].fillna(np.mean(data['Age']),  inplace = True)  \n",
    "data['Fare'].fillna(np.mean(data['Fare']), inplace = True)"
   ]
  },
  {
   "cell_type": "code",
   "execution_count": 34,
   "metadata": {
    "collapsed": false,
    "scrolled": false
   },
   "outputs": [
    {
     "name": "stderr",
     "output_type": "stream",
     "text": [
      "/home/fsftn/anaconda2/lib/python2.7/site-packages/sklearn/utils/validation.py:420: DataConversionWarning: Data with input dtype int64 was converted to float64 by the scale function.\n",
      "  warnings.warn(msg, DataConversionWarning)\n",
      "/home/fsftn/anaconda2/lib/python2.7/site-packages/sklearn/utils/validation.py:420: DataConversionWarning: Data with input dtype int64 was converted to float64 by the scale function.\n",
      "  warnings.warn(msg, DataConversionWarning)\n",
      "/home/fsftn/anaconda2/lib/python2.7/site-packages/sklearn/utils/validation.py:420: DataConversionWarning: Data with input dtype int64 was converted to float64 by the scale function.\n",
      "  warnings.warn(msg, DataConversionWarning)\n",
      "/home/fsftn/anaconda2/lib/python2.7/site-packages/sklearn/utils/validation.py:420: DataConversionWarning: Data with input dtype int64 was converted to float64 by the scale function.\n",
      "  warnings.warn(msg, DataConversionWarning)\n",
      "/home/fsftn/anaconda2/lib/python2.7/site-packages/sklearn/utils/validation.py:420: DataConversionWarning: Data with input dtype int64 was converted to float64 by the scale function.\n",
      "  warnings.warn(msg, DataConversionWarning)\n"
     ]
    },
    {
     "data": {
      "text/plain": [
       " 0.935414    8\n",
       "-1.069045    7\n",
       "Name: Sex, dtype: int64"
      ]
     },
     "execution_count": 34,
     "metadata": {},
     "output_type": "execute_result"
    }
   ],
   "source": [
    "cols = ['Sex', 'Embarked']\n",
    "code = {}\n",
    "def convert_it(val):\n",
    "    return(code[val])\n",
    "    \n",
    "     \n",
    "\n",
    "for col in cols:\n",
    "    x = 0\n",
    "    if (data[col].dtype == 'int64'  or  data[col].dtype == 'float64' ):\n",
    "        pass\n",
    "    else:\n",
    "         \n",
    "        vals = data[col].values.tolist()\n",
    "        vals = set(vals)\n",
    "        #print(vals)\n",
    "        for val in vals:\n",
    "            code[val] = x\n",
    "            x = x + 1\n",
    "        data[col] = map(convert_it, data[col] )\n",
    "        \n",
    "            \n",
    "            \n",
    "\n",
    "data.dropna(inplace = True)\n",
    "\n",
    "data['Age'] = preprocessing.scale(data['Age'])\n",
    "data['Fare'] = preprocessing.scale(data['Fare'])\n",
    "data['Pclass'] = preprocessing.scale(data['Pclass'])\n",
    "data['Sex'] = preprocessing.scale(data['Sex'])\n",
    "data['SibSp'] = preprocessing.scale(data['SibSp'])\n",
    "data['Parch'] = preprocessing.scale(data['Parch'])\n",
    "data['Embarked'] = preprocessing.scale(data['Embarked'])\n",
    "\n",
    "data['Sex'].value_counts()"
   ]
  },
  {
   "cell_type": "code",
   "execution_count": 35,
   "metadata": {
    "collapsed": false,
    "scrolled": false
   },
   "outputs": [
    {
     "name": "stdout",
     "output_type": "stream",
     "text": [
      "7\n",
      "5\n"
     ]
    },
    {
     "data": {
      "image/png": "[encoded data removed]",
      "text/plain": [
       "<matplotlib.figure.Figure at 0x7f7a1ea367d0>"
      ]
     },
     "metadata": {},
     "output_type": "display_data"
    },
    {
     "name": "stdout",
     "output_type": "stream",
     "text": [
      "cluster locaton are\n",
      "(-1.6500572946507805, -0.15179709562881991)\n",
      "(0.0, -0.79718301609821762)\n"
     ]
    }
   ],
   "source": [
    "centroid_list = []\n",
    "#cols = ['Pclass','Age','Sex','Fare','SibSp','Parch','Embarked']\n",
    "cols = ['Age','Fare']\n",
    "for i in range(max_clusters):\n",
    "    \n",
    "    OneDict = {}\n",
    "    randomIndex  =  random.randrange(0, data.shape[0]) \n",
    "    print(randomIndex)\n",
    "    \n",
    "    for col in cols:\n",
    "        \n",
    "        OneDict[col] = data.iloc[randomIndex][col]\n",
    "        \n",
    "    centroid_list.append(OneDict)\n",
    "#plt.scatter(2,3)\n",
    "\n",
    " \n",
    "\n",
    "'''\n",
    "centroid_list[0]['Age'] = 38\n",
    "centroid_list[0]['Fare'] = 71 \n",
    "centroid_list[1]['Age'] = 2\n",
    "centroid_list[1]['Fare'] = 21 \n",
    "'''\n",
    "\n",
    "p1_1 = centroid_list[0]['Age']\n",
    "p1_2 = centroid_list[0]['Fare']\n",
    "\n",
    "p2_1 = centroid_list[1]['Age']\n",
    "p2_2 = centroid_list[1]['Fare']\n",
    "\n",
    "#print p1,p2\n",
    "plt.scatter(p1_1,p1_2,color = 'red')\n",
    "plt.scatter(p2_1,p2_2,color = 'green')\n",
    "\n",
    "plt.show()\n",
    "\n",
    "print('cluster locaton are')\n",
    "print(p1_1, p1_2)\n",
    "print(p2_1, p2_2)\n"
   ]
  },
  {
   "cell_type": "code",
   "execution_count": 36,
   "metadata": {
    "collapsed": false,
    "scrolled": false
   },
   "outputs": [
    {
     "name": "stdout",
     "output_type": "stream",
     "text": [
      "cluster locaton are\n",
      "(-1.6500572946507805, -0.15179709562881991)\n",
      "(0.0, -0.79718301609821762)\n",
      "iteration----->  0\n"
     ]
    },
    {
     "data": {
      "image/png": "[encoded data removed]",
      "text/plain": [
       "<matplotlib.figure.Figure at 0x7f7a1f031ad0>"
      ]
     },
     "metadata": {},
     "output_type": "display_data"
    },
    {
     "name": "stdout",
     "output_type": "stream",
     "text": [
      "for centroid pt 0\n",
      "count =  5\n",
      "for centroid pt 1\n",
      "count =  10\n",
      "iteration----->  1\n"
     ]
    },
    {
     "data": {
      "image/png": "[encoded data removed]",
      "text/plain": [
       "<matplotlib.figure.Figure at 0x7f7a1980ad90>"
      ]
     },
     "metadata": {},
     "output_type": "display_data"
    },
    {
     "name": "stdout",
     "output_type": "stream",
     "text": [
      "for centroid pt 0\n",
      "count =  6\n",
      "for centroid pt 1\n",
      "count =  9\n",
      "iteration----->  2\n"
     ]
    },
    {
     "data": {
      "image/png": "[encoded data removed]",
      "text/plain": [
       "<matplotlib.figure.Figure at 0x7f7a196cff10>"
      ]
     },
     "metadata": {},
     "output_type": "display_data"
    },
    {
     "name": "stdout",
     "output_type": "stream",
     "text": [
      "for centroid pt 0\n",
      "count =  9\n",
      "for centroid pt 1\n",
      "count =  6\n",
      "iteration----->  3\n"
     ]
    },
    {
     "data": {
      "image/png": "[encoded data removed]",
      "text/plain": [
       "<matplotlib.figure.Figure at 0x7f7a197deb10>"
      ]
     },
     "metadata": {},
     "output_type": "display_data"
    },
    {
     "name": "stdout",
     "output_type": "stream",
     "text": [
      "for centroid pt 0\n",
      "count =  10\n",
      "for centroid pt 1\n",
      "count =  5\n",
      "iteration----->  4\n"
     ]
    },
    {
     "data": {
      "image/png": "[encoded data removed]",
      "text/plain": [
       "<matplotlib.figure.Figure at 0x7f7a22bcfa50>"
      ]
     },
     "metadata": {},
     "output_type": "display_data"
    },
    {
     "name": "stdout",
     "output_type": "stream",
     "text": [
      "for centroid pt 0\n",
      "count =  10\n",
      "for centroid pt 1\n",
      "count =  5\n",
      "iteration----->  5\n"
     ]
    },
    {
     "data": {
      "image/png": "[encoded data removed]",
      "text/plain": [
       "<matplotlib.figure.Figure at 0x7f7a1ef20650>"
      ]
     },
     "metadata": {},
     "output_type": "display_data"
    },
    {
     "name": "stdout",
     "output_type": "stream",
     "text": [
      "for centroid pt 0\n",
      "count =  10\n",
      "for centroid pt 1\n",
      "count =  5\n",
      "iteration----->  6\n"
     ]
    },
    {
     "data": {
      "image/png": "[encoded data removed]",
      "text/plain": [
       "<matplotlib.figure.Figure at 0x7f7a1e855a90>"
      ]
     },
     "metadata": {},
     "output_type": "display_data"
    },
    {
     "name": "stdout",
     "output_type": "stream",
     "text": [
      "for centroid pt 0\n",
      "count =  10\n",
      "for centroid pt 1\n",
      "count =  5\n"
     ]
    }
   ],
   "source": [
    "cluster_train = [2]*data.shape[0]\n",
    "max_iter =  7\n",
    "iters =  0\n",
    "\n",
    "\n",
    "print('cluster locaton are')\n",
    "print(p1_1, p1_2)\n",
    "print(p2_1, p2_2)\n",
    "\n",
    "while iters < max_iter:\n",
    "    \n",
    "    print 'iteration-----> ',iters\n",
    "    for i in range(data.shape[0]):\n",
    "        #print('i is ', i)\n",
    "        # step 1 begins:\n",
    "        cluster_index =  0\n",
    "        mini = 9999\n",
    "        for centroid in centroid_list:\n",
    "            \n",
    "            dist = np.linalg.norm(centroid.values() - data[cols].iloc[i])\n",
    "            #print 'dist for centroid', cluster_index, 'is' , dist\n",
    "            if dist < mini:\n",
    "                #print('changed')\n",
    "                mini = dist \n",
    "                cluster_train[i] = cluster_index\n",
    "            cluster_index += 1\n",
    "    #now plot\n",
    "    colours  = [\"r.\", \"g.\"]\n",
    "    for i in range(data.shape[0]):\n",
    "        plt.plot(data['Age'].iloc[i], data['Fare'].iloc[i],  colours[cluster_train[i]], markersize = 10)\n",
    "    \n",
    "    \n",
    "    p1_1 = centroid_list[0]['Age']\n",
    "    p1_2 = centroid_list[0]['Fare']\n",
    "    p2_1 = centroid_list[1]['Age']\n",
    "    p2_2 = centroid_list[1]['Fare']\n",
    "    plt.scatter(p1_1,p1_2, color = 'red',marker  = 'x',s = 130)\n",
    "    plt.scatter(p2_1,p2_2, color = 'green',marker = 'x',s =130)\n",
    "    plt.show()\n",
    "    #step 2 \n",
    "        \n",
    "    for ind in range(len(centroid_list)):\n",
    "        print 'for centroid pt',ind\n",
    "        SumCentroidPt = {}\n",
    "        count  = 0\n",
    "        for col in cols  :\n",
    "                SumCentroidPt[col] =  0 \n",
    "        for i in range(data.shape[0]):\n",
    "            if(cluster_train[i] == ind):\n",
    "                count = count + 1 \n",
    "                for col in cols:\n",
    "                    SumCentroidPt[col] = SumCentroidPt[col] + data.iloc[i][col]\n",
    "            \n",
    "        print 'count = ',count\n",
    "                \n",
    "                \n",
    "        for col in cols:\n",
    "            SumCentroidPt[col] =  SumCentroidPt[col]/count \n",
    "        centroid_list[ind] = SumCentroidPt\n",
    "                \n",
    "    iters += 1\n"
   ]
  },
  {
   "cell_type": "code",
   "execution_count": 37,
   "metadata": {
    "collapsed": true
   },
   "outputs": [],
   "source": [
    "#now for fitting new data just repeat step 1 "
   ]
  },
  {
   "cell_type": "code",
   "execution_count": 38,
   "metadata": {
    "collapsed": false
   },
   "outputs": [
    {
     "data": {
      "text/plain": [
       "[{'Age': -0.54818570122287047, 'Fare': -0.58242302076965302},\n",
       " {'Age': 1.0963714024457407, 'Fare': 1.1648460415393065}]"
      ]
     },
     "execution_count": 38,
     "metadata": {},
     "output_type": "execute_result"
    }
   ],
   "source": [
    "centroid_list"
   ]
  },
  {
   "cell_type": "code",
   "execution_count": 40,
   "metadata": {
    "collapsed": false
   },
   "outputs": [
    {
     "data": {
      "text/plain": [
       "10"
      ]
     },
     "execution_count": 40,
     "metadata": {},
     "output_type": "execute_result"
    }
   ],
   "source": [
    "cluster_train.count(0)"
   ]
  },
  {
   "cell_type": "code",
   "execution_count": 45,
   "metadata": {
    "collapsed": false
   },
   "outputs": [
    {
     "data": {
      "text/html": [
       "<div>\n",
       "<table border=\"1\" class=\"dataframe\">\n",
       "  <thead>\n",
       "    <tr style=\"text-align: right;\">\n",
       "      <th></th>\n",
       "      <th>PassengerId</th>\n",
       "      <th>Pclass</th>\n",
       "      <th>Sex</th>\n",
       "      <th>Age</th>\n",
       "      <th>SibSp</th>\n",
       "      <th>Parch</th>\n",
       "      <th>Fare</th>\n",
       "      <th>Embarked</th>\n",
       "    </tr>\n",
       "  </thead>\n",
       "  <tbody>\n",
       "    <tr>\n",
       "      <th>0</th>\n",
       "      <td>1</td>\n",
       "      <td>0.682288</td>\n",
       "      <td>-1.069045</td>\n",
       "      <td>-0.366679</td>\n",
       "      <td>0.50</td>\n",
       "      <td>-0.459279</td>\n",
       "      <td>-0.858992</td>\n",
       "      <td>-0.150756</td>\n",
       "    </tr>\n",
       "    <tr>\n",
       "      <th>1</th>\n",
       "      <td>2</td>\n",
       "      <td>-1.592006</td>\n",
       "      <td>0.935414</td>\n",
       "      <td>0.660023</td>\n",
       "      <td>0.50</td>\n",
       "      <td>-0.459279</td>\n",
       "      <td>2.416523</td>\n",
       "      <td>2.110579</td>\n",
       "    </tr>\n",
       "    <tr>\n",
       "      <th>2</th>\n",
       "      <td>3</td>\n",
       "      <td>0.682288</td>\n",
       "      <td>0.935414</td>\n",
       "      <td>-0.110004</td>\n",
       "      <td>-0.75</td>\n",
       "      <td>-0.459279</td>\n",
       "      <td>-0.824463</td>\n",
       "      <td>-0.150756</td>\n",
       "    </tr>\n",
       "    <tr>\n",
       "      <th>3</th>\n",
       "      <td>4</td>\n",
       "      <td>-1.592006</td>\n",
       "      <td>0.935414</td>\n",
       "      <td>0.467516</td>\n",
       "      <td>0.50</td>\n",
       "      <td>-0.459279</td>\n",
       "      <td>1.486388</td>\n",
       "      <td>-0.150756</td>\n",
       "    </tr>\n",
       "    <tr>\n",
       "      <th>4</th>\n",
       "      <td>5</td>\n",
       "      <td>0.682288</td>\n",
       "      <td>-1.069045</td>\n",
       "      <td>0.467516</td>\n",
       "      <td>-0.75</td>\n",
       "      <td>-0.459279</td>\n",
       "      <td>-0.818069</td>\n",
       "      <td>-0.150756</td>\n",
       "    </tr>\n",
       "    <tr>\n",
       "      <th>5</th>\n",
       "      <td>6</td>\n",
       "      <td>0.682288</td>\n",
       "      <td>-1.069045</td>\n",
       "      <td>0.000000</td>\n",
       "      <td>-0.75</td>\n",
       "      <td>-0.459279</td>\n",
       "      <td>-0.797183</td>\n",
       "      <td>-2.412091</td>\n",
       "    </tr>\n",
       "    <tr>\n",
       "      <th>6</th>\n",
       "      <td>7</td>\n",
       "      <td>-1.592006</td>\n",
       "      <td>-1.069045</td>\n",
       "      <td>1.686725</td>\n",
       "      <td>-0.75</td>\n",
       "      <td>-0.459279</td>\n",
       "      <td>1.423085</td>\n",
       "      <td>-0.150756</td>\n",
       "    </tr>\n",
       "    <tr>\n",
       "      <th>7</th>\n",
       "      <td>8</td>\n",
       "      <td>0.682288</td>\n",
       "      <td>-1.069045</td>\n",
       "      <td>-1.650057</td>\n",
       "      <td>3.00</td>\n",
       "      <td>0.306186</td>\n",
       "      <td>-0.151797</td>\n",
       "      <td>-0.150756</td>\n",
       "    </tr>\n",
       "    <tr>\n",
       "      <th>8</th>\n",
       "      <td>9</td>\n",
       "      <td>0.682288</td>\n",
       "      <td>0.935414</td>\n",
       "      <td>-0.045835</td>\n",
       "      <td>-0.75</td>\n",
       "      <td>1.071652</td>\n",
       "      <td>-0.660348</td>\n",
       "      <td>-0.150756</td>\n",
       "    </tr>\n",
       "    <tr>\n",
       "      <th>9</th>\n",
       "      <td>10</td>\n",
       "      <td>-0.454859</td>\n",
       "      <td>0.935414</td>\n",
       "      <td>-0.880031</td>\n",
       "      <td>0.50</td>\n",
       "      <td>-0.459279</td>\n",
       "      <td>0.308368</td>\n",
       "      <td>2.110579</td>\n",
       "    </tr>\n",
       "    <tr>\n",
       "      <th>10</th>\n",
       "      <td>11</td>\n",
       "      <td>0.682288</td>\n",
       "      <td>0.935414</td>\n",
       "      <td>-1.521720</td>\n",
       "      <td>0.50</td>\n",
       "      <td>0.306186</td>\n",
       "      <td>-0.375593</td>\n",
       "      <td>-0.150756</td>\n",
       "    </tr>\n",
       "    <tr>\n",
       "      <th>11</th>\n",
       "      <td>12</td>\n",
       "      <td>-1.592006</td>\n",
       "      <td>0.935414</td>\n",
       "      <td>1.943401</td>\n",
       "      <td>-0.75</td>\n",
       "      <td>-0.459279</td>\n",
       "      <td>0.128267</td>\n",
       "      <td>-0.150756</td>\n",
       "    </tr>\n",
       "    <tr>\n",
       "      <th>12</th>\n",
       "      <td>13</td>\n",
       "      <td>0.682288</td>\n",
       "      <td>-1.069045</td>\n",
       "      <td>-0.495017</td>\n",
       "      <td>-0.75</td>\n",
       "      <td>-0.459279</td>\n",
       "      <td>-0.818069</td>\n",
       "      <td>-0.150756</td>\n",
       "    </tr>\n",
       "    <tr>\n",
       "      <th>13</th>\n",
       "      <td>14</td>\n",
       "      <td>0.682288</td>\n",
       "      <td>-1.069045</td>\n",
       "      <td>0.724192</td>\n",
       "      <td>0.50</td>\n",
       "      <td>3.368048</td>\n",
       "      <td>0.369967</td>\n",
       "      <td>-0.150756</td>\n",
       "    </tr>\n",
       "    <tr>\n",
       "      <th>14</th>\n",
       "      <td>15</td>\n",
       "      <td>0.682288</td>\n",
       "      <td>0.935414</td>\n",
       "      <td>-0.880031</td>\n",
       "      <td>-0.75</td>\n",
       "      <td>-0.459279</td>\n",
       "      <td>-0.828085</td>\n",
       "      <td>-0.150756</td>\n",
       "    </tr>\n",
       "  </tbody>\n",
       "</table>\n",
       "</div>"
      ],
      "text/plain": [
       "    PassengerId    Pclass       Sex       Age  SibSp     Parch      Fare  \\\n",
       "0             1  0.682288 -1.069045 -0.366679   0.50 -0.459279 -0.858992   \n",
       "1             2 -1.592006  0.935414  0.660023   0.50 -0.459279  2.416523   \n",
       "2             3  0.682288  0.935414 -0.110004  -0.75 -0.459279 -0.824463   \n",
       "3             4 -1.592006  0.935414  0.467516   0.50 -0.459279  1.486388   \n",
       "4             5  0.682288 -1.069045  0.467516  -0.75 -0.459279 -0.818069   \n",
       "5             6  0.682288 -1.069045  0.000000  -0.75 -0.459279 -0.797183   \n",
       "6             7 -1.592006 -1.069045  1.686725  -0.75 -0.459279  1.423085   \n",
       "7             8  0.682288 -1.069045 -1.650057   3.00  0.306186 -0.151797   \n",
       "8             9  0.682288  0.935414 -0.045835  -0.75  1.071652 -0.660348   \n",
       "9            10 -0.454859  0.935414 -0.880031   0.50 -0.459279  0.308368   \n",
       "10           11  0.682288  0.935414 -1.521720   0.50  0.306186 -0.375593   \n",
       "11           12 -1.592006  0.935414  1.943401  -0.75 -0.459279  0.128267   \n",
       "12           13  0.682288 -1.069045 -0.495017  -0.75 -0.459279 -0.818069   \n",
       "13           14  0.682288 -1.069045  0.724192   0.50  3.368048  0.369967   \n",
       "14           15  0.682288  0.935414 -0.880031  -0.75 -0.459279 -0.828085   \n",
       "\n",
       "    Embarked  \n",
       "0  -0.150756  \n",
       "1   2.110579  \n",
       "2  -0.150756  \n",
       "3  -0.150756  \n",
       "4  -0.150756  \n",
       "5  -2.412091  \n",
       "6  -0.150756  \n",
       "7  -0.150756  \n",
       "8  -0.150756  \n",
       "9   2.110579  \n",
       "10 -0.150756  \n",
       "11 -0.150756  \n",
       "12 -0.150756  \n",
       "13 -0.150756  \n",
       "14 -0.150756  "
      ]
     },
     "execution_count": 45,
     "metadata": {},
     "output_type": "execute_result"
    }
   ],
   "source": [
    "from sklearn.cluster import KMeans\n",
    "data"
   ]
  },
  {
   "cell_type": "code",
   "execution_count": 42,
   "metadata": {
    "collapsed": true
   },
   "outputs": [],
   "source": [
    "kmeans = KMeans(n_clusters=2, random_state=0).fit(data)"
   ]
  },
  {
   "cell_type": "code",
   "execution_count": 43,
   "metadata": {
    "collapsed": false
   },
   "outputs": [
    {
     "data": {
      "text/plain": [
       "KMeans(copy_x=True, init='k-means++', max_iter=300, n_clusters=2, n_init=10,\n",
       "    n_jobs=1, precompute_distances='auto', random_state=0, tol=0.0001,\n",
       "    verbose=0)"
      ]
     },
     "execution_count": 43,
     "metadata": {},
     "output_type": "execute_result"
    }
   ],
   "source": [
    "kmeans"
   ]
  },
  {
   "cell_type": "code",
   "execution_count": 44,
   "metadata": {
    "collapsed": false
   },
   "outputs": [
    {
     "data": {
      "text/plain": [
       "array([0, 0, 0, 0, 0, 0, 0, 1, 1, 1, 1, 1, 1, 1, 1], dtype=int32)"
      ]
     },
     "execution_count": 44,
     "metadata": {},
     "output_type": "execute_result"
    }
   ],
   "source": [
    "kmeans.labels_"
   ]
  },
  {
   "cell_type": "code",
   "execution_count": 28,
   "metadata": {
    "collapsed": false
   },
   "outputs": [
    {
     "data": {
      "text/plain": [
       "array([0, 0, 0, 0, 0, 0, 0, 0, 0, 0, 0, 0, 0, 0, 0, 0, 0, 0, 0, 0, 0, 0, 0,\n",
       "       0, 0, 0, 0, 0, 0, 0, 0, 0, 0, 0, 0, 0, 0, 0, 0, 0, 0, 0, 0, 0, 0, 0,\n",
       "       0, 0, 0, 0, 0, 0, 0, 0, 0, 0, 0, 0, 0, 0, 0, 0, 0, 0, 0, 1, 1, 1, 1,\n",
       "       1, 1, 1, 1, 1, 1, 1, 1, 1, 1, 1, 1, 1, 1, 1, 1, 1, 1, 1, 1, 1, 1, 1,\n",
       "       1, 1, 1, 1, 1, 1, 1, 1, 1, 1, 1, 1, 1, 1, 1, 1, 1, 1, 1, 1, 1, 1, 1,\n",
       "       1, 1, 1, 1, 1, 1, 1, 1, 1, 1, 1, 1, 1, 1, 1], dtype=int32)"
      ]
     },
     "execution_count": 28,
     "metadata": {},
     "output_type": "execute_result"
    }
   ],
   "source": [
    "kmeans.predict(data)"
   ]
  },
  {
   "cell_type": "code",
   "execution_count": 29,
   "metadata": {
    "collapsed": false
   },
   "outputs": [
    {
     "data": {
      "text/plain": [
       "array([[  3.30000000e+01,  -1.35495151e-01,   1.91273014e-01,\n",
       "         -3.24890243e-02,   8.25801028e-02,   5.24222434e-02,\n",
       "          2.45243994e-02,  -2.01251652e-02],\n",
       "       [  9.80000000e+01,   1.35495151e-01,  -1.91273014e-01,\n",
       "          3.24890243e-02,  -8.25801028e-02,  -5.24222434e-02,\n",
       "         -2.45243994e-02,   2.01251652e-02]])"
      ]
     },
     "execution_count": 29,
     "metadata": {},
     "output_type": "execute_result"
    }
   ],
   "source": [
    "kmeans.cluster_centers_"
   ]
  },
  {
   "cell_type": "code",
   "execution_count": null,
   "metadata": {
    "collapsed": true
   },
   "outputs": [],
   "source": []
  }
 ],
 "metadata": {
  "anaconda-cloud": {},
  "kernelspec": {
   "display_name": "Python [default]",
   "language": "python",
   "name": "python2"
  },
  "language_info": {
   "codemirror_mode": {
    "name": "ipython",
    "version": 2
   },
   "file_extension": ".py",
   "mimetype": "text/x-python",
   "name": "python",
   "nbconvert_exporter": "python",
   "pygments_lexer": "ipython2",
   "version": "2.7.12"
  }
 },
 "nbformat": 4,
 "nbformat_minor": 1
}
