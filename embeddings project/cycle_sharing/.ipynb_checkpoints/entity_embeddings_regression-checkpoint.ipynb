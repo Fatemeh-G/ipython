{
 "cells": [
  {
   "cell_type": "code",
   "execution_count": 1,
   "metadata": {},
   "outputs": [],
   "source": [
    "import pandas as pd \n",
    "df = pd.read_csv(\"train.csv\")"
   ]
  },
  {
   "cell_type": "code",
   "execution_count": 2,
   "metadata": {},
   "outputs": [
    {
     "data": {
      "text/html": [
       "<div>\n",
       "<style scoped>\n",
       "    .dataframe tbody tr th:only-of-type {\n",
       "        vertical-align: middle;\n",
       "    }\n",
       "\n",
       "    .dataframe tbody tr th {\n",
       "        vertical-align: top;\n",
       "    }\n",
       "\n",
       "    .dataframe thead th {\n",
       "        text-align: right;\n",
       "    }\n",
       "</style>\n",
       "<table border=\"1\" class=\"dataframe\">\n",
       "  <thead>\n",
       "    <tr style=\"text-align: right;\">\n",
       "      <th></th>\n",
       "      <th>datetime</th>\n",
       "      <th>season</th>\n",
       "      <th>holiday</th>\n",
       "      <th>workingday</th>\n",
       "      <th>weather</th>\n",
       "      <th>temp</th>\n",
       "      <th>atemp</th>\n",
       "      <th>humidity</th>\n",
       "      <th>windspeed</th>\n",
       "      <th>casual</th>\n",
       "      <th>registered</th>\n",
       "      <th>count</th>\n",
       "    </tr>\n",
       "  </thead>\n",
       "  <tbody>\n",
       "    <tr>\n",
       "      <th>0</th>\n",
       "      <td>2011-01-01 00:00:00</td>\n",
       "      <td>1</td>\n",
       "      <td>0</td>\n",
       "      <td>0</td>\n",
       "      <td>1</td>\n",
       "      <td>9.84</td>\n",
       "      <td>14.395</td>\n",
       "      <td>81</td>\n",
       "      <td>0.0</td>\n",
       "      <td>3</td>\n",
       "      <td>13</td>\n",
       "      <td>16</td>\n",
       "    </tr>\n",
       "    <tr>\n",
       "      <th>1</th>\n",
       "      <td>2011-01-01 01:00:00</td>\n",
       "      <td>1</td>\n",
       "      <td>0</td>\n",
       "      <td>0</td>\n",
       "      <td>1</td>\n",
       "      <td>9.02</td>\n",
       "      <td>13.635</td>\n",
       "      <td>80</td>\n",
       "      <td>0.0</td>\n",
       "      <td>8</td>\n",
       "      <td>32</td>\n",
       "      <td>40</td>\n",
       "    </tr>\n",
       "    <tr>\n",
       "      <th>2</th>\n",
       "      <td>2011-01-01 02:00:00</td>\n",
       "      <td>1</td>\n",
       "      <td>0</td>\n",
       "      <td>0</td>\n",
       "      <td>1</td>\n",
       "      <td>9.02</td>\n",
       "      <td>13.635</td>\n",
       "      <td>80</td>\n",
       "      <td>0.0</td>\n",
       "      <td>5</td>\n",
       "      <td>27</td>\n",
       "      <td>32</td>\n",
       "    </tr>\n",
       "  </tbody>\n",
       "</table>\n",
       "</div>"
      ],
      "text/plain": [
       "              datetime  season  holiday  workingday  weather  temp   atemp  \\\n",
       "0  2011-01-01 00:00:00       1        0           0        1  9.84  14.395   \n",
       "1  2011-01-01 01:00:00       1        0           0        1  9.02  13.635   \n",
       "2  2011-01-01 02:00:00       1        0           0        1  9.02  13.635   \n",
       "\n",
       "   humidity  windspeed  casual  registered  count  \n",
       "0        81        0.0       3          13     16  \n",
       "1        80        0.0       8          32     40  \n",
       "2        80        0.0       5          27     32  "
      ]
     },
     "execution_count": 2,
     "metadata": {},
     "output_type": "execute_result"
    }
   ],
   "source": [
    "df[:3]"
   ]
  },
  {
   "cell_type": "code",
   "execution_count": 3,
   "metadata": {},
   "outputs": [],
   "source": [
    "df = df.sample(frac=1) "
   ]
  },
  {
   "cell_type": "code",
   "execution_count": 4,
   "metadata": {},
   "outputs": [
    {
     "data": {
      "text/plain": [
       "4    2734\n",
       "3    2733\n",
       "2    2733\n",
       "1    2686\n",
       "Name: season, dtype: int64"
      ]
     },
     "execution_count": 4,
     "metadata": {},
     "output_type": "execute_result"
    }
   ],
   "source": [
    "df['season'].value_counts()"
   ]
  },
  {
   "cell_type": "code",
   "execution_count": 5,
   "metadata": {},
   "outputs": [
    {
     "data": {
      "text/plain": [
       "1    7412\n",
       "0    3474\n",
       "Name: workingday, dtype: int64"
      ]
     },
     "execution_count": 5,
     "metadata": {},
     "output_type": "execute_result"
    }
   ],
   "source": [
    "df['workingday'].value_counts()"
   ]
  },
  {
   "cell_type": "code",
   "execution_count": 6,
   "metadata": {},
   "outputs": [
    {
     "data": {
      "text/plain": [
       "0    10575\n",
       "1      311\n",
       "Name: holiday, dtype: int64"
      ]
     },
     "execution_count": 6,
     "metadata": {},
     "output_type": "execute_result"
    }
   ],
   "source": [
    "df['holiday'].value_counts()"
   ]
  },
  {
   "cell_type": "code",
   "execution_count": 7,
   "metadata": {},
   "outputs": [
    {
     "data": {
      "text/plain": [
       "1    7192\n",
       "2    2834\n",
       "3     859\n",
       "4       1\n",
       "Name: weather, dtype: int64"
      ]
     },
     "execution_count": 7,
     "metadata": {},
     "output_type": "execute_result"
    }
   ],
   "source": [
    "df['weather'].value_counts()"
   ]
  },
  {
   "cell_type": "code",
   "execution_count": 8,
   "metadata": {
    "scrolled": true
   },
   "outputs": [
    {
     "data": {
      "text/html": [
       "<div>\n",
       "<style scoped>\n",
       "    .dataframe tbody tr th:only-of-type {\n",
       "        vertical-align: middle;\n",
       "    }\n",
       "\n",
       "    .dataframe tbody tr th {\n",
       "        vertical-align: top;\n",
       "    }\n",
       "\n",
       "    .dataframe thead th {\n",
       "        text-align: right;\n",
       "    }\n",
       "</style>\n",
       "<table border=\"1\" class=\"dataframe\">\n",
       "  <thead>\n",
       "    <tr style=\"text-align: right;\">\n",
       "      <th></th>\n",
       "      <th>datetime</th>\n",
       "      <th>season</th>\n",
       "      <th>holiday</th>\n",
       "      <th>workingday</th>\n",
       "      <th>weather</th>\n",
       "      <th>temp</th>\n",
       "      <th>atemp</th>\n",
       "      <th>humidity</th>\n",
       "      <th>windspeed</th>\n",
       "      <th>casual</th>\n",
       "      <th>registered</th>\n",
       "      <th>count</th>\n",
       "    </tr>\n",
       "  </thead>\n",
       "  <tbody>\n",
       "    <tr>\n",
       "      <th>3089</th>\n",
       "      <td>2011-07-17 15:00:00</td>\n",
       "      <td>3</td>\n",
       "      <td>0</td>\n",
       "      <td>0</td>\n",
       "      <td>1</td>\n",
       "      <td>33.62</td>\n",
       "      <td>37.12</td>\n",
       "      <td>43</td>\n",
       "      <td>19.9995</td>\n",
       "      <td>129</td>\n",
       "      <td>195</td>\n",
       "      <td>324</td>\n",
       "    </tr>\n",
       "    <tr>\n",
       "      <th>2504</th>\n",
       "      <td>2011-06-12 06:00:00</td>\n",
       "      <td>2</td>\n",
       "      <td>0</td>\n",
       "      <td>0</td>\n",
       "      <td>1</td>\n",
       "      <td>25.42</td>\n",
       "      <td>28.03</td>\n",
       "      <td>88</td>\n",
       "      <td>7.0015</td>\n",
       "      <td>5</td>\n",
       "      <td>9</td>\n",
       "      <td>14</td>\n",
       "    </tr>\n",
       "    <tr>\n",
       "      <th>6236</th>\n",
       "      <td>2012-02-16 02:00:00</td>\n",
       "      <td>1</td>\n",
       "      <td>0</td>\n",
       "      <td>1</td>\n",
       "      <td>2</td>\n",
       "      <td>12.30</td>\n",
       "      <td>15.91</td>\n",
       "      <td>70</td>\n",
       "      <td>6.0032</td>\n",
       "      <td>1</td>\n",
       "      <td>6</td>\n",
       "      <td>7</td>\n",
       "    </tr>\n",
       "  </tbody>\n",
       "</table>\n",
       "</div>"
      ],
      "text/plain": [
       "                 datetime  season  holiday  workingday  weather   temp  atemp  \\\n",
       "3089  2011-07-17 15:00:00       3        0           0        1  33.62  37.12   \n",
       "2504  2011-06-12 06:00:00       2        0           0        1  25.42  28.03   \n",
       "6236  2012-02-16 02:00:00       1        0           1        2  12.30  15.91   \n",
       "\n",
       "      humidity  windspeed  casual  registered  count  \n",
       "3089        43    19.9995     129         195    324  \n",
       "2504        88     7.0015       5           9     14  \n",
       "6236        70     6.0032       1           6      7  "
      ]
     },
     "execution_count": 8,
     "metadata": {},
     "output_type": "execute_result"
    }
   ],
   "source": [
    "df[:3]"
   ]
  },
  {
   "cell_type": "code",
   "execution_count": 9,
   "metadata": {},
   "outputs": [],
   "source": [
    "import datetime"
   ]
  },
  {
   "cell_type": "code",
   "execution_count": 10,
   "metadata": {},
   "outputs": [],
   "source": [
    "df['date']  = df.datetime.apply(lambda x: x.split()[0])\n",
    "df['hour'] = df.datetime.apply(lambda x: x.split()[1].split(':')[0])\n",
    "df['weekday'] = df.date.apply(lambda dateString : datetime.datetime.strptime(dateString, '%Y-%m-%d').weekday())\n",
    "df['month'] = df.date.apply(lambda dateString : datetime.datetime.strptime(dateString, '%Y-%m-%d').month)\n",
    "df['month_day'] = df.date.apply(lambda dateString : datetime.datetime.strptime(dateString, '%Y-%m-%d').day)"
   ]
  },
  {
   "cell_type": "code",
   "execution_count": 11,
   "metadata": {},
   "outputs": [],
   "source": [
    "df = df.drop('datetime',axis=1)\n",
    "df = df.drop('casual',axis=1)\n",
    "df = df.drop('registered',axis=1)\n",
    "df = df.drop('date',axis=1)\n",
    "preds  = df['count']\n",
    "df = df.drop('count',axis=1)"
   ]
  },
  {
   "cell_type": "code",
   "execution_count": 12,
   "metadata": {},
   "outputs": [
    {
     "data": {
      "text/plain": [
       "count    10886.000000\n",
       "mean       191.574132\n",
       "std        181.144454\n",
       "min          1.000000\n",
       "25%         42.000000\n",
       "50%        145.000000\n",
       "75%        284.000000\n",
       "max        977.000000\n",
       "Name: count, dtype: float64"
      ]
     },
     "execution_count": 12,
     "metadata": {},
     "output_type": "execute_result"
    }
   ],
   "source": [
    "preds.describe( )"
   ]
  },
  {
   "cell_type": "code",
   "execution_count": 13,
   "metadata": {},
   "outputs": [
    {
     "data": {
      "text/html": [
       "<div>\n",
       "<style scoped>\n",
       "    .dataframe tbody tr th:only-of-type {\n",
       "        vertical-align: middle;\n",
       "    }\n",
       "\n",
       "    .dataframe tbody tr th {\n",
       "        vertical-align: top;\n",
       "    }\n",
       "\n",
       "    .dataframe thead th {\n",
       "        text-align: right;\n",
       "    }\n",
       "</style>\n",
       "<table border=\"1\" class=\"dataframe\">\n",
       "  <thead>\n",
       "    <tr style=\"text-align: right;\">\n",
       "      <th></th>\n",
       "      <th>season</th>\n",
       "      <th>holiday</th>\n",
       "      <th>workingday</th>\n",
       "      <th>weather</th>\n",
       "      <th>temp</th>\n",
       "      <th>atemp</th>\n",
       "      <th>humidity</th>\n",
       "      <th>windspeed</th>\n",
       "      <th>hour</th>\n",
       "      <th>weekday</th>\n",
       "      <th>month</th>\n",
       "      <th>month_day</th>\n",
       "    </tr>\n",
       "  </thead>\n",
       "  <tbody>\n",
       "    <tr>\n",
       "      <th>3089</th>\n",
       "      <td>3</td>\n",
       "      <td>0</td>\n",
       "      <td>0</td>\n",
       "      <td>1</td>\n",
       "      <td>33.62</td>\n",
       "      <td>37.12</td>\n",
       "      <td>43</td>\n",
       "      <td>19.9995</td>\n",
       "      <td>15</td>\n",
       "      <td>6</td>\n",
       "      <td>7</td>\n",
       "      <td>17</td>\n",
       "    </tr>\n",
       "    <tr>\n",
       "      <th>2504</th>\n",
       "      <td>2</td>\n",
       "      <td>0</td>\n",
       "      <td>0</td>\n",
       "      <td>1</td>\n",
       "      <td>25.42</td>\n",
       "      <td>28.03</td>\n",
       "      <td>88</td>\n",
       "      <td>7.0015</td>\n",
       "      <td>06</td>\n",
       "      <td>6</td>\n",
       "      <td>6</td>\n",
       "      <td>12</td>\n",
       "    </tr>\n",
       "    <tr>\n",
       "      <th>6236</th>\n",
       "      <td>1</td>\n",
       "      <td>0</td>\n",
       "      <td>1</td>\n",
       "      <td>2</td>\n",
       "      <td>12.30</td>\n",
       "      <td>15.91</td>\n",
       "      <td>70</td>\n",
       "      <td>6.0032</td>\n",
       "      <td>02</td>\n",
       "      <td>3</td>\n",
       "      <td>2</td>\n",
       "      <td>16</td>\n",
       "    </tr>\n",
       "  </tbody>\n",
       "</table>\n",
       "</div>"
      ],
      "text/plain": [
       "      season  holiday  workingday  weather   temp  atemp  humidity  windspeed  \\\n",
       "3089       3        0           0        1  33.62  37.12        43    19.9995   \n",
       "2504       2        0           0        1  25.42  28.03        88     7.0015   \n",
       "6236       1        0           1        2  12.30  15.91        70     6.0032   \n",
       "\n",
       "     hour  weekday  month  month_day  \n",
       "3089   15        6      7         17  \n",
       "2504   06        6      6         12  \n",
       "6236   02        3      2         16  "
      ]
     },
     "execution_count": 13,
     "metadata": {},
     "output_type": "execute_result"
    }
   ],
   "source": [
    "df[:3]"
   ]
  },
  {
   "cell_type": "code",
   "execution_count": 14,
   "metadata": {},
   "outputs": [],
   "source": [
    "categorical_vars = [\"hour\", \"month\", \"weekday\",\"season\",\"weather\",\"month_day\"]"
   ]
  },
  {
   "cell_type": "code",
   "execution_count": 15,
   "metadata": {},
   "outputs": [],
   "source": [
    "all_cols = df.columns"
   ]
  },
  {
   "cell_type": "code",
   "execution_count": 16,
   "metadata": {},
   "outputs": [
    {
     "data": {
      "text/plain": [
       "Index([u'season', u'holiday', u'workingday', u'weather', u'temp', u'atemp',\n",
       "       u'humidity', u'windspeed', u'hour', u'weekday', u'month', u'month_day'],\n",
       "      dtype='object')"
      ]
     },
     "execution_count": 16,
     "metadata": {},
     "output_type": "execute_result"
    }
   ],
   "source": [
    "all_cols"
   ]
  },
  {
   "cell_type": "code",
   "execution_count": 17,
   "metadata": {},
   "outputs": [],
   "source": [
    "other_cols = [i for i in all_cols if i not in categorical_vars ]"
   ]
  },
  {
   "cell_type": "code",
   "execution_count": 18,
   "metadata": {},
   "outputs": [
    {
     "data": {
      "text/plain": [
       "['holiday', 'workingday', 'temp', 'atemp', 'humidity', 'windspeed']"
      ]
     },
     "execution_count": 18,
     "metadata": {},
     "output_type": "execute_result"
    }
   ],
   "source": [
    "other_cols"
   ]
  },
  {
   "cell_type": "code",
   "execution_count": 19,
   "metadata": {},
   "outputs": [],
   "source": [
    "import numpy as np \n",
    "def preproc(X_train ) : \n",
    "\n",
    "    input_list_train = []\n",
    "    for c in categorical_vars :\n",
    "        \n",
    "        jjj = np.asarray(X_train[c].tolist())\n",
    "        jjj = pd.factorize( jjj )[0]\n",
    "        input_list_train.append( np.asarray(jjj)  )\n",
    "        \"\"\"\n",
    "        raw_vals = np.unique(X_train[c])\n",
    "        val_map = {}\n",
    "        for i in range(len(raw_vals)):\n",
    "            val_map[raw_vals[i]] = i       \n",
    "        input_list_train.append(X_train[c].map(val_map).values)\n",
    "        \"\"\"\n",
    "    #the rest of the columns\n",
    "    input_list_train.append(X_train[other_cols].values)\n",
    "    return input_list_train \n",
    "df_tr = preproc( df )"
   ]
  },
  {
   "cell_type": "code",
   "execution_count": 20,
   "metadata": {},
   "outputs": [
    {
     "name": "stderr",
     "output_type": "stream",
     "text": [
      "/home/ms/anaconda2/lib/python2.7/site-packages/h5py/__init__.py:36: FutureWarning: Conversion of the second argument of issubdtype from `float` to `np.floating` is deprecated. In future, it will be treated as `np.float64 == np.dtype(float).type`.\n",
      "  from ._conv import register_converters as _register_converters\n",
      "Using TensorFlow backend.\n",
      "/home/ms/anaconda2/lib/python2.7/site-packages/ipykernel_launcher.py:23: UserWarning: The `Merge` layer is deprecated and will be removed after 08/2017. Use instead layers from `keras.layers.merge`, e.g. `add`, `concatenate`, etc.\n"
     ]
    }
   ],
   "source": [
    "from keras.layers import *\n",
    "from keras.models import *\n",
    "\n",
    "models = []\n",
    "\n",
    "for categoical_var in categorical_vars :\n",
    "    model = Sequential()\n",
    "    model.reset_states( )\n",
    "    no_of_unique_cat  = df[categoical_var].nunique()\n",
    "    embedding_size = min(np.ceil((no_of_unique_cat)/2), 50 )\n",
    "    embedding_size = int(embedding_size)\n",
    "    model.add(  Embedding( no_of_unique_cat+1, embedding_size, input_length = 1 ) )\n",
    "    model.add(Reshape(target_shape=(embedding_size,)))\n",
    "    models.append( model )\n",
    "\n",
    "\n",
    "model_rest = Sequential()\n",
    "model_rest.add(Dense(  64 , input_dim = 6 ))\n",
    "model_rest.reset_states( )\n",
    "models.append(model_rest)\n",
    " \n",
    "full_model = Sequential()\n",
    "full_model.add(Merge(models, mode='concat'))\n",
    "\n",
    "full_model.add(Dense(512))\n",
    "full_model.add(Activation('sigmoid'))\n",
    "full_model.add(Dropout(0.2))\n",
    "\n",
    "full_model.add(Dense(32))\n",
    "full_model.add(Activation('sigmoid'))\n",
    "full_model.add(Dropout(0.2))\n",
    "\n",
    "full_model.add(Dense(1))\n",
    "\n",
    "full_model.compile(loss='mean_squared_error', optimizer='Adam',metrics=['mse','mape'])  "
   ]
  },
  {
   "cell_type": "code",
   "execution_count": 21,
   "metadata": {},
   "outputs": [
    {
     "name": "stderr",
     "output_type": "stream",
     "text": [
      "/home/ms/anaconda2/lib/python2.7/site-packages/ipykernel_launcher.py:3: UserWarning: The `Merge` layer is deprecated and will be removed after 08/2017. Use instead layers from `keras.layers.merge`, e.g. `add`, `concatenate`, etc.\n",
      "  This is separate from the ipykernel package so we can avoid doing imports until\n"
     ]
    }
   ],
   "source": [
    "full_model = Sequential()\n",
    "full_model.reset_states( )\n",
    "full_model.add(Merge(models, mode='concat'))\n",
    "full_model.add(Dense( 256 , activation='sigmoid'))\n",
    "full_model.add(Dense(32, activation='sigmoid'))\n",
    "full_model.add(Dropout(0.2))\n",
    "full_model.add(Dense(1 ))\n",
    "\n",
    "full_model.compile(loss='mean_squared_error', optimizer='Adam' ,metrics=['mse','mape'])"
   ]
  },
  {
   "cell_type": "code",
   "execution_count": 37,
   "metadata": {
    "collapsed": true
   },
   "outputs": [
    {
     "name": "stdout",
     "output_type": "stream",
     "text": [
      "Epoch 1/200\n",
      "10886/10886 [==============================] - 1s 85us/step - loss: 8450.5882 - mean_squared_error: 8450.5882 - mean_absolute_percentage_error: 54.0903\n",
      "Epoch 2/200\n",
      "10886/10886 [==============================] - 1s 87us/step - loss: 8022.7003 - mean_squared_error: 8022.7003 - mean_absolute_percentage_error: 52.2364\n",
      "Epoch 3/200\n",
      "10886/10886 [==============================] - 1s 88us/step - loss: 7923.3770 - mean_squared_error: 7923.3770 - mean_absolute_percentage_error: 51.9840\n",
      "Epoch 4/200\n",
      "10886/10886 [==============================] - 1s 88us/step - loss: 7697.5727 - mean_squared_error: 7697.5727 - mean_absolute_percentage_error: 51.5064\n",
      "Epoch 5/200\n",
      "10886/10886 [==============================] - 1s 82us/step - loss: 7534.5718 - mean_squared_error: 7534.5718 - mean_absolute_percentage_error: 51.4228\n",
      "Epoch 6/200\n",
      "10886/10886 [==============================] - 1s 91us/step - loss: 7254.3911 - mean_squared_error: 7254.3911 - mean_absolute_percentage_error: 49.9628\n",
      "Epoch 7/200\n",
      "10886/10886 [==============================] - 1s 90us/step - loss: 7134.0787 - mean_squared_error: 7134.0787 - mean_absolute_percentage_error: 50.2510\n",
      "Epoch 8/200\n",
      "10886/10886 [==============================] - 1s 98us/step - loss: 6890.0925 - mean_squared_error: 6890.0925 - mean_absolute_percentage_error: 49.5362\n",
      "Epoch 9/200\n",
      "10886/10886 [==============================] - 1s 92us/step - loss: 6748.8699 - mean_squared_error: 6748.8699 - mean_absolute_percentage_error: 48.4566\n",
      "Epoch 10/200\n",
      "10886/10886 [==============================] - 1s 89us/step - loss: 6515.0920 - mean_squared_error: 6515.0920 - mean_absolute_percentage_error: 47.5373\n",
      "Epoch 11/200\n",
      "10886/10886 [==============================] - 1s 89us/step - loss: 6296.5748 - mean_squared_error: 6296.5748 - mean_absolute_percentage_error: 48.6747\n",
      "Epoch 12/200\n",
      "10886/10886 [==============================] - 1s 91us/step - loss: 6257.1742 - mean_squared_error: 6257.1742 - mean_absolute_percentage_error: 47.0720\n",
      "Epoch 13/200\n",
      "10886/10886 [==============================] - 1s 89us/step - loss: 5964.5320 - mean_squared_error: 5964.5320 - mean_absolute_percentage_error: 47.3353\n",
      "Epoch 14/200\n",
      "10886/10886 [==============================] - 1s 88us/step - loss: 5946.6617 - mean_squared_error: 5946.6617 - mean_absolute_percentage_error: 46.9166\n",
      "Epoch 15/200\n",
      "10886/10886 [==============================] - 1s 88us/step - loss: 5760.5379 - mean_squared_error: 5760.5379 - mean_absolute_percentage_error: 46.4785\n",
      "Epoch 16/200\n",
      "10886/10886 [==============================] - 1s 92us/step - loss: 5724.1601 - mean_squared_error: 5724.1601 - mean_absolute_percentage_error: 46.5077\n",
      "Epoch 17/200\n",
      "10886/10886 [==============================] - 1s 93us/step - loss: 5570.1015 - mean_squared_error: 5570.1015 - mean_absolute_percentage_error: 46.8284\n",
      "Epoch 18/200\n",
      "10886/10886 [==============================] - 1s 81us/step - loss: 5415.4567 - mean_squared_error: 5415.4567 - mean_absolute_percentage_error: 45.0981\n",
      "Epoch 19/200\n",
      "10886/10886 [==============================] - 1s 81us/step - loss: 5252.6700 - mean_squared_error: 5252.6700 - mean_absolute_percentage_error: 44.3820\n",
      "Epoch 20/200\n",
      "10886/10886 [==============================] - 1s 80us/step - loss: 5094.6281 - mean_squared_error: 5094.6281 - mean_absolute_percentage_error: 44.9643\n",
      "Epoch 21/200\n",
      "10886/10886 [==============================] - 1s 85us/step - loss: 4979.3625 - mean_squared_error: 4979.3625 - mean_absolute_percentage_error: 43.5371\n",
      "Epoch 22/200\n",
      "10886/10886 [==============================] - 1s 87us/step - loss: 4903.7068 - mean_squared_error: 4903.7068 - mean_absolute_percentage_error: 44.0170\n",
      "Epoch 23/200\n",
      "10886/10886 [==============================] - 1s 94us/step - loss: 4752.0662 - mean_squared_error: 4752.0662 - mean_absolute_percentage_error: 43.1147\n",
      "Epoch 24/200\n",
      "10886/10886 [==============================] - 1s 88us/step - loss: 4681.3225 - mean_squared_error: 4681.3225 - mean_absolute_percentage_error: 43.5302\n",
      "Epoch 25/200\n",
      "10886/10886 [==============================] - 1s 90us/step - loss: 4614.5192 - mean_squared_error: 4614.5192 - mean_absolute_percentage_error: 42.4027\n",
      "Epoch 26/200\n",
      "10886/10886 [==============================] - 1s 86us/step - loss: 4418.8795 - mean_squared_error: 4418.8795 - mean_absolute_percentage_error: 43.2518\n",
      "Epoch 27/200\n",
      "10886/10886 [==============================] - 1s 88us/step - loss: 4354.1600 - mean_squared_error: 4354.1600 - mean_absolute_percentage_error: 41.9871\n",
      "Epoch 28/200\n",
      "10886/10886 [==============================] - 1s 87us/step - loss: 4329.7336 - mean_squared_error: 4329.7336 - mean_absolute_percentage_error: 42.2058\n",
      "Epoch 29/200\n",
      "10886/10886 [==============================] - 1s 88us/step - loss: 4171.7495 - mean_squared_error: 4171.7495 - mean_absolute_percentage_error: 42.2413\n",
      "Epoch 30/200\n",
      "10886/10886 [==============================] - 1s 97us/step - loss: 4071.8161 - mean_squared_error: 4071.8161 - mean_absolute_percentage_error: 42.2246\n",
      "Epoch 31/200\n",
      "10886/10886 [==============================] - 1s 97us/step - loss: 3935.1294 - mean_squared_error: 3935.1294 - mean_absolute_percentage_error: 42.1044\n",
      "Epoch 32/200\n",
      "10886/10886 [==============================] - 1s 92us/step - loss: 3968.4724 - mean_squared_error: 3968.4724 - mean_absolute_percentage_error: 41.3439\n",
      "Epoch 33/200\n",
      "10886/10886 [==============================] - 1s 94us/step - loss: 3824.3032 - mean_squared_error: 3824.3032 - mean_absolute_percentage_error: 42.0002\n",
      "Epoch 34/200\n",
      "10886/10886 [==============================] - 1s 87us/step - loss: 3695.2204 - mean_squared_error: 3695.2204 - mean_absolute_percentage_error: 41.2846\n",
      "Epoch 35/200\n",
      "10886/10886 [==============================] - 1s 97us/step - loss: 3752.4257 - mean_squared_error: 3752.4257 - mean_absolute_percentage_error: 41.1485\n",
      "Epoch 36/200\n",
      "10886/10886 [==============================] - 1s 86us/step - loss: 3605.3017 - mean_squared_error: 3605.3017 - mean_absolute_percentage_error: 40.7790\n",
      "Epoch 37/200\n",
      "10886/10886 [==============================] - 1s 87us/step - loss: 3550.2058 - mean_squared_error: 3550.2058 - mean_absolute_percentage_error: 41.0317\n",
      "Epoch 38/200\n",
      "10886/10886 [==============================] - 1s 91us/step - loss: 3573.4564 - mean_squared_error: 3573.4564 - mean_absolute_percentage_error: 42.1427\n",
      "Epoch 39/200\n",
      "10886/10886 [==============================] - 1s 100us/step - loss: 3419.0100 - mean_squared_error: 3419.0100 - mean_absolute_percentage_error: 41.0097\n",
      "Epoch 40/200\n",
      "10886/10886 [==============================] - 1s 94us/step - loss: 3325.6735 - mean_squared_error: 3325.6735 - mean_absolute_percentage_error: 40.9353\n",
      "Epoch 41/200\n",
      "10886/10886 [==============================] - 1s 88us/step - loss: 3448.2750 - mean_squared_error: 3448.2750 - mean_absolute_percentage_error: 39.5868\n",
      "Epoch 42/200\n",
      "10886/10886 [==============================] - 1s 92us/step - loss: 3250.6456 - mean_squared_error: 3250.6456 - mean_absolute_percentage_error: 39.5316\n",
      "Epoch 43/200\n",
      "10886/10886 [==============================] - 1s 87us/step - loss: 3231.3041 - mean_squared_error: 3231.3041 - mean_absolute_percentage_error: 40.9685\n",
      "Epoch 44/200\n",
      "10886/10886 [==============================] - 1s 88us/step - loss: 3211.5184 - mean_squared_error: 3211.5184 - mean_absolute_percentage_error: 39.6249\n",
      "Epoch 45/200\n",
      "10886/10886 [==============================] - 1s 90us/step - loss: 3186.9295 - mean_squared_error: 3186.9295 - mean_absolute_percentage_error: 40.1579\n",
      "Epoch 46/200\n",
      "10886/10886 [==============================] - 1s 90us/step - loss: 3118.1363 - mean_squared_error: 3118.1363 - mean_absolute_percentage_error: 39.3172\n",
      "Epoch 47/200\n",
      "10886/10886 [==============================] - 1s 91us/step - loss: 3067.8661 - mean_squared_error: 3067.8661 - mean_absolute_percentage_error: 40.7269\n",
      "Epoch 48/200\n",
      "10886/10886 [==============================] - 1s 89us/step - loss: 2996.9178 - mean_squared_error: 2996.9178 - mean_absolute_percentage_error: 39.5725\n",
      "Epoch 49/200\n",
      "10886/10886 [==============================] - 1s 86us/step - loss: 3027.6623 - mean_squared_error: 3027.6623 - mean_absolute_percentage_error: 40.7910\n",
      "Epoch 50/200\n",
      "10886/10886 [==============================] - 1s 88us/step - loss: 2899.0351 - mean_squared_error: 2899.0351 - mean_absolute_percentage_error: 39.0997\n",
      "Epoch 51/200\n",
      "10886/10886 [==============================] - 1s 90us/step - loss: 2853.5224 - mean_squared_error: 2853.5224 - mean_absolute_percentage_error: 39.4210\n",
      "Epoch 52/200\n",
      "10886/10886 [==============================] - 1s 88us/step - loss: 2829.1446 - mean_squared_error: 2829.1446 - mean_absolute_percentage_error: 38.7870\n",
      "Epoch 53/200\n",
      "10886/10886 [==============================] - 1s 88us/step - loss: 2671.5439 - mean_squared_error: 2671.5439 - mean_absolute_percentage_error: 38.9513\n",
      "Epoch 54/200\n",
      "10886/10886 [==============================] - 1s 87us/step - loss: 2644.8090 - mean_squared_error: 2644.8090 - mean_absolute_percentage_error: 38.9957\n",
      "Epoch 55/200\n",
      "10886/10886 [==============================] - 1s 86us/step - loss: 2758.7120 - mean_squared_error: 2758.7120 - mean_absolute_percentage_error: 39.3470\n",
      "Epoch 56/200\n",
      "10886/10886 [==============================] - 1s 86us/step - loss: 2677.6812 - mean_squared_error: 2677.6812 - mean_absolute_percentage_error: 38.9886\n",
      "Epoch 57/200\n",
      "10886/10886 [==============================] - 1s 86us/step - loss: 2716.4975 - mean_squared_error: 2716.4975 - mean_absolute_percentage_error: 39.9028\n",
      "Epoch 58/200\n",
      "10886/10886 [==============================] - 1s 86us/step - loss: 2639.2277 - mean_squared_error: 2639.2277 - mean_absolute_percentage_error: 38.8365\n",
      "Epoch 59/200\n",
      "10886/10886 [==============================] - 1s 86us/step - loss: 2573.6978 - mean_squared_error: 2573.6978 - mean_absolute_percentage_error: 39.3975\n",
      "Epoch 60/200\n",
      "10886/10886 [==============================] - 1s 87us/step - loss: 2606.1323 - mean_squared_error: 2606.1323 - mean_absolute_percentage_error: 39.2023\n",
      "Epoch 61/200\n",
      "10886/10886 [==============================] - 1s 84us/step - loss: 2516.4054 - mean_squared_error: 2516.4054 - mean_absolute_percentage_error: 38.6277\n",
      "Epoch 62/200\n",
      "10886/10886 [==============================] - 1s 80us/step - loss: 2464.5992 - mean_squared_error: 2464.5992 - mean_absolute_percentage_error: 38.1825\n",
      "Epoch 63/200\n",
      "10886/10886 [==============================] - 1s 82us/step - loss: 2380.6598 - mean_squared_error: 2380.6598 - mean_absolute_percentage_error: 38.7405\n",
      "Epoch 64/200\n",
      "10886/10886 [==============================] - 1s 85us/step - loss: 2444.8531 - mean_squared_error: 2444.8531 - mean_absolute_percentage_error: 39.0778\n",
      "Epoch 65/200\n",
      "10886/10886 [==============================] - 1s 86us/step - loss: 2379.0326 - mean_squared_error: 2379.0326 - mean_absolute_percentage_error: 38.6430\n",
      "Epoch 66/200\n",
      "10886/10886 [==============================] - 1s 82us/step - loss: 2324.0751 - mean_squared_error: 2324.0751 - mean_absolute_percentage_error: 39.2342\n",
      "Epoch 67/200\n",
      "10886/10886 [==============================] - 1s 80us/step - loss: 2373.3781 - mean_squared_error: 2373.3781 - mean_absolute_percentage_error: 39.0214\n",
      "Epoch 68/200\n",
      "10886/10886 [==============================] - 1s 82us/step - loss: 2357.0278 - mean_squared_error: 2357.0278 - mean_absolute_percentage_error: 38.6733\n",
      "Epoch 69/200\n",
      "10886/10886 [==============================] - 1s 80us/step - loss: 2357.2299 - mean_squared_error: 2357.2299 - mean_absolute_percentage_error: 38.7272\n",
      "Epoch 70/200\n",
      "10886/10886 [==============================] - 1s 83us/step - loss: 2322.3612 - mean_squared_error: 2322.3612 - mean_absolute_percentage_error: 39.2105\n",
      "Epoch 71/200\n",
      "10886/10886 [==============================] - 1s 81us/step - loss: 2223.6435 - mean_squared_error: 2223.6435 - mean_absolute_percentage_error: 39.4130\n",
      "Epoch 72/200\n",
      "10886/10886 [==============================] - 1s 86us/step - loss: 2272.7152 - mean_squared_error: 2272.7152 - mean_absolute_percentage_error: 39.8421\n",
      "Epoch 73/200\n",
      "10886/10886 [==============================] - 1s 83us/step - loss: 2335.3058 - mean_squared_error: 2335.3058 - mean_absolute_percentage_error: 39.2486\n",
      "Epoch 74/200\n",
      "10886/10886 [==============================] - 1s 80us/step - loss: 2233.1666 - mean_squared_error: 2233.1666 - mean_absolute_percentage_error: 39.0117\n",
      "Epoch 75/200\n",
      "10886/10886 [==============================] - 1s 80us/step - loss: 2222.8475 - mean_squared_error: 2222.8475 - mean_absolute_percentage_error: 38.2174\n",
      "Epoch 76/200\n",
      "10886/10886 [==============================] - 1s 81us/step - loss: 2250.6010 - mean_squared_error: 2250.6010 - mean_absolute_percentage_error: 38.5444\n",
      "Epoch 77/200\n",
      "10886/10886 [==============================] - 1s 80us/step - loss: 2194.9580 - mean_squared_error: 2194.9580 - mean_absolute_percentage_error: 38.3023\n",
      "Epoch 78/200\n",
      "10886/10886 [==============================] - 1s 80us/step - loss: 2135.5305 - mean_squared_error: 2135.5305 - mean_absolute_percentage_error: 39.4184\n",
      "Epoch 79/200\n",
      "10886/10886 [==============================] - 1s 82us/step - loss: 2095.1051 - mean_squared_error: 2095.1051 - mean_absolute_percentage_error: 38.3581\n",
      "Epoch 80/200\n",
      "10886/10886 [==============================] - 1s 86us/step - loss: 2129.2962 - mean_squared_error: 2129.2962 - mean_absolute_percentage_error: 38.2557\n",
      "Epoch 81/200\n",
      "10886/10886 [==============================] - 1s 83us/step - loss: 2076.2461 - mean_squared_error: 2076.2461 - mean_absolute_percentage_error: 37.8169\n",
      "Epoch 82/200\n",
      "10886/10886 [==============================] - 1s 80us/step - loss: 2120.8727 - mean_squared_error: 2120.8727 - mean_absolute_percentage_error: 38.6356\n",
      "Epoch 83/200\n",
      "10886/10886 [==============================] - 1s 84us/step - loss: 2021.8906 - mean_squared_error: 2021.8906 - mean_absolute_percentage_error: 39.5301\n",
      "Epoch 84/200\n",
      "10886/10886 [==============================] - 1s 84us/step - loss: 2072.7392 - mean_squared_error: 2072.7392 - mean_absolute_percentage_error: 38.7880\n",
      "Epoch 85/200\n",
      "10886/10886 [==============================] - 1s 87us/step - loss: 2024.9641 - mean_squared_error: 2024.9641 - mean_absolute_percentage_error: 39.2591\n",
      "Epoch 86/200\n",
      "10886/10886 [==============================] - 1s 86us/step - loss: 2058.8619 - mean_squared_error: 2058.8619 - mean_absolute_percentage_error: 39.5163\n",
      "Epoch 87/200\n",
      "10886/10886 [==============================] - 1s 82us/step - loss: 2061.6579 - mean_squared_error: 2061.6579 - mean_absolute_percentage_error: 38.6257\n",
      "Epoch 88/200\n",
      "10886/10886 [==============================] - 1s 80us/step - loss: 2054.1452 - mean_squared_error: 2054.1452 - mean_absolute_percentage_error: 40.1110\n",
      "Epoch 89/200\n",
      "10886/10886 [==============================] - 1s 84us/step - loss: 1952.5204 - mean_squared_error: 1952.5204 - mean_absolute_percentage_error: 39.1465\n",
      "Epoch 90/200\n",
      "10886/10886 [==============================] - 1s 80us/step - loss: 1965.8977 - mean_squared_error: 1965.8977 - mean_absolute_percentage_error: 38.2759\n",
      "Epoch 91/200\n",
      "10886/10886 [==============================] - 1s 80us/step - loss: 1935.3356 - mean_squared_error: 1935.3356 - mean_absolute_percentage_error: 37.5844\n",
      "Epoch 92/200\n",
      "10886/10886 [==============================] - 1s 80us/step - loss: 2005.2247 - mean_squared_error: 2005.2247 - mean_absolute_percentage_error: 39.8488\n",
      "Epoch 93/200\n",
      "10886/10886 [==============================] - 1s 80us/step - loss: 1935.4192 - mean_squared_error: 1935.4192 - mean_absolute_percentage_error: 39.2686\n",
      "Epoch 94/200\n",
      "10886/10886 [==============================] - 1s 80us/step - loss: 1910.9207 - mean_squared_error: 1910.9207 - mean_absolute_percentage_error: 40.5852\n",
      "Epoch 95/200\n",
      "10886/10886 [==============================] - 1s 80us/step - loss: 1906.4759 - mean_squared_error: 1906.4759 - mean_absolute_percentage_error: 39.0131\n",
      "Epoch 96/200\n",
      "10886/10886 [==============================] - 1s 80us/step - loss: 1885.7460 - mean_squared_error: 1885.7460 - mean_absolute_percentage_error: 38.8580\n",
      "Epoch 97/200\n",
      "10886/10886 [==============================] - 1s 81us/step - loss: 1946.9589 - mean_squared_error: 1946.9589 - mean_absolute_percentage_error: 40.1219\n",
      "Epoch 98/200\n",
      "10886/10886 [==============================] - 1s 85us/step - loss: 1844.7458 - mean_squared_error: 1844.7458 - mean_absolute_percentage_error: 38.9122\n",
      "Epoch 99/200\n"
     ]
    },
    {
     "name": "stdout",
     "output_type": "stream",
     "text": [
      "10886/10886 [==============================] - 1s 88us/step - loss: 1882.3305 - mean_squared_error: 1882.3305 - mean_absolute_percentage_error: 38.7772\n",
      "Epoch 100/200\n",
      "10886/10886 [==============================] - 1s 92us/step - loss: 1873.3490 - mean_squared_error: 1873.3490 - mean_absolute_percentage_error: 39.7555\n",
      "Epoch 101/200\n",
      "10886/10886 [==============================] - 1s 93us/step - loss: 1827.6304 - mean_squared_error: 1827.6304 - mean_absolute_percentage_error: 40.3853\n",
      "Epoch 102/200\n",
      "10886/10886 [==============================] - 1s 87us/step - loss: 1817.9841 - mean_squared_error: 1817.9841 - mean_absolute_percentage_error: 40.3415\n",
      "Epoch 103/200\n",
      "10886/10886 [==============================] - 1s 86us/step - loss: 1897.6045 - mean_squared_error: 1897.6045 - mean_absolute_percentage_error: 38.4329\n",
      "Epoch 104/200\n",
      "10886/10886 [==============================] - 1s 86us/step - loss: 1794.0691 - mean_squared_error: 1794.0691 - mean_absolute_percentage_error: 40.1556\n",
      "Epoch 105/200\n",
      "10886/10886 [==============================] - 1s 89us/step - loss: 1884.3316 - mean_squared_error: 1884.3316 - mean_absolute_percentage_error: 39.9054\n",
      "Epoch 106/200\n",
      "10886/10886 [==============================] - 1s 89us/step - loss: 1719.9223 - mean_squared_error: 1719.9223 - mean_absolute_percentage_error: 40.7602\n",
      "Epoch 107/200\n",
      "10886/10886 [==============================] - 1s 87us/step - loss: 1759.4129 - mean_squared_error: 1759.4129 - mean_absolute_percentage_error: 40.1931\n",
      "Epoch 108/200\n",
      "10886/10886 [==============================] - 1s 85us/step - loss: 1813.5063 - mean_squared_error: 1813.5063 - mean_absolute_percentage_error: 40.3443\n",
      "Epoch 109/200\n",
      "10886/10886 [==============================] - 1s 82us/step - loss: 1756.8041 - mean_squared_error: 1756.8041 - mean_absolute_percentage_error: 39.9484\n",
      "Epoch 110/200\n",
      "10886/10886 [==============================] - 1s 81us/step - loss: 1797.0037 - mean_squared_error: 1797.0037 - mean_absolute_percentage_error: 39.9831\n",
      "Epoch 111/200\n",
      "10886/10886 [==============================] - 1s 84us/step - loss: 1858.6167 - mean_squared_error: 1858.6167 - mean_absolute_percentage_error: 39.3368\n",
      "Epoch 112/200\n",
      "10886/10886 [==============================] - 1s 81us/step - loss: 1834.4862 - mean_squared_error: 1834.4862 - mean_absolute_percentage_error: 38.7684\n",
      "Epoch 113/200\n",
      "10886/10886 [==============================] - 1s 82us/step - loss: 1698.3587 - mean_squared_error: 1698.3587 - mean_absolute_percentage_error: 39.2894\n",
      "Epoch 114/200\n",
      "10886/10886 [==============================] - 1s 85us/step - loss: 1745.1294 - mean_squared_error: 1745.1294 - mean_absolute_percentage_error: 39.3117\n",
      "Epoch 115/200\n",
      "10886/10886 [==============================] - 1s 81us/step - loss: 1696.5869 - mean_squared_error: 1696.5869 - mean_absolute_percentage_error: 39.0177\n",
      "Epoch 116/200\n",
      "10886/10886 [==============================] - 1s 81us/step - loss: 1694.4127 - mean_squared_error: 1694.4127 - mean_absolute_percentage_error: 40.4921\n",
      "Epoch 117/200\n",
      "10886/10886 [==============================] - 1s 83us/step - loss: 1682.9081 - mean_squared_error: 1682.9081 - mean_absolute_percentage_error: 39.9694\n",
      "Epoch 118/200\n",
      "10886/10886 [==============================] - 1s 84us/step - loss: 1738.1332 - mean_squared_error: 1738.1332 - mean_absolute_percentage_error: 39.7791\n",
      "Epoch 119/200\n",
      "10886/10886 [==============================] - 1s 85us/step - loss: 1741.1680 - mean_squared_error: 1741.1680 - mean_absolute_percentage_error: 40.2595\n",
      "Epoch 120/200\n",
      "10886/10886 [==============================] - 1s 83us/step - loss: 1672.0733 - mean_squared_error: 1672.0733 - mean_absolute_percentage_error: 39.1979\n",
      "Epoch 121/200\n",
      "10886/10886 [==============================] - 1s 85us/step - loss: 1677.6530 - mean_squared_error: 1677.6530 - mean_absolute_percentage_error: 39.9866\n",
      "Epoch 122/200\n",
      "10886/10886 [==============================] - 1s 84us/step - loss: 1649.8732 - mean_squared_error: 1649.8732 - mean_absolute_percentage_error: 39.9629\n",
      "Epoch 123/200\n",
      "10886/10886 [==============================] - 1s 87us/step - loss: 1656.7762 - mean_squared_error: 1656.7762 - mean_absolute_percentage_error: 40.4294\n",
      "Epoch 124/200\n",
      "10886/10886 [==============================] - 1s 88us/step - loss: 1578.9469 - mean_squared_error: 1578.9469 - mean_absolute_percentage_error: 39.5870\n",
      "Epoch 125/200\n",
      "10886/10886 [==============================] - 1s 81us/step - loss: 1652.2220 - mean_squared_error: 1652.2220 - mean_absolute_percentage_error: 40.2903\n",
      "Epoch 126/200\n",
      "10886/10886 [==============================] - 1s 80us/step - loss: 1597.5969 - mean_squared_error: 1597.5969 - mean_absolute_percentage_error: 40.1208\n",
      "Epoch 127/200\n",
      "10886/10886 [==============================] - 1s 83us/step - loss: 1628.4679 - mean_squared_error: 1628.4679 - mean_absolute_percentage_error: 41.2445\n",
      "Epoch 128/200\n",
      "10886/10886 [==============================] - 1s 80us/step - loss: 1653.4095 - mean_squared_error: 1653.4095 - mean_absolute_percentage_error: 39.8522\n",
      "Epoch 129/200\n",
      "10886/10886 [==============================] - 1s 80us/step - loss: 1581.5125 - mean_squared_error: 1581.5125 - mean_absolute_percentage_error: 38.6508\n",
      "Epoch 130/200\n",
      "10886/10886 [==============================] - 1s 80us/step - loss: 1632.4279 - mean_squared_error: 1632.4279 - mean_absolute_percentage_error: 40.5914\n",
      "Epoch 131/200\n",
      "10886/10886 [==============================] - 1s 80us/step - loss: 1644.7720 - mean_squared_error: 1644.7720 - mean_absolute_percentage_error: 40.8157\n",
      "Epoch 132/200\n",
      "10886/10886 [==============================] - 1s 80us/step - loss: 1627.3272 - mean_squared_error: 1627.3272 - mean_absolute_percentage_error: 41.1678\n",
      "Epoch 133/200\n",
      "10886/10886 [==============================] - 1s 82us/step - loss: 1592.5402 - mean_squared_error: 1592.5402 - mean_absolute_percentage_error: 39.7485\n",
      "Epoch 134/200\n",
      "10886/10886 [==============================] - 1s 85us/step - loss: 1566.3261 - mean_squared_error: 1566.3261 - mean_absolute_percentage_error: 40.9332\n",
      "Epoch 135/200\n",
      "10886/10886 [==============================] - 1s 83us/step - loss: 1539.5948 - mean_squared_error: 1539.5948 - mean_absolute_percentage_error: 40.6574\n",
      "Epoch 136/200\n",
      "10886/10886 [==============================] - 1s 82us/step - loss: 1569.2946 - mean_squared_error: 1569.2946 - mean_absolute_percentage_error: 39.8809\n",
      "Epoch 137/200\n",
      "10886/10886 [==============================] - 1s 81us/step - loss: 1600.5876 - mean_squared_error: 1600.5876 - mean_absolute_percentage_error: 39.6696\n",
      "Epoch 138/200\n",
      "10886/10886 [==============================] - 1s 83us/step - loss: 1644.3975 - mean_squared_error: 1644.3975 - mean_absolute_percentage_error: 40.4257\n",
      "Epoch 139/200\n",
      "10886/10886 [==============================] - 1s 82us/step - loss: 1592.3069 - mean_squared_error: 1592.3069 - mean_absolute_percentage_error: 41.4475\n",
      "Epoch 140/200\n",
      "10886/10886 [==============================] - 1s 86us/step - loss: 1620.6439 - mean_squared_error: 1620.6439 - mean_absolute_percentage_error: 41.3594\n",
      "Epoch 141/200\n",
      "10886/10886 [==============================] - 1s 91us/step - loss: 1497.9887 - mean_squared_error: 1497.9887 - mean_absolute_percentage_error: 40.4330\n",
      "Epoch 142/200\n",
      "10886/10886 [==============================] - 1s 95us/step - loss: 1544.7460 - mean_squared_error: 1544.7460 - mean_absolute_percentage_error: 40.9201\n",
      "Epoch 143/200\n",
      "10886/10886 [==============================] - 1s 90us/step - loss: 1524.5756 - mean_squared_error: 1524.5756 - mean_absolute_percentage_error: 41.3179\n",
      "Epoch 144/200\n",
      "10886/10886 [==============================] - 1s 90us/step - loss: 1503.5242 - mean_squared_error: 1503.5242 - mean_absolute_percentage_error: 41.3859\n",
      "Epoch 145/200\n",
      "10886/10886 [==============================] - 1s 89us/step - loss: 1543.3656 - mean_squared_error: 1543.3656 - mean_absolute_percentage_error: 40.0861\n",
      "Epoch 146/200\n",
      "10886/10886 [==============================] - 1s 89us/step - loss: 1555.7871 - mean_squared_error: 1555.7871 - mean_absolute_percentage_error: 41.0691\n",
      "Epoch 147/200\n",
      "10886/10886 [==============================] - 1s 92us/step - loss: 1488.6972 - mean_squared_error: 1488.6972 - mean_absolute_percentage_error: 41.3443\n",
      "Epoch 148/200\n",
      "10886/10886 [==============================] - 1s 91us/step - loss: 1539.9457 - mean_squared_error: 1539.9457 - mean_absolute_percentage_error: 39.9667\n",
      "Epoch 149/200\n",
      "10886/10886 [==============================] - 1s 88us/step - loss: 1505.2876 - mean_squared_error: 1505.2876 - mean_absolute_percentage_error: 41.4148\n",
      "Epoch 150/200\n",
      "10886/10886 [==============================] - 1s 86us/step - loss: 1553.1697 - mean_squared_error: 1553.1697 - mean_absolute_percentage_error: 42.0145\n",
      "Epoch 151/200\n",
      "10886/10886 [==============================] - 1s 82us/step - loss: 1473.1734 - mean_squared_error: 1473.1734 - mean_absolute_percentage_error: 41.7218\n",
      "Epoch 152/200\n",
      "10886/10886 [==============================] - 1s 81us/step - loss: 1492.0064 - mean_squared_error: 1492.0064 - mean_absolute_percentage_error: 40.5724\n",
      "Epoch 153/200\n",
      "10886/10886 [==============================] - 1s 83us/step - loss: 1533.0708 - mean_squared_error: 1533.0708 - mean_absolute_percentage_error: 42.4548\n",
      "Epoch 154/200\n",
      "10886/10886 [==============================] - 1s 80us/step - loss: 1533.7310 - mean_squared_error: 1533.7310 - mean_absolute_percentage_error: 42.0470\n",
      "Epoch 155/200\n",
      "10886/10886 [==============================] - 1s 80us/step - loss: 1502.4765 - mean_squared_error: 1502.4765 - mean_absolute_percentage_error: 39.9599\n",
      "Epoch 156/200\n",
      "10886/10886 [==============================] - 1s 82us/step - loss: 1514.4013 - mean_squared_error: 1514.4013 - mean_absolute_percentage_error: 41.2031\n",
      "Epoch 157/200\n",
      "10886/10886 [==============================] - 1s 81us/step - loss: 1483.4092 - mean_squared_error: 1483.4092 - mean_absolute_percentage_error: 42.4189\n",
      "Epoch 158/200\n",
      "10886/10886 [==============================] - 1s 80us/step - loss: 1503.3183 - mean_squared_error: 1503.3183 - mean_absolute_percentage_error: 41.0013\n",
      "Epoch 159/200\n",
      "10886/10886 [==============================] - 1s 80us/step - loss: 1405.8190 - mean_squared_error: 1405.8190 - mean_absolute_percentage_error: 40.5677\n",
      "Epoch 160/200\n",
      "10886/10886 [==============================] - 1s 80us/step - loss: 1474.4267 - mean_squared_error: 1474.4267 - mean_absolute_percentage_error: 41.8468\n",
      "Epoch 161/200\n",
      "10886/10886 [==============================] - 1s 79us/step - loss: 1478.6732 - mean_squared_error: 1478.6732 - mean_absolute_percentage_error: 42.3945\n",
      "Epoch 162/200\n",
      "10886/10886 [==============================] - 1s 81us/step - loss: 1472.0787 - mean_squared_error: 1472.0787 - mean_absolute_percentage_error: 40.6571\n",
      "Epoch 163/200\n",
      "10886/10886 [==============================] - 1s 80us/step - loss: 1452.5760 - mean_squared_error: 1452.5760 - mean_absolute_percentage_error: 41.0680\n",
      "Epoch 164/200\n",
      "10886/10886 [==============================] - 1s 80us/step - loss: 1448.6982 - mean_squared_error: 1448.6982 - mean_absolute_percentage_error: 42.2651\n",
      "Epoch 165/200\n",
      "10886/10886 [==============================] - 1s 80us/step - loss: 1538.3405 - mean_squared_error: 1538.3405 - mean_absolute_percentage_error: 41.0021\n",
      "Epoch 166/200\n",
      "10886/10886 [==============================] - 1s 80us/step - loss: 1484.9955 - mean_squared_error: 1484.9955 - mean_absolute_percentage_error: 42.6638\n",
      "Epoch 167/200\n",
      "10886/10886 [==============================] - 1s 80us/step - loss: 1503.6239 - mean_squared_error: 1503.6239 - mean_absolute_percentage_error: 42.0428\n",
      "Epoch 168/200\n",
      "10886/10886 [==============================] - 1s 80us/step - loss: 1508.7483 - mean_squared_error: 1508.7483 - mean_absolute_percentage_error: 41.6429\n",
      "Epoch 169/200\n",
      "10886/10886 [==============================] - 1s 80us/step - loss: 1421.9030 - mean_squared_error: 1421.9030 - mean_absolute_percentage_error: 41.3843\n",
      "Epoch 170/200\n",
      "10886/10886 [==============================] - 1s 80us/step - loss: 1452.6689 - mean_squared_error: 1452.6689 - mean_absolute_percentage_error: 41.5301\n",
      "Epoch 171/200\n",
      "10886/10886 [==============================] - 1s 80us/step - loss: 1446.7713 - mean_squared_error: 1446.7713 - mean_absolute_percentage_error: 42.8145\n",
      "Epoch 172/200\n",
      "10886/10886 [==============================] - 1s 80us/step - loss: 1353.2457 - mean_squared_error: 1353.2457 - mean_absolute_percentage_error: 41.4563\n",
      "Epoch 173/200\n",
      "10886/10886 [==============================] - 1s 83us/step - loss: 1450.1498 - mean_squared_error: 1450.1498 - mean_absolute_percentage_error: 42.1870\n",
      "Epoch 174/200\n",
      "10886/10886 [==============================] - 1s 82us/step - loss: 1494.8718 - mean_squared_error: 1494.8718 - mean_absolute_percentage_error: 42.8251\n",
      "Epoch 175/200\n",
      "10886/10886 [==============================] - 1s 82us/step - loss: 1341.7292 - mean_squared_error: 1341.7292 - mean_absolute_percentage_error: 43.2477\n",
      "Epoch 176/200\n",
      "10886/10886 [==============================] - 1s 84us/step - loss: 1411.3941 - mean_squared_error: 1411.3941 - mean_absolute_percentage_error: 41.1918\n",
      "Epoch 177/200\n",
      "10886/10886 [==============================] - 1s 82us/step - loss: 1440.3000 - mean_squared_error: 1440.3000 - mean_absolute_percentage_error: 43.4760\n",
      "Epoch 178/200\n",
      "10886/10886 [==============================] - 1s 85us/step - loss: 1412.6512 - mean_squared_error: 1412.6512 - mean_absolute_percentage_error: 41.8968\n",
      "Epoch 179/200\n",
      "10886/10886 [==============================] - 1s 82us/step - loss: 1436.3473 - mean_squared_error: 1436.3473 - mean_absolute_percentage_error: 42.5147\n",
      "Epoch 180/200\n",
      "10886/10886 [==============================] - 1s 86us/step - loss: 1405.4079 - mean_squared_error: 1405.4079 - mean_absolute_percentage_error: 43.8240\n",
      "Epoch 181/200\n",
      "10886/10886 [==============================] - 1s 88us/step - loss: 1346.3562 - mean_squared_error: 1346.3562 - mean_absolute_percentage_error: 43.8671\n",
      "Epoch 182/200\n",
      "10886/10886 [==============================] - 1s 89us/step - loss: 1461.1143 - mean_squared_error: 1461.1143 - mean_absolute_percentage_error: 43.3219\n",
      "Epoch 183/200\n",
      "10886/10886 [==============================] - 1s 86us/step - loss: 1360.8040 - mean_squared_error: 1360.8040 - mean_absolute_percentage_error: 42.2417\n",
      "Epoch 184/200\n",
      "10886/10886 [==============================] - 1s 89us/step - loss: 1359.3231 - mean_squared_error: 1359.3231 - mean_absolute_percentage_error: 42.8417\n",
      "Epoch 185/200\n",
      "10886/10886 [==============================] - 1s 89us/step - loss: 1363.3963 - mean_squared_error: 1363.3963 - mean_absolute_percentage_error: 43.6910\n",
      "Epoch 186/200\n",
      "10886/10886 [==============================] - 1s 89us/step - loss: 1424.6465 - mean_squared_error: 1424.6465 - mean_absolute_percentage_error: 43.5078\n",
      "Epoch 187/200\n",
      "10886/10886 [==============================] - 1s 98us/step - loss: 1375.2296 - mean_squared_error: 1375.2296 - mean_absolute_percentage_error: 42.5705\n",
      "Epoch 188/200\n",
      "10886/10886 [==============================] - 1s 90us/step - loss: 1346.5743 - mean_squared_error: 1346.5743 - mean_absolute_percentage_error: 42.1326\n",
      "Epoch 189/200\n",
      "10886/10886 [==============================] - 1s 90us/step - loss: 1324.0773 - mean_squared_error: 1324.0773 - mean_absolute_percentage_error: 44.8391\n",
      "Epoch 190/200\n",
      "10886/10886 [==============================] - 1s 90us/step - loss: 1358.8900 - mean_squared_error: 1358.8900 - mean_absolute_percentage_error: 42.2657\n",
      "Epoch 191/200\n",
      "10886/10886 [==============================] - 1s 91us/step - loss: 1404.1226 - mean_squared_error: 1404.1226 - mean_absolute_percentage_error: 41.8966\n",
      "Epoch 192/200\n",
      "10886/10886 [==============================] - 1s 91us/step - loss: 1425.6199 - mean_squared_error: 1425.6199 - mean_absolute_percentage_error: 42.9355\n",
      "Epoch 193/200\n",
      "10886/10886 [==============================] - 1s 91us/step - loss: 1306.0634 - mean_squared_error: 1306.0634 - mean_absolute_percentage_error: 43.9766\n",
      "Epoch 194/200\n",
      "10886/10886 [==============================] - 1s 94us/step - loss: 1354.7966 - mean_squared_error: 1354.7966 - mean_absolute_percentage_error: 43.6861\n",
      "Epoch 195/200\n",
      "10886/10886 [==============================] - 1s 91us/step - loss: 1445.4532 - mean_squared_error: 1445.4532 - mean_absolute_percentage_error: 42.0196\n",
      "Epoch 196/200\n",
      "10886/10886 [==============================] - 1s 91us/step - loss: 1353.4166 - mean_squared_error: 1353.4166 - mean_absolute_percentage_error: 41.7669\n",
      "Epoch 197/200\n"
     ]
    },
    {
     "name": "stdout",
     "output_type": "stream",
     "text": [
      "10886/10886 [==============================] - 1s 88us/step - loss: 1351.6199 - mean_squared_error: 1351.6199 - mean_absolute_percentage_error: 42.4884\n",
      "Epoch 198/200\n",
      "10886/10886 [==============================] - 1s 88us/step - loss: 1346.1430 - mean_squared_error: 1346.1430 - mean_absolute_percentage_error: 41.8846\n",
      "Epoch 199/200\n",
      "10886/10886 [==============================] - 1s 89us/step - loss: 1277.9160 - mean_squared_error: 1277.9160 - mean_absolute_percentage_error: 45.1603\n",
      "Epoch 200/200\n",
      "10886/10886 [==============================] - 1s 88us/step - loss: 1359.1014 - mean_squared_error: 1359.1014 - mean_absolute_percentage_error: 43.4700\n"
     ]
    }
   ],
   "source": [
    "history  =  full_model.fit( df_tr  , preds  , epochs =  200 , batch_size = 16, verbose= 1  )"
   ]
  },
  {
   "cell_type": "code",
   "execution_count": 38,
   "metadata": {},
   "outputs": [
    {
     "data": {
      "text/plain": [
       "{'batch_size': 16,\n",
       " 'do_validation': False,\n",
       " 'epochs': 200,\n",
       " 'metrics': ['loss', 'mean_squared_error', 'mean_absolute_percentage_error'],\n",
       " 'samples': 10886,\n",
       " 'steps': None,\n",
       " 'verbose': 1}"
      ]
     },
     "execution_count": 38,
     "metadata": {},
     "output_type": "execute_result"
    }
   ],
   "source": [
    "history.params"
   ]
  },
  {
   "cell_type": "code",
   "execution_count": 39,
   "metadata": {},
   "outputs": [],
   "source": [
    "loss = history.history['loss']\n",
    "mse = history.history['mean_squared_error']\n",
    "mape = history.history['mean_absolute_percentage_error']"
   ]
  },
  {
   "cell_type": "code",
   "execution_count": 40,
   "metadata": {},
   "outputs": [
    {
     "data": {
      "text/plain": [
       "[<matplotlib.lines.Line2D at 0x7f0764144b50>]"
      ]
     },
     "execution_count": 40,
     "metadata": {},
     "output_type": "execute_result"
    },
    {
     "data": {
      "image/png": "[encoded data removed]",
      "text/plain": [
       "<matplotlib.figure.Figure at 0x7f076420c250>"
      ]
     },
     "metadata": {},
     "output_type": "display_data"
    }
   ],
   "source": [
    "import matplotlib.pyplot as plt\n",
    "%matplotlib inline\n",
    "plt.xkcd()\n",
    "plt.xlabel(\"Epochs\")\n",
    "plt.ylabel(\"Loss\")\n",
    "plt.plot( loss  )\n"
   ]
  },
  {
   "cell_type": "code",
   "execution_count": 41,
   "metadata": {},
   "outputs": [
    {
     "data": {
      "text/plain": [
       "[<matplotlib.lines.Line2D at 0x7f0764137590>]"
      ]
     },
     "execution_count": 41,
     "metadata": {},
     "output_type": "execute_result"
    },
    {
     "data": {
      "image/png": "[encoded data removed]",
      "text/plain": [
       "<matplotlib.figure.Figure at 0x7f075d78e990>"
      ]
     },
     "metadata": {},
     "output_type": "display_data"
    }
   ],
   "source": [
    "plt.xlabel(\"epoch\")\n",
    "plt.ylabel(\"mape\")\n",
    "plt.plot( mape )"
   ]
  },
  {
   "cell_type": "code",
   "execution_count": 42,
   "metadata": {},
   "outputs": [
    {
     "data": {
      "text/plain": [
       "[<matplotlib.lines.Line2D at 0x7f076407fc50>]"
      ]
     },
     "execution_count": 42,
     "metadata": {},
     "output_type": "execute_result"
    },
    {
     "data": {
      "image/png": "[encoded data removed]",
      "text/plain": [
       "<matplotlib.figure.Figure at 0x7f075d776790>"
      ]
     },
     "metadata": {},
     "output_type": "display_data"
    }
   ],
   "source": [
    "plt.plot( mse)"
   ]
  }
 ],
 "metadata": {
  "kernelspec": {
   "display_name": "Python 2",
   "language": "python",
   "name": "python2"
  },
  "language_info": {
   "codemirror_mode": {
    "name": "ipython",
    "version": 2
   },
   "file_extension": ".py",
   "mimetype": "text/x-python",
   "name": "python",
   "nbconvert_exporter": "python",
   "pygments_lexer": "ipython2",
   "version": "2.7.14"
  },
  "nbpresent": {
   "slides": {},
   "themes": {
    "default": "6815fa09-5727-4fd1-b945-274776a611f2",
    "theme": {}
   }
  }
 },
 "nbformat": 4,
 "nbformat_minor": 2
}
