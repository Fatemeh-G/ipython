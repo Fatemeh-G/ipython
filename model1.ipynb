{
 "cells": [
  {
   "cell_type": "code",
   "execution_count": 1,
   "metadata": {
    "collapsed": false
   },
   "outputs": [],
   "source": [
    "import pandas as pd\n",
    "import numpy as np\n",
    "from sklearn.linear_model import LinearRegression\n",
    "import matplotlib.pyplot as plt \n",
    "from matplotlib import style\n",
    "%matplotlib inline"
   ]
  },
  {
   "cell_type": "code",
   "execution_count": 2,
   "metadata": {
    "collapsed": true
   },
   "outputs": [],
   "source": [
    "data = pd.read_csv('autos.csv')"
   ]
  },
  {
   "cell_type": "code",
   "execution_count": 3,
   "metadata": {
    "collapsed": false
   },
   "outputs": [
    {
     "data": {
      "text/html": [
       "<div>\n",
       "<table border=\"1\" class=\"dataframe\">\n",
       "  <thead>\n",
       "    <tr style=\"text-align: right;\">\n",
       "      <th></th>\n",
       "      <th>dateCrawled</th>\n",
       "      <th>name</th>\n",
       "      <th>seller</th>\n",
       "      <th>offerType</th>\n",
       "      <th>price</th>\n",
       "      <th>abtest</th>\n",
       "      <th>vehicleType</th>\n",
       "      <th>yearOfRegistration</th>\n",
       "      <th>gearbox</th>\n",
       "      <th>powerPS</th>\n",
       "      <th>model</th>\n",
       "      <th>kilometer</th>\n",
       "      <th>monthOfRegistration</th>\n",
       "      <th>fuelType</th>\n",
       "      <th>brand</th>\n",
       "      <th>notRepairedDamage</th>\n",
       "      <th>dateCreated</th>\n",
       "      <th>nrOfPictures</th>\n",
       "      <th>postalCode</th>\n",
       "      <th>lastSeen</th>\n",
       "    </tr>\n",
       "  </thead>\n",
       "  <tbody>\n",
       "    <tr>\n",
       "      <th>0</th>\n",
       "      <td>2016-03-24 11:52:17</td>\n",
       "      <td>Golf_3_1.6</td>\n",
       "      <td>privat</td>\n",
       "      <td>Angebot</td>\n",
       "      <td>480</td>\n",
       "      <td>test</td>\n",
       "      <td>NaN</td>\n",
       "      <td>1993</td>\n",
       "      <td>manuell</td>\n",
       "      <td>0</td>\n",
       "      <td>golf</td>\n",
       "      <td>150000</td>\n",
       "      <td>0</td>\n",
       "      <td>benzin</td>\n",
       "      <td>volkswagen</td>\n",
       "      <td>NaN</td>\n",
       "      <td>2016-03-24 00:00:00</td>\n",
       "      <td>0</td>\n",
       "      <td>70435</td>\n",
       "      <td>2016-04-07 03:16:57</td>\n",
       "    </tr>\n",
       "    <tr>\n",
       "      <th>1</th>\n",
       "      <td>2016-03-24 10:58:45</td>\n",
       "      <td>A5_Sportback_2.7_Tdi</td>\n",
       "      <td>privat</td>\n",
       "      <td>Angebot</td>\n",
       "      <td>18300</td>\n",
       "      <td>test</td>\n",
       "      <td>coupe</td>\n",
       "      <td>2011</td>\n",
       "      <td>manuell</td>\n",
       "      <td>190</td>\n",
       "      <td>NaN</td>\n",
       "      <td>125000</td>\n",
       "      <td>5</td>\n",
       "      <td>diesel</td>\n",
       "      <td>audi</td>\n",
       "      <td>ja</td>\n",
       "      <td>2016-03-24 00:00:00</td>\n",
       "      <td>0</td>\n",
       "      <td>66954</td>\n",
       "      <td>2016-04-07 01:46:50</td>\n",
       "    </tr>\n",
       "    <tr>\n",
       "      <th>2</th>\n",
       "      <td>2016-03-14 12:52:21</td>\n",
       "      <td>Jeep_Grand_Cherokee_\"Overland\"</td>\n",
       "      <td>privat</td>\n",
       "      <td>Angebot</td>\n",
       "      <td>9800</td>\n",
       "      <td>test</td>\n",
       "      <td>suv</td>\n",
       "      <td>2004</td>\n",
       "      <td>automatik</td>\n",
       "      <td>163</td>\n",
       "      <td>grand</td>\n",
       "      <td>125000</td>\n",
       "      <td>8</td>\n",
       "      <td>diesel</td>\n",
       "      <td>jeep</td>\n",
       "      <td>NaN</td>\n",
       "      <td>2016-03-14 00:00:00</td>\n",
       "      <td>0</td>\n",
       "      <td>90480</td>\n",
       "      <td>2016-04-05 12:47:46</td>\n",
       "    </tr>\n",
       "    <tr>\n",
       "      <th>3</th>\n",
       "      <td>2016-03-17 16:54:04</td>\n",
       "      <td>GOLF_4_1_4__3T�RER</td>\n",
       "      <td>privat</td>\n",
       "      <td>Angebot</td>\n",
       "      <td>1500</td>\n",
       "      <td>test</td>\n",
       "      <td>kleinwagen</td>\n",
       "      <td>2001</td>\n",
       "      <td>manuell</td>\n",
       "      <td>75</td>\n",
       "      <td>golf</td>\n",
       "      <td>150000</td>\n",
       "      <td>6</td>\n",
       "      <td>benzin</td>\n",
       "      <td>volkswagen</td>\n",
       "      <td>nein</td>\n",
       "      <td>2016-03-17 00:00:00</td>\n",
       "      <td>0</td>\n",
       "      <td>91074</td>\n",
       "      <td>2016-03-17 17:40:17</td>\n",
       "    </tr>\n",
       "    <tr>\n",
       "      <th>4</th>\n",
       "      <td>2016-03-31 17:25:20</td>\n",
       "      <td>Skoda_Fabia_1.4_TDI_PD_Classic</td>\n",
       "      <td>privat</td>\n",
       "      <td>Angebot</td>\n",
       "      <td>3600</td>\n",
       "      <td>test</td>\n",
       "      <td>kleinwagen</td>\n",
       "      <td>2008</td>\n",
       "      <td>manuell</td>\n",
       "      <td>69</td>\n",
       "      <td>fabia</td>\n",
       "      <td>90000</td>\n",
       "      <td>7</td>\n",
       "      <td>diesel</td>\n",
       "      <td>skoda</td>\n",
       "      <td>nein</td>\n",
       "      <td>2016-03-31 00:00:00</td>\n",
       "      <td>0</td>\n",
       "      <td>60437</td>\n",
       "      <td>2016-04-06 10:17:21</td>\n",
       "    </tr>\n",
       "  </tbody>\n",
       "</table>\n",
       "</div>"
      ],
      "text/plain": [
       "           dateCrawled                            name  seller offerType  \\\n",
       "0  2016-03-24 11:52:17                      Golf_3_1.6  privat   Angebot   \n",
       "1  2016-03-24 10:58:45            A5_Sportback_2.7_Tdi  privat   Angebot   \n",
       "2  2016-03-14 12:52:21  Jeep_Grand_Cherokee_\"Overland\"  privat   Angebot   \n",
       "3  2016-03-17 16:54:04              GOLF_4_1_4__3T�RER  privat   Angebot   \n",
       "4  2016-03-31 17:25:20  Skoda_Fabia_1.4_TDI_PD_Classic  privat   Angebot   \n",
       "\n",
       "   price abtest vehicleType  yearOfRegistration    gearbox  powerPS  model  \\\n",
       "0    480   test         NaN                1993    manuell        0   golf   \n",
       "1  18300   test       coupe                2011    manuell      190    NaN   \n",
       "2   9800   test         suv                2004  automatik      163  grand   \n",
       "3   1500   test  kleinwagen                2001    manuell       75   golf   \n",
       "4   3600   test  kleinwagen                2008    manuell       69  fabia   \n",
       "\n",
       "   kilometer  monthOfRegistration fuelType       brand notRepairedDamage  \\\n",
       "0     150000                    0   benzin  volkswagen               NaN   \n",
       "1     125000                    5   diesel        audi                ja   \n",
       "2     125000                    8   diesel        jeep               NaN   \n",
       "3     150000                    6   benzin  volkswagen              nein   \n",
       "4      90000                    7   diesel       skoda              nein   \n",
       "\n",
       "           dateCreated  nrOfPictures  postalCode             lastSeen  \n",
       "0  2016-03-24 00:00:00             0       70435  2016-04-07 03:16:57  \n",
       "1  2016-03-24 00:00:00             0       66954  2016-04-07 01:46:50  \n",
       "2  2016-03-14 00:00:00             0       90480  2016-04-05 12:47:46  \n",
       "3  2016-03-17 00:00:00             0       91074  2016-03-17 17:40:17  \n",
       "4  2016-03-31 00:00:00             0       60437  2016-04-06 10:17:21  "
      ]
     },
     "execution_count": 3,
     "metadata": {},
     "output_type": "execute_result"
    }
   ],
   "source": [
    "data[:5]"
   ]
  },
  {
   "cell_type": "code",
   "execution_count": 4,
   "metadata": {
    "collapsed": false,
    "scrolled": true
   },
   "outputs": [
    {
     "data": {
      "text/html": [
       "<div>\n",
       "<table border=\"1\" class=\"dataframe\">\n",
       "  <thead>\n",
       "    <tr style=\"text-align: right;\">\n",
       "      <th></th>\n",
       "      <th>price</th>\n",
       "      <th>yearOfRegistration</th>\n",
       "      <th>powerPS</th>\n",
       "      <th>kilometer</th>\n",
       "      <th>monthOfRegistration</th>\n",
       "      <th>nrOfPictures</th>\n",
       "      <th>postalCode</th>\n",
       "    </tr>\n",
       "  </thead>\n",
       "  <tbody>\n",
       "    <tr>\n",
       "      <th>price</th>\n",
       "      <td>1.000000</td>\n",
       "      <td>-0.000182</td>\n",
       "      <td>0.006850</td>\n",
       "      <td>-0.000635</td>\n",
       "      <td>-0.002826</td>\n",
       "      <td>NaN</td>\n",
       "      <td>-0.003164</td>\n",
       "    </tr>\n",
       "    <tr>\n",
       "      <th>yearOfRegistration</th>\n",
       "      <td>-0.000182</td>\n",
       "      <td>1.000000</td>\n",
       "      <td>0.000351</td>\n",
       "      <td>-0.055319</td>\n",
       "      <td>-0.011607</td>\n",
       "      <td>NaN</td>\n",
       "      <td>-0.001652</td>\n",
       "    </tr>\n",
       "    <tr>\n",
       "      <th>powerPS</th>\n",
       "      <td>0.006850</td>\n",
       "      <td>0.000351</td>\n",
       "      <td>1.000000</td>\n",
       "      <td>-0.010738</td>\n",
       "      <td>0.044358</td>\n",
       "      <td>NaN</td>\n",
       "      <td>0.027113</td>\n",
       "    </tr>\n",
       "    <tr>\n",
       "      <th>kilometer</th>\n",
       "      <td>-0.000635</td>\n",
       "      <td>-0.055319</td>\n",
       "      <td>-0.010738</td>\n",
       "      <td>1.000000</td>\n",
       "      <td>0.001838</td>\n",
       "      <td>NaN</td>\n",
       "      <td>-0.026694</td>\n",
       "    </tr>\n",
       "    <tr>\n",
       "      <th>monthOfRegistration</th>\n",
       "      <td>-0.002826</td>\n",
       "      <td>-0.011607</td>\n",
       "      <td>0.044358</td>\n",
       "      <td>0.001838</td>\n",
       "      <td>1.000000</td>\n",
       "      <td>NaN</td>\n",
       "      <td>0.014963</td>\n",
       "    </tr>\n",
       "    <tr>\n",
       "      <th>nrOfPictures</th>\n",
       "      <td>NaN</td>\n",
       "      <td>NaN</td>\n",
       "      <td>NaN</td>\n",
       "      <td>NaN</td>\n",
       "      <td>NaN</td>\n",
       "      <td>NaN</td>\n",
       "      <td>NaN</td>\n",
       "    </tr>\n",
       "    <tr>\n",
       "      <th>postalCode</th>\n",
       "      <td>-0.003164</td>\n",
       "      <td>-0.001652</td>\n",
       "      <td>0.027113</td>\n",
       "      <td>-0.026694</td>\n",
       "      <td>0.014963</td>\n",
       "      <td>NaN</td>\n",
       "      <td>1.000000</td>\n",
       "    </tr>\n",
       "  </tbody>\n",
       "</table>\n",
       "</div>"
      ],
      "text/plain": [
       "                        price  yearOfRegistration   powerPS  kilometer  \\\n",
       "price                1.000000           -0.000182  0.006850  -0.000635   \n",
       "yearOfRegistration  -0.000182            1.000000  0.000351  -0.055319   \n",
       "powerPS              0.006850            0.000351  1.000000  -0.010738   \n",
       "kilometer           -0.000635           -0.055319 -0.010738   1.000000   \n",
       "monthOfRegistration -0.002826           -0.011607  0.044358   0.001838   \n",
       "nrOfPictures              NaN                 NaN       NaN        NaN   \n",
       "postalCode          -0.003164           -0.001652  0.027113  -0.026694   \n",
       "\n",
       "                     monthOfRegistration  nrOfPictures  postalCode  \n",
       "price                          -0.002826           NaN   -0.003164  \n",
       "yearOfRegistration             -0.011607           NaN   -0.001652  \n",
       "powerPS                         0.044358           NaN    0.027113  \n",
       "kilometer                       0.001838           NaN   -0.026694  \n",
       "monthOfRegistration             1.000000           NaN    0.014963  \n",
       "nrOfPictures                         NaN           NaN         NaN  \n",
       "postalCode                      0.014963           NaN    1.000000  "
      ]
     },
     "execution_count": 4,
     "metadata": {},
     "output_type": "execute_result"
    }
   ],
   "source": [
    "data.corr()"
   ]
  },
  {
   "cell_type": "code",
   "execution_count": 5,
   "metadata": {
    "collapsed": true
   },
   "outputs": [],
   "source": [
    "from sklearn.linear_model import LinearRegression"
   ]
  },
  {
   "cell_type": "code",
   "execution_count": 6,
   "metadata": {
    "collapsed": false
   },
   "outputs": [
    {
     "data": {
      "text/html": [
       "<div>\n",
       "<table border=\"1\" class=\"dataframe\">\n",
       "  <thead>\n",
       "    <tr style=\"text-align: right;\">\n",
       "      <th></th>\n",
       "      <th>Attribute</th>\n",
       "      <th>Co-efficient weightage</th>\n",
       "    </tr>\n",
       "  </thead>\n",
       "  <tbody>\n",
       "    <tr>\n",
       "      <th>0</th>\n",
       "      <td>yearOfRegistration</td>\n",
       "      <td>-8.361697</td>\n",
       "    </tr>\n",
       "    <tr>\n",
       "      <th>1</th>\n",
       "      <td>powerPS</td>\n",
       "      <td>127.808197</td>\n",
       "    </tr>\n",
       "    <tr>\n",
       "      <th>2</th>\n",
       "      <td>kilometer</td>\n",
       "      <td>-0.051331</td>\n",
       "    </tr>\n",
       "  </tbody>\n",
       "</table>\n",
       "</div>"
      ],
      "text/plain": [
       "           Attribute   Co-efficient weightage\n",
       "0  yearOfRegistration               -8.361697\n",
       "1             powerPS              127.808197\n",
       "2           kilometer               -0.051331"
      ]
     },
     "execution_count": 6,
     "metadata": {},
     "output_type": "execute_result"
    }
   ],
   "source": [
    "X = data.drop('price' , axis= 1)\n",
    "cols = ['yearOfRegistration','powerPS','kilometer']\n",
    "lm= LinearRegression()\n",
    "lm.fit(X[cols], data.price)\n",
    "ans= pd.DataFrame(zip(X[cols], lm.coef_), columns= ['Attribute ', 'Co-efficient weightage'])\n",
    "ans"
   ]
  },
  {
   "cell_type": "code",
   "execution_count": 7,
   "metadata": {
    "collapsed": false
   },
   "outputs": [
    {
     "data": {
      "text/plain": [
       "<matplotlib.collections.PathCollection at 0x7fc07ad7ed90>"
      ]
     },
     "execution_count": 7,
     "metadata": {},
     "output_type": "execute_result"
    },
    {
     "data": {
      "image/png": "[encoded data removed]",
      "text/plain": [
       "<matplotlib.figure.Figure at 0x7fc07ad25c50>"
      ]
     },
     "metadata": {},
     "output_type": "display_data"
    }
   ],
   "source": [
    "data2 = data[:500]\n",
    "plt.scatter(data2.yearOfRegistration,data2.price)\n"
   ]
  },
  {
   "cell_type": "code",
   "execution_count": 8,
   "metadata": {
    "collapsed": false
   },
   "outputs": [
    {
     "data": {
      "text/plain": [
       "<matplotlib.collections.PathCollection at 0x7fc07e08bcd0>"
      ]
     },
     "execution_count": 8,
     "metadata": {},
     "output_type": "execute_result"
    },
    {
     "data": {
      "image/png": "[encoded data removed]",
      "text/plain": [
       "<matplotlib.figure.Figure at 0x7fc07f7e5b50>"
      ]
     },
     "metadata": {},
     "output_type": "display_data"
    }
   ],
   "source": [
    "plt.scatter(data2.powerPS,data2.price)"
   ]
  },
  {
   "cell_type": "code",
   "execution_count": 9,
   "metadata": {
    "collapsed": false
   },
   "outputs": [
    {
     "data": {
      "text/plain": [
       "<matplotlib.collections.PathCollection at 0x7fc07dfd8390>"
      ]
     },
     "execution_count": 9,
     "metadata": {},
     "output_type": "execute_result"
    },
    {
     "data": {
      "image/png": "[encoded data removed]",
      "text/plain": [
       "<matplotlib.figure.Figure at 0x7fc07e0c1610>"
      ]
     },
     "metadata": {},
     "output_type": "display_data"
    }
   ],
   "source": [
    "plt.scatter(data2.kilometer,data2.price)"
   ]
  },
  {
   "cell_type": "code",
   "execution_count": 10,
   "metadata": {
    "collapsed": true
   },
   "outputs": [],
   "source": [
    "from sklearn import metrics\n",
    "from sklearn.cross_validation import KFold   #For K-fold cross validation\n",
    "\n",
    "def linearRegModel(model, data, predictors, outcome):\n",
    "    #Fit the model:\n",
    "    model.fit(data[predictors],data[outcome])\n",
    "  \n",
    "     \n",
    "    predictions = model.predict(data[predictors])\n",
    "  \n",
    "    #Print accuracy\n",
    "    mse = metrics.mean_squared_error(predictions, data[outcome]) \n",
    "    #accuracy = metrics.accuracy_score(predictions,data[outcome])\n",
    "    print \"mse  \" \n",
    "    print (mse)\n",
    "    \n",
    "    \n",
    "    kf = KFold(data.shape[0], n_folds=5)\n",
    "    mapeError = []\n",
    "    error = []\n",
    "    errorPercent = []\n",
    "    for train, test in kf:\n",
    "        \n",
    "        \n",
    "        # Filter training data\n",
    "        train_predictors = (data[predictors].iloc[train,:])\n",
    "    \n",
    "        # The target we're using to train the algorithm.\n",
    "        train_target = data[outcome].iloc[train]\n",
    "    \n",
    "        # Training the algorithm using the predictors and target.\n",
    "        model.fit(train_predictors,train_target)\n",
    "  \n",
    "        #Make predictions on training set:\n",
    "        predictions = model.predict(data[predictors])\n",
    "        \n",
    "        #errorPercent.append(abs(predictions[test] - data[outcome][test])/(data[outcome][test]))\n",
    "        \n",
    "        error.append(metrics.mean_squared_error(data[outcome][test],predictions[test]) )\n",
    "        mapeError.append(metrics.mean_absolute_error(predictions, data[outcome]))\n",
    "\n",
    "    print(\"Cross-Validation RMSE Score : \")\n",
    "    print(np.mean(error))\n",
    "    \n",
    "    print(\"Cross-Validation MAPE Score : \")\n",
    "    print(np.mean(mapeError))\n",
    "   \n",
    "    \n",
    "    model.fit(data[predictors],data[outcome]) \n",
    "   "
   ]
  },
  {
   "cell_type": "code",
   "execution_count": 11,
   "metadata": {
    "collapsed": false
   },
   "outputs": [
    {
     "name": "stdout",
     "output_type": "stream",
     "text": [
      "mse  \n",
      "1.28727686388e+13\n",
      "Cross-Validation RMSE Score : \n",
      "1.28741347864e+13\n",
      "Cross-Validation MAPE Score : \n",
      "24292.0159822\n",
      "coefficients are\n",
      "[ -8.36169688e+00   1.27808197e+02  -5.13308721e-02]\n"
     ]
    }
   ],
   "source": [
    "from sklearn.linear_model import Ridge\n",
    "outcome_var = 'price'\n",
    "model = LinearRegression()\n",
    "predictor_var = ['yearOfRegistration','powerPS','kilometer']\n",
    "#predictor_var = ['NOX']\n",
    "linearRegModel(model, data, predictor_var,outcome_var)\n",
    "m = model.coef_\n",
    "print(\"coefficients are\")\n",
    "print(m)"
   ]
  },
  {
   "cell_type": "code",
   "execution_count": 12,
   "metadata": {
    "collapsed": false,
    "scrolled": false
   },
   "outputs": [
    {
     "name": "stdout",
     "output_type": "stream",
     "text": [
      "privat        371525\n",
      "gewerblich         3\n",
      "Name: seller, dtype: int64\n",
      "Angebot    371516\n",
      "Gesuch         12\n",
      "Name: offerType, dtype: int64\n",
      "limousine     95894\n",
      "kleinwagen    80023\n",
      "kombi         67564\n",
      "bus           30201\n",
      "cabrio        22898\n",
      "coupe         19015\n",
      "suv           14707\n",
      "andere         3357\n",
      "Name: vehicleType, dtype: int64\n",
      "test       192585\n",
      "control    178943\n",
      "Name: abtest, dtype: int64\n",
      "manuell      274214\n",
      "automatik     77105\n",
      "Name: gearbox, dtype: int64\n",
      "golf                  30070\n",
      "andere                26400\n",
      "3er                   20567\n",
      "polo                  13092\n",
      "corsa                 12573\n",
      "astra                 10830\n",
      "passat                10306\n",
      "a4                    10257\n",
      "c_klasse               8775\n",
      "5er                    8546\n",
      "e_klasse               7561\n",
      "a3                     6604\n",
      "a6                     6023\n",
      "focus                  5950\n",
      "fiesta                 5775\n",
      "transporter            5528\n",
      "twingo                 4953\n",
      "2_reihe                4816\n",
      "fortwo                 4338\n",
      "a_klasse               4316\n",
      "vectra                 4255\n",
      "1er                    3837\n",
      "mondeo                 3626\n",
      "clio                   3553\n",
      "touran                 3540\n",
      "3_reihe                3503\n",
      "punto                  3349\n",
      "zafira                 3049\n",
      "megane                 2927\n",
      "ibiza                  2702\n",
      "                      ...  \n",
      "mii                      81\n",
      "crossfire                66\n",
      "range_rover_evoque       65\n",
      "gl                       64\n",
      "nubira                   62\n",
      "move                     60\n",
      "lybra                    54\n",
      "145                      50\n",
      "v60                      48\n",
      "croma                    45\n",
      "amarok                   42\n",
      "delta                    40\n",
      "terios                   35\n",
      "lodgy                    35\n",
      "9000                     31\n",
      "charade                  27\n",
      "b_max                    26\n",
      "musa                     25\n",
      "materia                  18\n",
      "200                      18\n",
      "kappa                    15\n",
      "samara                   13\n",
      "elefantino               11\n",
      "i3                       10\n",
      "kalina                    9\n",
      "serie_2                   8\n",
      "rangerover                6\n",
      "serie_3                   4\n",
      "serie_1                   2\n",
      "discovery_sport           1\n",
      "Name: model, dtype: int64\n",
      "benzin     223857\n",
      "diesel     107746\n",
      "lpg          5378\n",
      "cng           571\n",
      "hybrid        278\n",
      "andere        208\n",
      "elektro       104\n",
      "Name: fuelType, dtype: int64\n",
      "nein    263182\n",
      "ja       36286\n",
      "Name: notRepairedDamage, dtype: int64\n",
      "volkswagen        79640\n",
      "bmw               40274\n",
      "opel              40136\n",
      "mercedes_benz     35309\n",
      "audi              32873\n",
      "ford              25573\n",
      "renault           17969\n",
      "peugeot           11027\n",
      "fiat               9676\n",
      "seat               7022\n",
      "mazda              5695\n",
      "skoda              5641\n",
      "smart              5249\n",
      "citroen            5182\n",
      "nissan             5037\n",
      "toyota             4694\n",
      "sonstige_autos     3982\n",
      "hyundai            3646\n",
      "mini               3394\n",
      "volvo              3327\n",
      "mitsubishi         3061\n",
      "honda              2836\n",
      "kia                2555\n",
      "alfa_romeo         2345\n",
      "suzuki             2328\n",
      "porsche            2215\n",
      "chevrolet          1845\n",
      "chrysler           1452\n",
      "dacia               900\n",
      "jeep                807\n",
      "daihatsu            806\n",
      "subaru              779\n",
      "land_rover          770\n",
      "jaguar              621\n",
      "trabant             591\n",
      "daewoo              542\n",
      "saab                530\n",
      "rover               490\n",
      "lancia              484\n",
      "lada                225\n",
      "Name: brand, dtype: int64\n"
     ]
    }
   ],
   "source": [
    "print data['seller'].value_counts()   #drop seller\n",
    "print data['offerType'].value_counts()   #drop offertype\n",
    "print data['vehicleType'].value_counts()   #keep\n",
    "print data['abtest'].value_counts()   #keep\n",
    "print data['gearbox'].value_counts()   #keep\n",
    "print data['model'].value_counts()   #keep\n",
    "print data['fuelType'].value_counts()   #keep \n",
    "print data['notRepairedDamage'].value_counts()   #keep fill NaNs with YES\n",
    "print data['brand'].value_counts()   #keep     "
   ]
  },
  {
   "cell_type": "code",
   "execution_count": 13,
   "metadata": {
    "collapsed": false
   },
   "outputs": [],
   "source": [
    "data = data.drop('seller',axis = 1)\n",
    "data = data.drop('offerType',axis = 1)\n",
    "data = data.drop('nrOfPictures',axis = 1)\n",
    "data = data.drop('postalCode',axis = 1)\n",
    "data = data.drop('lastSeen',axis = 1)\n",
    "data = data.drop('dateCreated',axis = 1)\n",
    "data  = data.drop('monthOfRegistration',axis  = 1)"
   ]
  },
  {
   "cell_type": "code",
   "execution_count": 27,
   "metadata": {
    "collapsed": false,
    "scrolled": true
   },
   "outputs": [
    {
     "data": {
      "text/html": [
       "<div>\n",
       "<table border=\"1\" class=\"dataframe\">\n",
       "  <thead>\n",
       "    <tr style=\"text-align: right;\">\n",
       "      <th></th>\n",
       "      <th>dateCrawled</th>\n",
       "      <th>name</th>\n",
       "      <th>price</th>\n",
       "      <th>abtest</th>\n",
       "      <th>vehicleType</th>\n",
       "      <th>yearOfRegistration</th>\n",
       "      <th>gearbox</th>\n",
       "      <th>powerPS</th>\n",
       "      <th>model</th>\n",
       "      <th>kilometer</th>\n",
       "      <th>fuelType</th>\n",
       "      <th>brand</th>\n",
       "      <th>notRepairedDamage</th>\n",
       "    </tr>\n",
       "  </thead>\n",
       "  <tbody>\n",
       "    <tr>\n",
       "      <th>0</th>\n",
       "      <td>2016-03-24 11:52:17</td>\n",
       "      <td>Golf_3_1.6</td>\n",
       "      <td>480</td>\n",
       "      <td>test</td>\n",
       "      <td>NaN</td>\n",
       "      <td>1993</td>\n",
       "      <td>manuell</td>\n",
       "      <td>0</td>\n",
       "      <td>golf</td>\n",
       "      <td>150000</td>\n",
       "      <td>benzin</td>\n",
       "      <td>volkswagen</td>\n",
       "      <td>NaN</td>\n",
       "    </tr>\n",
       "    <tr>\n",
       "      <th>1</th>\n",
       "      <td>2016-03-24 10:58:45</td>\n",
       "      <td>A5_Sportback_2.7_Tdi</td>\n",
       "      <td>18300</td>\n",
       "      <td>test</td>\n",
       "      <td>coupe</td>\n",
       "      <td>2011</td>\n",
       "      <td>manuell</td>\n",
       "      <td>190</td>\n",
       "      <td>NaN</td>\n",
       "      <td>125000</td>\n",
       "      <td>diesel</td>\n",
       "      <td>audi</td>\n",
       "      <td>ja</td>\n",
       "    </tr>\n",
       "    <tr>\n",
       "      <th>2</th>\n",
       "      <td>2016-03-14 12:52:21</td>\n",
       "      <td>Jeep_Grand_Cherokee_\"Overland\"</td>\n",
       "      <td>9800</td>\n",
       "      <td>test</td>\n",
       "      <td>suv</td>\n",
       "      <td>2004</td>\n",
       "      <td>automatik</td>\n",
       "      <td>163</td>\n",
       "      <td>grand</td>\n",
       "      <td>125000</td>\n",
       "      <td>diesel</td>\n",
       "      <td>jeep</td>\n",
       "      <td>NaN</td>\n",
       "    </tr>\n",
       "    <tr>\n",
       "      <th>3</th>\n",
       "      <td>2016-03-17 16:54:04</td>\n",
       "      <td>GOLF_4_1_4__3T�RER</td>\n",
       "      <td>1500</td>\n",
       "      <td>test</td>\n",
       "      <td>kleinwagen</td>\n",
       "      <td>2001</td>\n",
       "      <td>manuell</td>\n",
       "      <td>75</td>\n",
       "      <td>golf</td>\n",
       "      <td>150000</td>\n",
       "      <td>benzin</td>\n",
       "      <td>volkswagen</td>\n",
       "      <td>nein</td>\n",
       "    </tr>\n",
       "    <tr>\n",
       "      <th>4</th>\n",
       "      <td>2016-03-31 17:25:20</td>\n",
       "      <td>Skoda_Fabia_1.4_TDI_PD_Classic</td>\n",
       "      <td>3600</td>\n",
       "      <td>test</td>\n",
       "      <td>kleinwagen</td>\n",
       "      <td>2008</td>\n",
       "      <td>manuell</td>\n",
       "      <td>69</td>\n",
       "      <td>fabia</td>\n",
       "      <td>90000</td>\n",
       "      <td>diesel</td>\n",
       "      <td>skoda</td>\n",
       "      <td>nein</td>\n",
       "    </tr>\n",
       "  </tbody>\n",
       "</table>\n",
       "</div>"
      ],
      "text/plain": [
       "           dateCrawled                            name  price abtest  \\\n",
       "0  2016-03-24 11:52:17                      Golf_3_1.6    480   test   \n",
       "1  2016-03-24 10:58:45            A5_Sportback_2.7_Tdi  18300   test   \n",
       "2  2016-03-14 12:52:21  Jeep_Grand_Cherokee_\"Overland\"   9800   test   \n",
       "3  2016-03-17 16:54:04              GOLF_4_1_4__3T�RER   1500   test   \n",
       "4  2016-03-31 17:25:20  Skoda_Fabia_1.4_TDI_PD_Classic   3600   test   \n",
       "\n",
       "  vehicleType  yearOfRegistration    gearbox  powerPS  model  kilometer  \\\n",
       "0         NaN                1993    manuell        0   golf     150000   \n",
       "1       coupe                2011    manuell      190    NaN     125000   \n",
       "2         suv                2004  automatik      163  grand     125000   \n",
       "3  kleinwagen                2001    manuell       75   golf     150000   \n",
       "4  kleinwagen                2008    manuell       69  fabia      90000   \n",
       "\n",
       "  fuelType       brand notRepairedDamage  \n",
       "0   benzin  volkswagen               NaN  \n",
       "1   diesel        audi                ja  \n",
       "2   diesel        jeep               NaN  \n",
       "3   benzin  volkswagen              nein  \n",
       "4   diesel       skoda              nein  "
      ]
     },
     "execution_count": 27,
     "metadata": {},
     "output_type": "execute_result"
    }
   ],
   "source": [
    "data[:5]"
   ]
  },
  {
   "cell_type": "code",
   "execution_count": 15,
   "metadata": {
    "collapsed": false
   },
   "outputs": [
    {
     "name": "stdout",
     "output_type": "stream",
     "text": [
      "NOW trying with RandomForestRegression: \n",
      "mse  \n",
      "9.04815347366e+12\n",
      "Cross-Validation RMSE Score : \n",
      "1.4296694277e+13\n",
      "Cross-Validation MAPE Score : \n",
      "17389.2344205\n"
     ]
    }
   ],
   "source": [
    "print 'NOW trying with RandomForestRegression: '\n",
    "from sklearn.ensemble import RandomForestRegressor\n",
    "outcome_var = 'price'\n",
    "predictor_var = ['yearOfRegistration','powerPS','kilometer']\n",
    "regressor = RandomForestRegressor(n_estimators= 6 , min_samples_split= 20)\n",
    "linearRegModel(regressor, data, predictor_var,outcome_var)"
   ]
  },
  {
   "cell_type": "code",
   "execution_count": 29,
   "metadata": {
    "collapsed": false,
    "scrolled": true
   },
   "outputs": [
    {
     "name": "stdout",
     "output_type": "stream",
     "text": [
      "input predictor_var yearOfRegistration powerPS kilometer\n",
      "year: 2014\n",
      "power: 120\n",
      "kms travelled: 12000\n",
      "initial cost:1200\n",
      "linear reg ans  [ 23617.31763974]\n",
      "randome forest regressor  reg ans  [ 17418.40371031]\n"
     ]
    },
    {
     "name": "stderr",
     "output_type": "stream",
     "text": [
      "/home/fsftn/anaconda2/lib/python2.7/site-packages/sklearn/utils/validation.py:386: DeprecationWarning: Passing 1d arrays as data is deprecated in 0.17 and willraise ValueError in 0.19. Reshape your data either using X.reshape(-1, 1) if your data has a single feature or X.reshape(1, -1) if it contains a single sample.\n",
      "  DeprecationWarning)\n",
      "/home/fsftn/anaconda2/lib/python2.7/site-packages/sklearn/utils/validation.py:386: DeprecationWarning: Passing 1d arrays as data is deprecated in 0.17 and willraise ValueError in 0.19. Reshape your data either using X.reshape(-1, 1) if your data has a single feature or X.reshape(1, -1) if it contains a single sample.\n",
      "  DeprecationWarning)\n"
     ]
    }
   ],
   "source": [
    "print 'input predictor_var yearOfRegistration','powerPS','kilometer' \n",
    "yearOfRegistration = float(raw_input(\"year: \"))\n",
    "powerPS = float(raw_input(\"power: \"))\n",
    "kilometer = float(raw_input(\"kms travelled: \"))\n",
    "init=float(raw_input(\"initial cost:\"))\n",
    "ans =  model.predict([yearOfRegistration,powerPS,kilometer])\n",
    "print 'linear reg ans ',ans\n",
    "ans =  regressor.predict([yearOfRegistration,powerPS,kilometer])\n",
    "print 'randome forest regressor  reg ans ',ans"
   ]
  }
 ],
 "metadata": {
  "anaconda-cloud": {},
  "kernelspec": {
   "display_name": "Python [conda root]",
   "language": "python",
   "name": "conda-root-py"
  },
  "language_info": {
   "codemirror_mode": {
    "name": "ipython",
    "version": 2
   },
   "file_extension": ".py",
   "mimetype": "text/x-python",
   "name": "python",
   "nbconvert_exporter": "python",
   "pygments_lexer": "ipython2",
   "version": "2.7.12"
  }
 },
 "nbformat": 4,
 "nbformat_minor": 1
}
