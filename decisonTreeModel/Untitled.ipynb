{
 "cells": [
  {
   "cell_type": "code",
   "execution_count": 5,
   "metadata": {
    "collapsed": true
   },
   "outputs": [],
   "source": [
    "class myTree:\n",
    "    def __init__(self, feature = None ,value =None,  left = None, right = None ):\n",
    "        self.feature = feature\n",
    "        self.value  = value\n",
    "        self.left = left\n",
    "        self.right = right"
   ]
  },
  {
   "cell_type": "code",
   "execution_count": 6,
   "metadata": {
    "collapsed": true
   },
   "outputs": [],
   "source": []
  },
  {
   "cell_type": "code",
   "execution_count": 7,
   "metadata": {
    "collapsed": true
   },
   "outputs": [],
   "source": [
    "class myTree:\n",
    "    def __init__(self, feature = None ,value =None,  left = None, right = None ):\n",
    "        self.feature = feature\n",
    "        self.value  = value\n",
    "        self.left = left\n",
    "        self.right = right\n",
    "\n",
    "root = myTree()\n",
    "root.value = 10\n",
    "root.feature = 'feat1'\n",
    "root.left = myTree()\n",
    "root.right = myTree()\n",
    "\n",
    "root.left.value = 20\n",
    "root.left.feature = 'feat2'\n",
    "root.right.value = 30\n",
    "root.right.fature = 'feat3'\n",
    "root.left.left = myTree()\n",
    "root.left.left.value = 40\n",
    "root.left.left.feature = 'feat4'\n",
    "root.left.right = myTree()\n",
    "root.left.right.value = 50\n",
    "root.left.right.feature = 'feat5'\n"
   ]
  },
  {
   "cell_type": "code",
   "execution_count": 8,
   "metadata": {
    "collapsed": true
   },
   "outputs": [],
   "source": [
    "root.left.value = 20\n",
    "root.left.feature = 'feat2'\n",
    "root.right.value = 30\n",
    "root.right.fature = 'feat3'\n",
    "root.left.left = myTree()\n",
    "root.left.left.value = 40\n",
    "root.left.left.feature = 'feat4'\n",
    "root.left.right = myTree()\n",
    "root.left.right.value = 50\n",
    "root.left.right.feature = 'feat5'\n"
   ]
  },
  {
   "cell_type": "code",
   "execution_count": 11,
   "metadata": {
    "collapsed": false
   },
   "outputs": [
    {
     "data": {
      "text/plain": [
       "20"
      ]
     },
     "execution_count": 11,
     "metadata": {},
     "output_type": "execute_result"
    }
   ],
   "source": [
    "root.left.value"
   ]
  }
 ],
 "metadata": {
  "anaconda-cloud": {},
  "kernelspec": {
   "display_name": "Python [conda root]",
   "language": "python",
   "name": "conda-root-py"
  },
  "language_info": {
   "codemirror_mode": {
    "name": "ipython",
    "version": 2
   },
   "file_extension": ".py",
   "mimetype": "text/x-python",
   "name": "python",
   "nbconvert_exporter": "python",
   "pygments_lexer": "ipython2",
   "version": "2.7.12"
  }
 },
 "nbformat": 4,
 "nbformat_minor": 1
}
