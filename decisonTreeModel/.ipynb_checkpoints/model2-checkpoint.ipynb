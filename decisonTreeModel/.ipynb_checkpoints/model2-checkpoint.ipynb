{
 "cells": [
  {
   "cell_type": "code",
   "execution_count": 1,
   "metadata": {
    "collapsed": false
   },
   "outputs": [],
   "source": [
    "import pandas as pd\n",
    "import numpy as np\n",
    "%matplotlib inline"
   ]
  },
  {
   "cell_type": "code",
   "execution_count": 2,
   "metadata": {
    "collapsed": true
   },
   "outputs": [],
   "source": [
    "data = pd.read_csv('train.csv')\n",
    "data= data.drop(['Outlet_Identifier'],1)\n",
    "data= data.drop(['Item_Identifier'],1)\n",
    "data['Outlet_Size'].fillna('Medium', inplace = True)\n",
    "data = data[:150]\n",
    "min_elements_in_leaf = 3\n",
    "data2 = pd.DataFrame()\n",
    "data2['Outlet_Size'] = data['Outlet_Size']\n",
    "data2['Outlet_Type'] = data['Outlet_Type']\n",
    "data2['Item_Outlet_Sales'] = data['Item_Outlet_Sales']\n",
    "data = data2\n",
    "\n",
    "for col in [ 'Outlet_Size','Outlet_Type']:\n",
    "    data[col] = data[col].astype('category')\n",
    "\n",
    "cat_col = []\n",
    "\n",
    "for col in data:\n",
    "    if data[col].dtype.name == 'category':\n",
    "        cat_col.append(col)\n",
    "\n",
    "result = 'Item_Outlet_Sales'\n",
    "attrib_value_pair_used = {}\n",
    "\n",
    "some_avail = {}\n",
    "for col in data:\n",
    "    some_avail[col] = 1\n"
   ]
  },
  {
   "cell_type": "code",
   "execution_count": 3,
   "metadata": {
    "collapsed": false
   },
   "outputs": [],
   "source": [
    "def categorical_split_err(dataset, feature):\n",
    "    minvar = 99999999 \n",
    "\n",
    "    print('now in categorical_split_err function with feature', feature)\n",
    "    print 'no of elements is ',len(dataset.index)\n",
    "    #attrib_val = 2 -------never used \n",
    "    used_val = 2\n",
    "    #print('in categorical someavail is ',feature, some_avail[feature])\n",
    "\n",
    "    \n",
    "    for val in dataset[feature].unique():\n",
    "            #print('in ourside of val ',val)\n",
    "            if(  (feature, val) not in attrib_value_pair_used):\n",
    "                #print('checking for val',val)\n",
    "                #print('trying val', val)\n",
    "                ds = dataset.loc[dataset[feature] == val]\n",
    "                var = np.var(ds[result])\n",
    "                #print('variance is ', var)\n",
    "                if(var < minvar):\n",
    "                    used_val  = val\n",
    "                    minvar = var\n",
    "    #if(feature == cat_col[0]):\n",
    "    #print('returning error of', minvar, feature, 'value to be', used_val)\n",
    "    \n",
    "    \n",
    "    return ({'error':minvar, 'attrib_value': used_val})"
   ]
  },
  {
   "cell_type": "code",
   "execution_count": 4,
   "metadata": {
    "collapsed": true
   },
   "outputs": [],
   "source": [
    "class myTree:\n",
    "    def __init__(self, feature = None ,value =None,  left = None, right = None ):\n",
    "        self.feature = feature\n",
    "        self.value  = value\n",
    "        self.left = left\n",
    "        self.right = right"
   ]
  },
  {
   "cell_type": "code",
   "execution_count": 5,
   "metadata": {
    "collapsed": false
   },
   "outputs": [],
   "source": [
    "attrib_value_pair_used = {}\n",
    "countCheck = 0\n",
    "some_avail = {}\n",
    "\n",
    "for col in data:\n",
    "    some_avail[col] = 1\n",
    "\n",
    "\n",
    "def buildTree(node,dataset ):\n",
    "    #global x\n",
    "    global countCheck\n",
    "    global attrib_value_pair_used\n",
    "    global some_avail\n",
    "    #print('in build')\n",
    "    \n",
    "    mini = 9999999999 \n",
    "    \n",
    "    node.feature  = cat_col[0]\n",
    "    node.value  = 7\n",
    "    attrib_value = 5\n",
    "    \n",
    "    col_used = cat_col[0]\n",
    "    changed = 0 \n",
    "    \n",
    "    for col in cat_col:\n",
    "\n",
    "        \n",
    "        if(some_avail[col] == 0):\n",
    "            #print('someavail o for ',col)\n",
    "            continue\n",
    "        \n",
    "        \n",
    "        #print('avail is', some_avail[col], 'for ',col)\n",
    "        \n",
    "        recievedError = categorical_split_err(dataset, col) \n",
    "        errata = recievedError['error']\n",
    "        attrival = recievedError['attrib_value']\n",
    "        if( errata < mini):\n",
    "                print 'it si less'\n",
    "                mini = errata\n",
    "                col_used = col\n",
    "                attrib_value = attrival\n",
    "                changed  = 1\n",
    "        \n",
    "        print('err mini is ',mini)\n",
    "        \n",
    "        node.feature =  col_used\n",
    "        node.value =  attrib_value\n",
    "        \n",
    "    \n",
    "    print('to be used is ',node.feature,'of value ', node.value)\n",
    "    \n",
    "    attrib_value_pair_used[(node.feature,node.value)] = 1\n",
    "    \n",
    "    \n",
    "    somePresent = 0\n",
    "    for valu in dataset[node.feature].unique():\n",
    "        if((node.feature, valu) not in attrib_value_pair_used):\n",
    "            somePresent =  1 \n",
    "            #print('made avail bcoz in' ,node.feature, valu,' is present' )\n",
    "            break\n",
    "    if somePresent == 0:\n",
    "        some_avail[node.feature] = 0 \n",
    "\n",
    "    if(changed == 0):\n",
    "        #pass \n",
    "        print('unchanged')\n",
    "        return(0)\n",
    "    #print('col is ',col)\n",
    "    dataset_left = dataset.loc[dataset[node.feature] == attrib_value]\n",
    "    dataset_right = dataset.loc[dataset[node.feature] != attrib_value]\n",
    "    print('size dsataet left right ',len(dataset_left.index), len(dataset_right.index))\n",
    "    print(attrib_value_pair_used)\n",
    "    \n",
    "    print('------------------------------')\n",
    "    node.left = myTree()\n",
    "    node.right = myTree()\n",
    "    \n",
    "           \n",
    "    if (len(dataset_left.index) == 100 and len(dataset_right.index) == 100):\n",
    "        print('cond true')\n",
    "        return(0) \n",
    "    \n",
    "    if(len(dataset_left.index)) > min_elements_in_leaf:\n",
    "        print 'sending for left node'\n",
    "        buildTree(node.left, dataset_left)\n",
    "    else:\n",
    "        print 'ans left is ',np.mean(dataset_left['Item_Outlet_Sales'])\n",
    "        \n",
    "    if(len(dataset_right.index) > min_elements_in_leaf):\n",
    "        print 'sending for right node'\n",
    "        buildTree(node.right,dataset_right)\n",
    "    else:\n",
    "        print 'ans right is ',np.mean(dataset_left['Item_Outlet_Sales'])\n",
    "    \n",
    "    \n",
    "    "
   ]
  },
  {
   "cell_type": "code",
   "execution_count": 6,
   "metadata": {
    "collapsed": false,
    "scrolled": false
   },
   "outputs": [
    {
     "name": "stdout",
     "output_type": "stream",
     "text": [
      "('now in categorical_split_err function with feature', 'Outlet_Size')\n",
      "no of elements is  150\n",
      "it si less\n",
      "('err mini is ', 872486.9644320676)\n",
      "('now in categorical_split_err function with feature', 'Outlet_Type')\n",
      "no of elements is  150\n",
      "it si less\n",
      "('err mini is ', 63184.702656260604)\n",
      "('to be used is ', 'Outlet_Type', 'of value ', 'Grocery Store')\n",
      "('size dsataet left right ', 19, 131)\n",
      "{('Outlet_Type', 'Grocery Store'): 1}\n",
      "------------------------------\n",
      "sending for left node\n",
      "('now in categorical_split_err function with feature', 'Outlet_Size')\n",
      "no of elements is  19\n",
      "it si less\n",
      "('err mini is ', 32520.921041529884)\n",
      "('now in categorical_split_err function with feature', 'Outlet_Type')\n",
      "no of elements is  19\n",
      "('err mini is ', 32520.921041529884)\n",
      "('to be used is ', 'Outlet_Size', 'of value ', 'Medium')\n",
      "('size dsataet left right ', 9, 10)\n",
      "{('Outlet_Type', 'Grocery Store'): 1, ('Outlet_Size', 'Medium'): 1}\n",
      "------------------------------\n",
      "sending for left node\n",
      "('now in categorical_split_err function with feature', 'Outlet_Size')\n",
      "no of elements is  9\n",
      "it si less\n",
      "('err mini is ', 99999999)\n",
      "('now in categorical_split_err function with feature', 'Outlet_Type')\n",
      "no of elements is  9\n",
      "('err mini is ', 99999999)\n",
      "('to be used is ', 'Outlet_Size', 'of value ', 2)\n",
      "('size dsataet left right ', 0, 9)\n",
      "{('Outlet_Type', 'Grocery Store'): 1, ('Outlet_Size', 'Medium'): 1, ('Outlet_Size', 2): 1}\n",
      "------------------------------\n",
      "ans left is  nan\n",
      "sending for right node\n",
      "('now in categorical_split_err function with feature', 'Outlet_Type')\n",
      "no of elements is  9\n",
      "it si less\n",
      "('err mini is ', 99999999)\n",
      "('to be used is ', 'Outlet_Type', 'of value ', 2)\n",
      "('size dsataet left right ', 0, 9)\n",
      "{('Outlet_Type', 2): 1, ('Outlet_Type', 'Grocery Store'): 1, ('Outlet_Size', 'Medium'): 1, ('Outlet_Size', 2): 1}\n",
      "------------------------------\n",
      "ans left is  nan\n",
      "sending for right node\n",
      "('to be used is ', 'Outlet_Size', 'of value ', 7)\n",
      "unchanged\n",
      "sending for right node\n",
      "('to be used is ', 'Outlet_Size', 'of value ', 7)\n",
      "unchanged\n",
      "sending for right node\n",
      "('to be used is ', 'Outlet_Size', 'of value ', 7)\n",
      "unchanged\n"
     ]
    }
   ],
   "source": [
    "root = myTree()\n",
    "buildTree(root, data)"
   ]
  },
  {
   "cell_type": "code",
   "execution_count": 7,
   "metadata": {
    "collapsed": false
   },
   "outputs": [
    {
     "data": {
      "text/plain": [
       "<__main__.myTree instance at 0x7fcc4fd88d88>"
      ]
     },
     "execution_count": 7,
     "metadata": {},
     "output_type": "execute_result"
    }
   ],
   "source": [
    "root.left.left"
   ]
  },
  {
   "cell_type": "code",
   "execution_count": 9,
   "metadata": {
    "collapsed": false
   },
   "outputs": [],
   "source": [
    "def printTree(node, name='Root', tabMultiplier = 0):\n",
    "    if(node == None):\n",
    "        return\n",
    "    print(\"\\t\"*tabMultiplier),\n",
    "    print(name, \": \"),\n",
    "    tempDict = {\"feature\" : node.feature, \"value\" : node.value}\n",
    "    print(tempDict)\n",
    "    tabMultiplier+=1\n",
    "    printTree(node.left, 'Left', tabMultiplier)\n",
    "    printTree(node.right, 'Right', tabMultiplier)"
   ]
  },
  {
   "cell_type": "code",
   "execution_count": 10,
   "metadata": {
    "collapsed": false
   },
   "outputs": [
    {
     "name": "stdout",
     "output_type": "stream",
     "text": [
      " ('Root', ': ') {'feature': 'Outlet_Type', 'value': 'Grocery Store'}\n",
      "\t('Left', ': ') {'feature': 'Outlet_Size', 'value': 'Medium'}\n",
      "\t\t('Left', ': ') {'feature': 'Outlet_Size', 'value': 2}\n",
      "\t\t\t('Left', ': ') {'feature': None, 'value': None}\n",
      "\t\t\t('Right', ': ') {'feature': 'Outlet_Type', 'value': 2}\n",
      "\t\t\t\t('Left', ': ') {'feature': None, 'value': None}\n",
      "\t\t\t\t('Right', ': ') {'feature': 'Outlet_Size', 'value': 7}\n",
      "\t\t('Right', ': ') {'feature': 'Outlet_Size', 'value': 7}\n",
      "\t('Right', ': ') {'feature': 'Outlet_Size', 'value': 7}\n"
     ]
    }
   ],
   "source": [
    "printTree(root)"
   ]
  }
 ],
 "metadata": {
  "anaconda-cloud": {},
  "kernelspec": {
   "display_name": "Python [default]",
   "language": "python",
   "name": "python2"
  },
  "language_info": {
   "codemirror_mode": {
    "name": "ipython",
    "version": 2
   },
   "file_extension": ".py",
   "mimetype": "text/x-python",
   "name": "python",
   "nbconvert_exporter": "python",
   "pygments_lexer": "ipython2",
   "version": "2.7.12"
  }
 },
 "nbformat": 4,
 "nbformat_minor": 1
}
