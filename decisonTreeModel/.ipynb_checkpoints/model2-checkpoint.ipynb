{
 "cells": [
  {
   "cell_type": "code",
   "execution_count": 1,
   "metadata": {
    "collapsed": false
   },
   "outputs": [],
   "source": [
    "import pandas as pd\n",
    "import numpy as np\n",
    "%matplotlib inline"
   ]
  },
  {
   "cell_type": "code",
   "execution_count": 2,
   "metadata": {
    "collapsed": true
   },
   "outputs": [],
   "source": [
    "data = pd.read_csv('train.csv')\n",
    "data= data.drop(['Outlet_Identifier'],1)\n",
    "data= data.drop(['Item_Identifier'],1)\n",
    "for col in ['Item_Type', 'Outlet_Size', 'Outlet_Location_Type','Outlet_Type']:\n",
    "    data[col] = data[col].astype('category')\n",
    "cat_col = []\n",
    "for col in data:\n",
    "    if data[col].dtype.name == 'category':\n",
    "        cat_col.append(col)\n",
    "result = 'Item_Outlet_Sales'\n",
    "attrib_value_pair_used = {}"
   ]
  },
  {
   "cell_type": "code",
   "execution_count": 3,
   "metadata": {
    "collapsed": false
   },
   "outputs": [],
   "source": [
    "def categorical_split_err(dataset, feature):\n",
    "    minvar = 9999999999\n",
    "    err = 9999999999\n",
    "    \n",
    "    print('now in categorical_split_err function with feature', feature)\n",
    "    attrib_val = 0\n",
    "    used_val = 0\n",
    "    for val in dataset[feature].unique():\n",
    "            \n",
    "            if(  (feature,used_val) not in attrib_value_pair_used):\n",
    "                       \n",
    "                #print('trying val', val)\n",
    "                ds = dataset.loc[dataset[feature] == val]\n",
    "                var = np.var(ds[result])\n",
    "                #print('variance is ', var)\n",
    "                if(var < minvar):\n",
    "                    used_val  = val\n",
    "                    err = var\n",
    "                    minvar = var\n",
    "    \n",
    "    print('returning error of', err, feature, 'value to be', used_val)\n",
    "    \n",
    "    attrib_value_pair_used[(feature,used_val)] = 1\n",
    "    \n",
    "    return ({'error':err, 'attrib_value': used_val})"
   ]
  },
  {
   "cell_type": "code",
   "execution_count": 4,
   "metadata": {
    "collapsed": true
   },
   "outputs": [],
   "source": [
    "class myTree:\n",
    "    def __init__(self, feature = None ,value =None,  left = None, right = None ):\n",
    "        self.feature = feature\n",
    "        self.value  = value\n",
    "        self.left = left\n",
    "        self.right = right"
   ]
  },
  {
   "cell_type": "code",
   "execution_count": 5,
   "metadata": {
    "collapsed": false
   },
   "outputs": [],
   "source": [
    "x = 1\n",
    "def buildTree(node,dataset ):\n",
    "    global x\n",
    "    print('in build')\n",
    "    \n",
    "    mini = 9999999999\n",
    "    node.feature  = cat_col[0]\n",
    "    node.value  = 0\n",
    "    attrib_value = 0\n",
    "    col_used = cat_col[0]\n",
    "    \n",
    "    for col in cat_col:\n",
    "        print('sending', col ,'in categircal_error')\n",
    "        if(categorical_split_err(dataset, col)['error'] < mini):\n",
    "                mini = categorical_split_err(dataset, col)['error']\n",
    "                col_used = col\n",
    "                attrib_value = categorical_split_err(dataset, col)['attrib_value']\n",
    "                \n",
    "        node.feature =  col_used\n",
    "        node.value =  attrib_value\n",
    "    \n",
    "    print('to be used is ',node.feature,'of value ', node.value)\n",
    "    \n",
    "    \n",
    "    \n",
    "    node.left = myTree()\n",
    "    node.right = myTree()\n",
    "    \n",
    "    dataset_left = dataset.loc[dataset[col] == attrib_value]\n",
    "    dataset_right = dataset.loc[dataset[col] != attrib_value]\n",
    "    print('size of dsataet left',len(dataset_left.index))\n",
    "    print('size of dsataet right',len(dataset_right.index))\n",
    "    \n",
    "    if (len(dataset_left.index) < 1000 and len(dataset_right.index) < 150000):\n",
    "        print('cond true')\n",
    "        return(0); \n",
    "    \n",
    "    buildTree(node.left, dataset_left)\n",
    "    buildTree(node.right,dataset_right)\n",
    "    \n",
    "    "
   ]
  },
  {
   "cell_type": "code",
   "execution_count": 6,
   "metadata": {
    "collapsed": false
   },
   "outputs": [
    {
     "name": "stdout",
     "output_type": "stream",
     "text": [
      "in build\n",
      "('sending', 'Item_Type', 'in categircal_error')\n",
      "('now in categorical_split_err function with feature', 'Item_Type')\n",
      "('returning error of', 2038092.9028506174, 'Item_Type', 'value to be', 'Others')\n",
      "('now in categorical_split_err function with feature', 'Item_Type')\n",
      "('returning error of', 2038092.9028506174, 'Item_Type', 'value to be', 'Others')\n",
      "('now in categorical_split_err function with feature', 'Item_Type')\n",
      "('returning error of', 2038092.9028506174, 'Item_Type', 'value to be', 'Others')\n",
      "('sending', 'Outlet_Size', 'in categircal_error')\n",
      "('now in categorical_split_err function with feature', 'Outlet_Size')\n",
      "('returning error of', 2349196.0602805945, 'Outlet_Size', 'value to be', 'High')\n",
      "('sending', 'Outlet_Location_Type', 'in categircal_error')\n",
      "('now in categorical_split_err function with feature', 'Outlet_Location_Type')\n",
      "('returning error of', 2311222.485443711, 'Outlet_Location_Type', 'value to be', 'Tier 2')\n",
      "('sending', 'Outlet_Type', 'in categircal_error')\n",
      "('now in categorical_split_err function with feature', 'Outlet_Type')\n",
      "('returning error of', 67980.71885917381, 'Outlet_Type', 'value to be', 'Grocery Store')\n",
      "('now in categorical_split_err function with feature', 'Outlet_Type')\n",
      "('returning error of', 67980.71885917381, 'Outlet_Type', 'value to be', 'Grocery Store')\n",
      "('now in categorical_split_err function with feature', 'Outlet_Type')\n",
      "('returning error of', 67980.71885917381, 'Outlet_Type', 'value to be', 'Grocery Store')\n",
      "('to be used is ', 'Outlet_Type', 'of value ', 'Grocery Store')\n",
      "('size of dsataet left', 1083)\n",
      "('size of dsataet right', 7440)\n",
      "cond true\n"
     ]
    },
    {
     "data": {
      "text/plain": [
       "0"
      ]
     },
     "execution_count": 6,
     "metadata": {},
     "output_type": "execute_result"
    }
   ],
   "source": [
    "root = myTree()\n",
    "buildTree(root, data)"
   ]
  },
  {
   "cell_type": "code",
   "execution_count": 1,
   "metadata": {
    "collapsed": false
   },
   "outputs": [
    {
     "ename": "NameError",
     "evalue": "name 'data' is not defined",
     "output_type": "error",
     "traceback": [
      "\u001b[0;31m---------------------------------------------------------------------------\u001b[0m",
      "\u001b[0;31mNameError\u001b[0m                                 Traceback (most recent call last)",
      "\u001b[0;32m<ipython-input-1-67a14040dcfc>\u001b[0m in \u001b[0;36m<module>\u001b[0;34m()\u001b[0m\n\u001b[0;32m----> 1\u001b[0;31m \u001b[0mdata\u001b[0m\u001b[0;34m[\u001b[0m\u001b[0;34m:\u001b[0m\u001b[0;36m5\u001b[0m\u001b[0;34m]\u001b[0m\u001b[0;34m\u001b[0m\u001b[0m\n\u001b[0m",
      "\u001b[0;31mNameError\u001b[0m: name 'data' is not defined"
     ]
    }
   ],
   "source": [
    "data[:5]"
   ]
  }
 ],
 "metadata": {
  "anaconda-cloud": {},
  "kernelspec": {
   "display_name": "Python [default]",
   "language": "python",
   "name": "python2"
  },
  "language_info": {
   "codemirror_mode": {
    "name": "ipython",
    "version": 2
   },
   "file_extension": ".py",
   "mimetype": "text/x-python",
   "name": "python",
   "nbconvert_exporter": "python",
   "pygments_lexer": "ipython2",
   "version": "2.7.12"
  }
 },
 "nbformat": 4,
 "nbformat_minor": 1
}
