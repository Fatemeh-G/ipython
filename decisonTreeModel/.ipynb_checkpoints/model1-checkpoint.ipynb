{
 "cells": [
  {
   "cell_type": "code",
   "execution_count": 65,
   "metadata": {
    "collapsed": false
   },
   "outputs": [
    {
     "data": {
      "text/plain": [
       "'\\n#!/usr/bin/env python\\nclass Tree(object):\\n    def __init__(self):\\n        self.left = None\\n        self.child = []\\n        self.data = []\\n \\n    def createChildren(self,amount):\\n\\tfor i in range(0,amount):\\n            self.child.append(Tree())\\n \\n    def setChildrenValues(self,list):\\n        for i in range(0,len(list)):\\n            self.data.append(list[i])\\n \\nroot = Tree()\\nroot.createChildren(3)\\nroot.setChildrenValues([5,6,7]) \\n \\nroot.child[0].createChildren(2)\\nroot.child[0].setChildrenValues([1,2])\\n \\n# print some values in the tree\\nprint(root.data[0])\\nprint(root.child[0].data[0])\\n'"
      ]
     },
     "execution_count": 65,
     "metadata": {},
     "output_type": "execute_result"
    }
   ],
   "source": [
    "'''\n",
    "#!/usr/bin/env python\n",
    "class Tree(object):\n",
    "    def __init__(self):\n",
    "        self.left = None\n",
    "        self.child = []\n",
    "        self.data = []\n",
    " \n",
    "    def createChildren(self,amount):\n",
    "\tfor i in range(0,amount):\n",
    "            self.child.append(Tree())\n",
    " \n",
    "    def setChildrenValues(self,list):\n",
    "        for i in range(0,len(list)):\n",
    "            self.data.append(list[i])\n",
    " \n",
    "root = Tree()\n",
    "root.createChildren(3)\n",
    "root.setChildrenValues([5,6,7]) \n",
    " \n",
    "root.child[0].createChildren(2)\n",
    "root.child[0].setChildrenValues([1,2])\n",
    " \n",
    "# print some values in the tree\n",
    "print(root.data[0])\n",
    "print(root.child[0].data[0])\n",
    "'''"
   ]
  },
  {
   "cell_type": "code",
   "execution_count": 66,
   "metadata": {
    "collapsed": false
   },
   "outputs": [
    {
     "name": "stdout",
     "output_type": "stream",
     "text": [
      "Couldn't import dot_parser, loading of dot files will not be possible.\n"
     ]
    }
   ],
   "source": [
    "import pandas as pd\n",
    "import numpy as np\n",
    "import matplotlib.pyplot as plt\n",
    "import matplotlib.pyplot as plt \n",
    "%matplotlib inline\n",
    "from sklearn.cross_validation import KFold \n",
    "import sklearn\n",
    "from sklearn import metrics\n",
    "import sklearn.tree\n",
    "from sklearn import tree \n",
    "from sklearn.linear_model import LogisticRegression\n",
    "from sklearn.tree import DecisionTreeClassifier\n",
    "from IPython.display import Image\n",
    "import pydot"
   ]
  },
  {
   "cell_type": "code",
   "execution_count": 67,
   "metadata": {
    "collapsed": true
   },
   "outputs": [],
   "source": [
    "data = pd.read_csv('train.csv')"
   ]
  },
  {
   "cell_type": "code",
   "execution_count": 68,
   "metadata": {
    "collapsed": false
   },
   "outputs": [
    {
     "data": {
      "text/html": [
       "<div>\n",
       "<table border=\"1\" class=\"dataframe\">\n",
       "  <thead>\n",
       "    <tr style=\"text-align: right;\">\n",
       "      <th></th>\n",
       "      <th>Item_Identifier</th>\n",
       "      <th>Item_Weight</th>\n",
       "      <th>Item_Fat_Content</th>\n",
       "      <th>Item_Visibility</th>\n",
       "      <th>Item_Type</th>\n",
       "      <th>Item_MRP</th>\n",
       "      <th>Outlet_Identifier</th>\n",
       "      <th>Outlet_Establishment_Year</th>\n",
       "      <th>Outlet_Size</th>\n",
       "      <th>Outlet_Location_Type</th>\n",
       "      <th>Outlet_Type</th>\n",
       "      <th>Item_Outlet_Sales</th>\n",
       "    </tr>\n",
       "  </thead>\n",
       "  <tbody>\n",
       "    <tr>\n",
       "      <th>0</th>\n",
       "      <td>FDA15</td>\n",
       "      <td>9.30</td>\n",
       "      <td>Low Fat</td>\n",
       "      <td>0.016047</td>\n",
       "      <td>Dairy</td>\n",
       "      <td>249.8092</td>\n",
       "      <td>OUT049</td>\n",
       "      <td>1999</td>\n",
       "      <td>Medium</td>\n",
       "      <td>Tier 1</td>\n",
       "      <td>Supermarket Type1</td>\n",
       "      <td>3735.1380</td>\n",
       "    </tr>\n",
       "    <tr>\n",
       "      <th>1</th>\n",
       "      <td>DRC01</td>\n",
       "      <td>5.92</td>\n",
       "      <td>Regular</td>\n",
       "      <td>0.019278</td>\n",
       "      <td>Soft Drinks</td>\n",
       "      <td>48.2692</td>\n",
       "      <td>OUT018</td>\n",
       "      <td>2009</td>\n",
       "      <td>Medium</td>\n",
       "      <td>Tier 3</td>\n",
       "      <td>Supermarket Type2</td>\n",
       "      <td>443.4228</td>\n",
       "    </tr>\n",
       "    <tr>\n",
       "      <th>2</th>\n",
       "      <td>FDN15</td>\n",
       "      <td>17.50</td>\n",
       "      <td>Low Fat</td>\n",
       "      <td>0.016760</td>\n",
       "      <td>Meat</td>\n",
       "      <td>141.6180</td>\n",
       "      <td>OUT049</td>\n",
       "      <td>1999</td>\n",
       "      <td>Medium</td>\n",
       "      <td>Tier 1</td>\n",
       "      <td>Supermarket Type1</td>\n",
       "      <td>2097.2700</td>\n",
       "    </tr>\n",
       "    <tr>\n",
       "      <th>3</th>\n",
       "      <td>FDX07</td>\n",
       "      <td>19.20</td>\n",
       "      <td>Regular</td>\n",
       "      <td>0.000000</td>\n",
       "      <td>Fruits and Vegetables</td>\n",
       "      <td>182.0950</td>\n",
       "      <td>OUT010</td>\n",
       "      <td>1998</td>\n",
       "      <td>NaN</td>\n",
       "      <td>Tier 3</td>\n",
       "      <td>Grocery Store</td>\n",
       "      <td>732.3800</td>\n",
       "    </tr>\n",
       "    <tr>\n",
       "      <th>4</th>\n",
       "      <td>NCD19</td>\n",
       "      <td>8.93</td>\n",
       "      <td>Low Fat</td>\n",
       "      <td>0.000000</td>\n",
       "      <td>Household</td>\n",
       "      <td>53.8614</td>\n",
       "      <td>OUT013</td>\n",
       "      <td>1987</td>\n",
       "      <td>High</td>\n",
       "      <td>Tier 3</td>\n",
       "      <td>Supermarket Type1</td>\n",
       "      <td>994.7052</td>\n",
       "    </tr>\n",
       "  </tbody>\n",
       "</table>\n",
       "</div>"
      ],
      "text/plain": [
       "  Item_Identifier  Item_Weight Item_Fat_Content  Item_Visibility  \\\n",
       "0           FDA15         9.30          Low Fat         0.016047   \n",
       "1           DRC01         5.92          Regular         0.019278   \n",
       "2           FDN15        17.50          Low Fat         0.016760   \n",
       "3           FDX07        19.20          Regular         0.000000   \n",
       "4           NCD19         8.93          Low Fat         0.000000   \n",
       "\n",
       "               Item_Type  Item_MRP Outlet_Identifier  \\\n",
       "0                  Dairy  249.8092            OUT049   \n",
       "1            Soft Drinks   48.2692            OUT018   \n",
       "2                   Meat  141.6180            OUT049   \n",
       "3  Fruits and Vegetables  182.0950            OUT010   \n",
       "4              Household   53.8614            OUT013   \n",
       "\n",
       "   Outlet_Establishment_Year Outlet_Size Outlet_Location_Type  \\\n",
       "0                       1999      Medium               Tier 1   \n",
       "1                       2009      Medium               Tier 3   \n",
       "2                       1999      Medium               Tier 1   \n",
       "3                       1998         NaN               Tier 3   \n",
       "4                       1987        High               Tier 3   \n",
       "\n",
       "         Outlet_Type  Item_Outlet_Sales  \n",
       "0  Supermarket Type1          3735.1380  \n",
       "1  Supermarket Type2           443.4228  \n",
       "2  Supermarket Type1          2097.2700  \n",
       "3      Grocery Store           732.3800  \n",
       "4  Supermarket Type1           994.7052  "
      ]
     },
     "execution_count": 68,
     "metadata": {},
     "output_type": "execute_result"
    }
   ],
   "source": [
    "data[:5]"
   ]
  },
  {
   "cell_type": "code",
   "execution_count": 69,
   "metadata": {
    "collapsed": false
   },
   "outputs": [],
   "source": [
    "data= data.drop(['Outlet_Identifier'],1)\n",
    "data= data.drop(['Item_Identifier'],1)"
   ]
  },
  {
   "cell_type": "code",
   "execution_count": 70,
   "metadata": {
    "collapsed": true
   },
   "outputs": [],
   "source": [
    "for col in ['Item_Type', 'Outlet_Size', 'Outlet_Location_Type','Outlet_Type']:\n",
    "    data[col] = data[col].astype('category')\n"
   ]
  },
  {
   "cell_type": "code",
   "execution_count": 71,
   "metadata": {
    "collapsed": false
   },
   "outputs": [],
   "source": [
    "cat_col = []\n",
    "for col in data:\n",
    "    if data[col].dtype.name == 'category':\n",
    "        cat_col.append(col)\n",
    "        "
   ]
  },
  {
   "cell_type": "code",
   "execution_count": 72,
   "metadata": {
    "collapsed": false
   },
   "outputs": [
    {
     "data": {
      "text/plain": [
       "['Item_Type', 'Outlet_Size', 'Outlet_Location_Type', 'Outlet_Type']"
      ]
     },
     "execution_count": 72,
     "metadata": {},
     "output_type": "execute_result"
    }
   ],
   "source": [
    "cat_col"
   ]
  },
  {
   "cell_type": "code",
   "execution_count": 73,
   "metadata": {
    "collapsed": true
   },
   "outputs": [],
   "source": [
    "def categorical_split_err(dataset, feature):\n",
    "    totalsize = dataset.lenght \n",
    "    countVals  = dataet[feature].value_counts()\n",
    "    \n",
    "    ds= dataset.groupby(attribute)\n",
    "    \n",
    "    for val in dataset[feature].unique:\n",
    "        countInBin = dataset['feature']==val.count()\n",
    "        variance = np.variance(dataset['feature']==val.count())\n",
    "        err = err+ countInBin*variance \n",
    "    \n",
    "    featureError = err/totalsize\n",
    "    return(featureErrorcat)\n",
    "    return {'error':featureErrorcat, 'attrib_value':y1 }\n"
   ]
  },
  {
   "cell_type": "code",
   "execution_count": 80,
   "metadata": {
    "collapsed": false
   },
   "outputs": [],
   "source": [
    "def split():\n",
    "    for col in cat_col:\n",
    "        if(used[col] == 0):\n",
    "            if(categorical_split_err(dataset, col) < mini):\n",
    "                mini = categorical_split_err(dataset, col)\n",
    "                col_in_use = col\n",
    "        used[col_in_use] = 1\n",
    "        dectree.left.append(mytree, col)\n",
    "    "
   ]
  },
  {
   "cell_type": "code",
   "execution_count": 78,
   "metadata": {
    "collapsed": false
   },
   "outputs": [],
   "source": [
    "class myTree:\n",
    "    def __init__(self, feature = None ,value =None,  left = None, right = None ):\n",
    "        self.feature = feature\n",
    "        self.value  = value\n",
    "        self.left = left\n",
    "        self.right = right"
   ]
  },
  {
   "cell_type": "code",
   "execution_count": 79,
   "metadata": {
    "collapsed": false
   },
   "outputs": [],
   "source": [
    "combined_dataset = data\n",
    "cat_col  = []\n",
    "    for col in combined_dataset:\n",
    "        if combined_dataset[col].dtype.name == 'category':\n",
    "            cat_col.append(col)\n",
    "        \n",
    "    \n",
    "    for col in cat_col:\n",
    "        if(catel_split_err(dataset, col) < mini):\n",
    "            mini = categoricagorical_split_err(dataset, col)['error']\n",
    "            col_in_use = col\n",
    "            val = categorical_split_err(dataset, col)['attrib_value']\n",
    "    root.feature  =  col_in_use\n",
    "    root.value = val\n",
    "    "
   ]
  },
  {
   "cell_type": "code",
   "execution_count": 81,
   "metadata": {
    "collapsed": true
   },
   "outputs": [],
   "source": [
    "def buildTree(node, combined_dataset):\n",
    "    \n",
    "    \n",
    "    cat_col  = []\n",
    "    \n",
    "    for col in combined_dataset:\n",
    "        if combined_dataset[col].dtype.name == 'category':\n",
    "            cat_col.append(col)\n",
    "        \n",
    "    \n",
    "    for col in cat_col:\n",
    "        if(categorical_split_err(dataset, col) < mini):\n",
    "            mini = categorical_split_err(dataset, col)['error']\n",
    "            col_in_use = col\n",
    "            val = categorical_split_err(dataset, col)['attrib_value']\n",
    "        \n",
    "    \n",
    "    \n",
    "    dataset_true = combined_dataset.loc[combined_dataset['feature']  < col_in_use]\n",
    "    dataset_false = combined_dataset.loc[combined_dataset['feature']  > col_in_use]\n",
    "    \n",
    "    next_node = tree()\n",
    "    node.left  = buildTree( node.left, dataset_true)\n",
    "    node.right = buildTree(node.right, dataset_false)\n",
    "    "
   ]
  },
  {
   "cell_type": "code",
   "execution_count": null,
   "metadata": {
    "collapsed": true
   },
   "outputs": [],
   "source": [
    "root = myTree()\n",
    "buildTree(root)"
   ]
  }
 ],
 "metadata": {
  "anaconda-cloud": {},
  "kernelspec": {
   "display_name": "Python [default]",
   "language": "python",
   "name": "python2"
  },
  "language_info": {
   "codemirror_mode": {
    "name": "ipython",
    "version": 2
   },
   "file_extension": ".py",
   "mimetype": "text/x-python",
   "name": "python",
   "nbconvert_exporter": "python",
   "pygments_lexer": "ipython2",
   "version": "2.7.12"
  }
 },
 "nbformat": 4,
 "nbformat_minor": 1
}
